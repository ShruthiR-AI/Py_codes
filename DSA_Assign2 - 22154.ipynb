{
 "cells": [
  {
   "cell_type": "markdown",
   "id": "5e66dc5c",
   "metadata": {},
   "source": [
    "# DSA - II     _     Assignment:3     _     Shruthi.R      _     CB.EN.U4AIE22154"
   ]
  },
  {
   "cell_type": "code",
   "execution_count": 14,
   "id": "6e4b3dfe",
   "metadata": {},
   "outputs": [
    {
     "name": "stdout",
     "output_type": "stream",
     "text": [
      "Requirement already satisfied: scipy in d:\\anaconda\\lib\\site-packages (1.10.1)\n",
      "Requirement already satisfied: numpy in d:\\anaconda\\lib\\site-packages (1.26.2)\n",
      "Requirement already satisfied: pandas in d:\\anaconda\\lib\\site-packages (1.5.3)\n",
      "Requirement already satisfied: networkx in d:\\anaconda\\lib\\site-packages (3.1)\n",
      "Requirement already satisfied: python-dateutil>=2.8.1 in d:\\anaconda\\lib\\site-packages (from pandas) (2.8.2)\n",
      "Requirement already satisfied: pytz>=2020.1 in d:\\anaconda\\lib\\site-packages (from pandas) (2022.7)\n",
      "Requirement already satisfied: six>=1.5 in d:\\anaconda\\lib\\site-packages (from python-dateutil>=2.8.1->pandas) (1.16.0)\n",
      "Note: you may need to restart the kernel to use updated packages.\n"
     ]
    }
   ],
   "source": [
    "pip install scipy numpy pandas networkx"
   ]
  },
  {
   "cell_type": "markdown",
   "id": "554e5649",
   "metadata": {},
   "source": [
    "## 1. Implement CutHill-McKee algorithm for sparse matrices in Python"
   ]
  },
  {
   "cell_type": "code",
   "execution_count": 1,
   "id": "a3215437",
   "metadata": {},
   "outputs": [
    {
     "name": "stdout",
     "output_type": "stream",
     "text": [
      "Reordered indices: [4, 2, 0, 1, 3]\n"
     ]
    }
   ],
   "source": [
    "import numpy as np\n",
    "\n",
    "def cuthill_mckee(matrix):\n",
    "    n = matrix.shape[0]\n",
    "    degrees = np.array([np.count_nonzero(row) for row in matrix])\n",
    "    visited = np.zeros(n)\n",
    "    result = []\n",
    "    \n",
    "    def find_minimum():\n",
    "        min_degree = np.inf\n",
    "        min_idx = None\n",
    "        for i in range(n):\n",
    "            if visited[i] == 0 and degrees[i] < min_degree:\n",
    "                min_degree = degrees[i]\n",
    "                min_idx = i\n",
    "        return min_idx\n",
    "    \n",
    "    while len(result) < n:\n",
    "        start = find_minimum()\n",
    "        result.append(start)\n",
    "        visited[start] = 1\n",
    "        \n",
    "        neighbors = [(i, degrees[i]) for i in range(n) if matrix[start, i] and visited[i] == 0]\n",
    "        neighbors.sort(key=lambda x: x[1])\n",
    "        \n",
    "        for neighbor, _ in neighbors:\n",
    "            result.append(neighbor)\n",
    "            visited[neighbor] = 1\n",
    "    \n",
    "    return result\n",
    "\n",
    "sparse_matrix = np.array([\n",
    "    [0, 1, 0, 1, 0],\n",
    "    [1, 0, 1, 0, 0],\n",
    "    [0, 1, 0, 1, 1],\n",
    "    [1, 0, 1, 0, 0],\n",
    "    [0, 0, 1, 0, 0]\n",
    "])\n",
    "\n",
    "\n",
    "reordered_indices = cuthill_mckee(sparse_matrix)\n",
    "print(\"Reordered indices:\", reordered_indices)"
   ]
  },
  {
   "cell_type": "markdown",
   "id": "de4ed5b6",
   "metadata": {},
   "source": [
    "## 2. Create a custom matrix A of size 2n by 2n with the following structure."
   ]
  },
  {
   "cell_type": "markdown",
   "id": "1c410274",
   "metadata": {},
   "source": [
    "### a.The top left n by n block of is a diagonal matrix"
   ]
  },
  {
   "cell_type": "markdown",
   "id": "024e0f61",
   "metadata": {},
   "source": [
    "### b. The top right n by n block of is zero"
   ]
  },
  {
   "cell_type": "markdown",
   "id": "9940c009",
   "metadata": {},
   "source": [
    "### c. The bottom left n by n block of is zero"
   ]
  },
  {
   "cell_type": "markdown",
   "id": "ef57eba6",
   "metadata": {},
   "source": [
    "### d. The bottom right n by n block of is dense"
   ]
  },
  {
   "cell_type": "code",
   "execution_count": 3,
   "id": "9e3d1c08",
   "metadata": {},
   "outputs": [
    {
     "name": "stdout",
     "output_type": "stream",
     "text": [
      "Custom Matrix A:\n",
      "[[3. 0. 0. 0. 0. 0.]\n",
      " [0. 3. 0. 0. 0. 0.]\n",
      " [0. 0. 3. 0. 0. 0.]\n",
      " [0. 0. 0. 3. 3. 3.]\n",
      " [0. 0. 0. 3. 3. 3.]\n",
      " [0. 0. 0. 3. 3. 3.]]\n"
     ]
    }
   ],
   "source": [
    "import numpy as np\n",
    "def create_custom_matrix(n):\n",
    "    a = np.diag(n*np.ones(n))\n",
    "    b = np.zeros((n, n))\n",
    "    c = np.zeros((n, n))\n",
    "    d = n*np.ones((n,n))\n",
    " \n",
    "    top_row = np.concatenate((a, b), axis=1)\n",
    "    bottom_row = np.concatenate((c, d), axis=1)\n",
    "    custom_matrix = np.concatenate((top_row, bottom_row), axis=0)\n",
    "    return custom_matrix\n",
    "\n",
    "n_value = 3  \n",
    "\n",
    "custom_matrix = create_custom_matrix(n_value)\n",
    "print(\"Custom Matrix A:\")\n",
    "print(custom_matrix)"
   ]
  },
  {
   "cell_type": "markdown",
   "id": "b79495f2",
   "metadata": {},
   "source": [
    "## 3. Write a Python function for Cholesky factorization and use it for solving Ax=b, where A is the 2n by 2n matrix given above, and b is a random vector."
   ]
  },
  {
   "cell_type": "code",
   "execution_count": 10,
   "id": "021ce50b",
   "metadata": {},
   "outputs": [
    {
     "name": "stdout",
     "output_type": "stream",
     "text": [
      "Matrix A:\n",
      "[[2. 0. 0. 0.]\n",
      " [0. 2. 0. 0.]\n",
      " [0. 0. 2. 2.]\n",
      " [0. 0. 2. 2.]]\n",
      "\n",
      "Vector b:\n",
      "[0.8231269  0.18483101 0.18776308 0.54501352]\n",
      "\n",
      "Solution x:\n",
      "[ 4.11563450e-01  9.24155062e-02 -8.04456469e+14  8.04456469e+14]\n"
     ]
    }
   ],
   "source": [
    "import numpy as np\n",
    "\n",
    "def cholesky_factorization(A):\n",
    "    n = A.shape[0]\n",
    "    L = np.zeros_like(A)\n",
    "\n",
    "    for i in range(n):\n",
    "        for j in range(i+1):\n",
    "            if i == j:\n",
    "                temp_sum = np.sum(L[i][:j]**2)\n",
    "                L[i][j] = np.sqrt(A[i][i] - temp_sum)\n",
    "            else:\n",
    "                temp_sum = np.sum(L[i][:j] * L[j][:j])\n",
    "                L[i][j] = (A[i][j] - temp_sum) / L[j][j]\n",
    "\n",
    "    return L\n",
    "\n",
    "def solve_cholesky(A, b):\n",
    "    L = cholesky_factorization(A)\n",
    "    y = np.linalg.solve(L, b)\n",
    "    x = np.linalg.solve(L.T, y)\n",
    "    return x\n",
    "\n",
    "n_value = 2  \n",
    "\n",
    "def create_custom_matrix(n):\n",
    "    a = np.diag(n*np.ones(n))\n",
    "    b = np.zeros((n, n))\n",
    "    c = np.zeros((n, n))\n",
    "    d = n*np.ones((n,n))\n",
    " \n",
    "    top_row = np.concatenate((a, b), axis=1)\n",
    "    bottom_row = np.concatenate((c, d), axis=1)\n",
    "    custom_matrix = np.concatenate((top_row, bottom_row), axis=0)\n",
    "    return custom_matrix\n",
    "\n",
    "\n",
    "matrix_A = create_custom_matrix(n_value)\n",
    "\n",
    "vector_b = np.random.rand(2 * n_value)\n",
    "\n",
    "solution_x = solve_cholesky(matrix_A, vector_b)\n",
    "\n",
    "print(\"Matrix A:\")\n",
    "print(matrix_A)\n",
    "print(\"\\nVector b:\")\n",
    "print(vector_b)\n",
    "print(\"\\nSolution x:\")\n",
    "print(solution_x)"
   ]
  },
  {
   "cell_type": "markdown",
   "id": "06d4644b",
   "metadata": {},
   "source": [
    "## 4. Use the 1138_bus data from https://sparse.tamu.edu/ and convert it into a band matrix using the CutHill-McKee algorithm."
   ]
  },
  {
   "cell_type": "code",
   "execution_count": 20,
   "id": "bbd49fff",
   "metadata": {},
   "outputs": [
    {
     "name": "stdout",
     "output_type": "stream",
     "text": [
      "Bandwidth of the original matrix: 1031\n"
     ]
    },
    {
     "data": {
      "image/png": "[encoded data removed]",
      "text/plain": [
       "<Figure size 1200x500 with 2 Axes>"
      ]
     },
     "metadata": {},
     "output_type": "display_data"
    }
   ],
   "source": [
    "import scipy.io\n",
    "import numpy as np\n",
    "from scipy.sparse.csgraph import reverse_cuthill_mckee\n",
    "import matplotlib.pyplot as plt\n",
    "\n",
    "# Load the matrix from the MAT file\n",
    "mat_data = scipy.io.loadmat('C:\\\\Users\\\\shrut\\\\OneDrive\\\\Desktop\\\\1138_bus.mat')\n",
    "B = mat_data['Problem']['A'][0, 0]\n",
    "\n",
    "# Visualize the original matrix\n",
    "plt.figure(figsize=(12, 5))\n",
    "plt.subplot(1, 2, 1)\n",
    "plt.spy(B, markersize=1)\n",
    "plt.title('B')\n",
    "\n",
    "# Perform symmetric reverse Cuthill-McKee (RCM) reordering\n",
    "p = reverse_cuthill_mckee(B)\n",
    "R = B[:, p][p, :]\n",
    "\n",
    "# Visualize the reordered matrix\n",
    "plt.subplot(1, 2, 2)\n",
    "plt.spy(R, markersize=1)\n",
    "plt.title('B(p,p)')\n",
    "\n",
    "# Find non-zero elements in the original matrix\n",
    "i, j = B.nonzero()\n",
    "# Compute bandwidth of the original matrix\n",
    "bw = max(i - j) + 1\n",
    "print(f\"Bandwidth of the original matrix: {bw}\")\n",
    "\n",
    "plt.show()\n"
   ]
  },
  {
   "cell_type": "markdown",
   "id": "3d5e7332",
   "metadata": {},
   "source": [
    "## 5. Create sparse matrices of size 5000 by 5000 with different levels of sparsity – 10%, 20% and 50%. Compute the time taken by the following algorithms to solve Ax = b, where A is a sparse matrix, and b is a random vector."
   ]
  },
  {
   "cell_type": "markdown",
   "id": "d7ad82aa",
   "metadata": {},
   "source": [
    "### a. Cholesky factorization"
   ]
  },
  {
   "cell_type": "code",
   "execution_count": 5,
   "id": "e10dd166",
   "metadata": {},
   "outputs": [
    {
     "name": "stdout",
     "output_type": "stream",
     "text": [
      "Sparsity:10%, Time taken for Cholesky factorization: 116.1264 seconds\n",
      "Sparsity:20%, Time taken for Cholesky factorization: 120.2594 seconds\n",
      "Sparsity:50%, Time taken for Cholesky factorization: 84.5311 seconds\n"
     ]
    }
   ],
   "source": [
    "import numpy as np\n",
    "from scipy.sparse import random, diags\n",
    "from scipy.sparse.linalg import spsolve\n",
    "from scipy.linalg import cholesky\n",
    "from time import time\n",
    "\n",
    "def generate_sparse_positive_definite(size, sparsity):\n",
    "    density = sparsity / 100.0\n",
    "    diagonals = np.random.rand(size)\n",
    "    A = diags(diagonals, 0, format='csr')\n",
    "    return A\n",
    "\n",
    "sparsematrix10=generate_sparse_positive_definite(5000, 10)\n",
    "sparsematrix20=generate_sparse_positive_definite(5000, 20)\n",
    "sparsematrix50=generate_sparse_positive_definite(5000, 50)\n",
    "\n",
    "try:\n",
    "    start_time = time()\n",
    "    L = cholesky(sparsematrix10.toarray(), lower=True)\n",
    "    b = np.random.rand(5000)\n",
    "    x = np.linalg.solve(L.T, np.linalg.solve(L, b))\n",
    "    end_time = time()\n",
    "    elapsed_time = end_time - start_time\n",
    "    print(f\"Sparsity:10%, Time taken for Cholesky factorization: {elapsed_time:.4f} seconds\")\n",
    "except np.linalg.LinAlgError as e:\n",
    "    print(f\"Sparsity:10%, Cholesky factorization failed: {e}\")\n",
    "\n",
    "try:\n",
    "    start_time = time()\n",
    "    L = cholesky(sparsematrix20.toarray(), lower=True)\n",
    "    b = np.random.rand(5000)\n",
    "    x = np.linalg.solve(L.T, np.linalg.solve(L, b))\n",
    "    end_time = time()\n",
    "    elapsed_time = end_time - start_time\n",
    "    print(f\"Sparsity:20%, Time taken for Cholesky factorization: {elapsed_time:.4f} seconds\")\n",
    "except np.linalg.LinAlgError as e:\n",
    "    print(f\"Sparsity:20%, Cholesky factorization failed: {e}\")\n",
    "\n",
    "try:\n",
    "    start_time = time()\n",
    "    L = cholesky(sparsematrix50.toarray(), lower=True)\n",
    "    b = np.random.rand(5000)\n",
    "    x = np.linalg.solve(L.T, np.linalg.solve(L, b))\n",
    "    end_time = time()\n",
    "    elapsed_time = end_time - start_time\n",
    "    print(f\"Sparsity:50%, Time taken for Cholesky factorization: {elapsed_time:.4f} seconds\")\n",
    "except np.linalg.LinAlgError as e:\n",
    "    print(f\"Sparsity:50%, Cholesky factorization failed: {e}\")"
   ]
  },
  {
   "cell_type": "markdown",
   "id": "1d8c37c4",
   "metadata": {},
   "source": [
    "### b. LU decomposition"
   ]
  },
  {
   "cell_type": "code",
   "execution_count": 3,
   "id": "2db3e4e4",
   "metadata": {},
   "outputs": [
    {
     "name": "stderr",
     "output_type": "stream",
     "text": [
      "D:\\Anaconda\\Lib\\site-packages\\scipy\\sparse\\linalg\\_dsolve\\linsolve.py:394: SparseEfficiencyWarning: splu converted its input to CSC format\n",
      "  warn('splu converted its input to CSC format', SparseEfficiencyWarning)\n"
     ]
    },
    {
     "name": "stdout",
     "output_type": "stream",
     "text": [
      "Sparsity: 10%, Time taken by LU decomposition: 0.03130626678466797 seconds\n",
      "Sparsity: 20%, Time taken by LU decomposition: 0.03198838233947754 seconds\n",
      "Sparsity: 50%, Time taken by LU decomposition: 0.05016517639160156 seconds\n"
     ]
    }
   ],
   "source": [
    "import numpy as np\n",
    "from scipy.sparse import random\n",
    "from scipy.sparse.linalg import splu\n",
    "from scipy.sparse.linalg import spsolve\n",
    "from time import time\n",
    "\n",
    "# Function to generate sparse matrices of specific size and sparsity\n",
    "def generate_sparse_matrix(size, sparsity):\n",
    "    density = sparsity / 100.0\n",
    "    return random(size, size, density=density, format='csr')\n",
    "\n",
    "# Define matrix size\n",
    "matrix_size = 5000\n",
    "\n",
    "# Generate random vector b\n",
    "vector_b = np.random.rand(matrix_size)\n",
    "\n",
    "# Iterate over different sparsity levels (10%, 20%, and 50%)\n",
    "sparsity_levels = [10, 20, 50]\n",
    "\n",
    "for sparsity in sparsity_levels:\n",
    "    sparse_matrix = generate_sparse_matrix(matrix_size, sparsity)\n",
    "    \n",
    "    # Perform LU decomposition\n",
    "    lu_decomp = splu(sparse_matrix)\n",
    "    \n",
    "    # Measure time taken by solving Ax = b using LU decomposition\n",
    "    start_time = time()\n",
    "    x = lu_decomp.solve(vector_b)\n",
    "    end_time = time()\n",
    "    \n",
    "    time_taken = end_time - start_time\n",
    "    print(f\"Sparsity: {sparsity}%, Time taken by LU decomposition: {time_taken} seconds\")"
   ]
  },
  {
   "cell_type": "markdown",
   "id": "cf7b2a87",
   "metadata": {},
   "source": [
    "### c. QR decomposition "
   ]
  },
  {
   "cell_type": "code",
   "execution_count": 2,
   "id": "74b8f8b7",
   "metadata": {},
   "outputs": [
    {
     "name": "stderr",
     "output_type": "stream",
     "text": [
      "D:\\Anaconda\\Lib\\site-packages\\scipy\\sparse\\linalg\\_dsolve\\linsolve.py:214: SparseEfficiencyWarning: spsolve requires A be CSC or CSR matrix format\n",
      "  warn('spsolve requires A be CSC or CSR matrix format',\n"
     ]
    },
    {
     "name": "stdout",
     "output_type": "stream",
     "text": [
      "Sparsity: 10%, Time taken by QR decomposition: 0.6800682544708252 seconds\n",
      "Sparsity: 20%, Time taken by QR decomposition: 0.6186895370483398 seconds\n",
      "Sparsity: 50%, Time taken by QR decomposition: 0.590721845626831 seconds\n"
     ]
    }
   ],
   "source": [
    "import numpy as np\n",
    "from scipy.sparse import random\n",
    "from scipy.linalg import qr as dense_qr\n",
    "from scipy.sparse.linalg import spsolve\n",
    "from time import time\n",
    "\n",
    "# Function to generate sparse matrices of specific size and sparsity\n",
    "def generate_sparse_matrix(size, sparsity):\n",
    "    density = sparsity / 100.0\n",
    "    return random(size, size, density=density, format='csr')\n",
    "\n",
    "# Define matrix size\n",
    "matrix_size = 5000\n",
    "\n",
    "# Generate random vector b\n",
    "vector_b = np.random.rand(matrix_size)\n",
    "\n",
    "# Iterate over different sparsity levels (10%, 20%, and 50%)\n",
    "sparsity_levels = [10, 20, 50]\n",
    "\n",
    "for sparsity in sparsity_levels:\n",
    "    sparse_matrix = generate_sparse_matrix(matrix_size, sparsity)\n",
    "    \n",
    "    # Convert sparse matrix to a dense matrix for QR decomposition\n",
    "    dense_matrix = sparse_matrix.todense()\n",
    "    \n",
    "    # Perform QR decomposition for dense matrix\n",
    "    Q, R = dense_qr(dense_matrix)\n",
    "    \n",
    "    # Measure time taken by solving Ax = b using QR decomposition\n",
    "    start_time = time()\n",
    "    x = spsolve(R, Q.T.dot(vector_b))\n",
    "    end_time = time()\n",
    "    \n",
    "    time_taken = end_time - start_time\n",
    "    print(f\"Sparsity: {sparsity}%, Time taken by QR decomposition: {time_taken} seconds\")"
   ]
  },
  {
   "cell_type": "markdown",
   "id": "535682eb",
   "metadata": {},
   "source": [
    "### d. Singular Value Decomposition"
   ]
  },
  {
   "cell_type": "code",
   "execution_count": 1,
   "id": "6449d913",
   "metadata": {},
   "outputs": [
    {
     "name": "stdout",
     "output_type": "stream",
     "text": [
      "Sparsity: 10%, Time taken by SVD: 1.9337353706359863 seconds\n",
      "Sparsity: 20%, Time taken by SVD: 2.8792316913604736 seconds\n",
      "Sparsity: 50%, Time taken by SVD: 7.519641399383545 seconds\n"
     ]
    }
   ],
   "source": [
    "import numpy as np\n",
    "from scipy.sparse import random\n",
    "from scipy.sparse.linalg import svds\n",
    "from time import time\n",
    "\n",
    "# Function to generate sparse matrices of specific size and sparsity\n",
    "def generate_sparse_matrix(size, sparsity):\n",
    "    density = sparsity / 100.0\n",
    "    return random(size, size, density=density, format='csr')\n",
    "\n",
    "# Define matrix size\n",
    "matrix_size = 5000\n",
    "\n",
    "# Generate random vector b\n",
    "vector_b = np.random.rand(matrix_size)\n",
    "\n",
    "# Iterate over different sparsity levels (10%, 20%, and 50%)\n",
    "sparsity_levels = [10, 20, 50]\n",
    "\n",
    "for sparsity in sparsity_levels:\n",
    "    sparse_matrix = generate_sparse_matrix(matrix_size, sparsity)\n",
    "    \n",
    "    # Perform Singular Value Decomposition\n",
    "    start_time = time()\n",
    "    U, S, Vt = svds(sparse_matrix)\n",
    "    end_time = time()\n",
    "    \n",
    "    # Reconstruct the original matrix from SVD\n",
    "    reconstructed_matrix = U.dot(np.diag(S).dot(Vt))\n",
    "    \n",
    "    # Measure time taken by solving Ax = b using the reconstructed matrix\n",
    "    start_time_solve = time()\n",
    "    x = np.linalg.solve(reconstructed_matrix, vector_b)\n",
    "    end_time_solve = time()\n",
    "    \n",
    "    time_taken = end_time - start_time + (end_time_solve - start_time_solve)\n",
    "    print(f\"Sparsity: {sparsity}%, Time taken by SVD: {time_taken} seconds\")"
   ]
  }
 ],
 "metadata": {
  "kernelspec": {
   "display_name": "Python 3 (ipykernel)",
   "language": "python",
   "name": "python3"
  },
  "language_info": {
   "codemirror_mode": {
    "name": "ipython",
    "version": 3
   },
   "file_extension": ".py",
   "mimetype": "text/x-python",
   "name": "python",
   "nbconvert_exporter": "python",
   "pygments_lexer": "ipython3",
   "version": "3.11.4"
  }
 },
 "nbformat": 4,
 "nbformat_minor": 5
}
