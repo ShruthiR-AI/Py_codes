{
 "cells": [
  {
   "cell_type": "code",
   "execution_count": 2,
   "id": "c671ffdb",
   "metadata": {},
   "outputs": [
    {
     "name": "stdout",
     "output_type": "stream",
     "text": [
      "Enter a string: SHRUTHI\n",
      "Enter a location (index): 2\n",
      "Updated List: ['S', 'H', 'U', 'T', 'H', 'I']\n"
     ]
    }
   ],
   "source": [
    "input_string = input(\"Enter a string: \")  # Prompt the user to enter a string.\n",
    "loc = int(input(\"Enter a location (index): \"))  # Prompt the user to enter an index (integer).\n",
    "\n",
    "# Convert the input string to a list of characters.\n",
    "l = list(input_string)\n",
    "\n",
    "# Check if the location (index) is valid.\n",
    "if loc < 0:\n",
    "    # If the index is negative, reverse the list and make it positive.\n",
    "    r = l[::-1]\n",
    "    loc = abs(loc)\n",
    "    \n",
    "    # Remove the character at the specified index.\n",
    "    if loc < len(r):\n",
    "        r.pop(loc)\n",
    "        print(\"Updated List:\", r)\n",
    "    else:\n",
    "        print(\"Invalid index.\")\n",
    "elif 0 <= loc < len(l):\n",
    "    # If the index is within the valid range, remove the character.\n",
    "    l.pop(loc)\n",
    "    print(\"Updated List:\", l)\n",
    "else:\n",
    "    print(\"Invalid index.\")\n"
   ]
  },
  {
   "cell_type": "code",
   "execution_count": 1,
   "id": "72bfebf7",
   "metadata": {},
   "outputs": [],
   "source": [
    "S = (\"Hel;lo *w:o!r;ld* de*ar!\")\n",
    "removed = []\n",
    "charac = ['abcdefghijklmnopqrstuvwxyz']\n",
    "s = S.lower()\n",
    "for char in S:\n",
    "    if char == charac:\n",
    "        removed.append(char)\n",
    "    else:\n",
    "        continue\n",
    "    print(removed)"
   ]
  },
  {
   "cell_type": "code",
   "execution_count": 2,
   "id": "80540d4e",
   "metadata": {},
   "outputs": [],
   "source": [
    "S = (\"Hel;lo *w:o!r;ld* de*ar!\")\n",
    "removed = []\n",
    "charac = ['abcdefghijklmnopqrstuvwxyz']\n",
    "s = S.lower()\n",
    "for char in S:\n",
    "    if char == charac:\n",
    "        removed.append(char)\n",
    "    else:\n",
    "        continue\n",
    "    print(removed)"
   ]
  },
  {
   "cell_type": "code",
   "execution_count": null,
   "id": "c3583010",
   "metadata": {},
   "outputs": [],
   "source": []
  }
 ],
 "metadata": {
  "kernelspec": {
   "display_name": "Python 3 (ipykernel)",
   "language": "python",
   "name": "python3"
  },
  "language_info": {
   "codemirror_mode": {
    "name": "ipython",
    "version": 3
   },
   "file_extension": ".py",
   "mimetype": "text/x-python",
   "name": "python",
   "nbconvert_exporter": "python",
   "pygments_lexer": "ipython3",
   "version": "3.11.4"
  }
 },
 "nbformat": 4,
 "nbformat_minor": 5
}
