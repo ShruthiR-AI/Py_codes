{
 "cells": [
  {
   "cell_type": "markdown",
   "id": "d0f7cc44-6095-40cd-a0ba-02c28779d8b3",
   "metadata": {},
   "source": [
    "Program to reverse the digits of a number and add them"
   ]
  },
  {
   "cell_type": "code",
   "execution_count": null,
   "id": "3fa7e318-3058-47ee-bf7d-aab776946e0a",
   "metadata": {},
   "outputs": [],
   "source": [
    "def reverse_and_add(number):\n",
    "    original_number = number\n",
    "    reversed_number = 0\n",
    "    \n",
    "    # Reverse the digits\n",
    "    while number > 0:\n",
    "        digit = number % 10          # Extract the last digit\n",
    "        reversed_number = reversed_number * 10 + digit  # Build the reversed number\n",
    "        number //= 10                # Remove the last digit from the original number\n",
    "    \n",
    "    # Add the reversed number to the original number\n",
    "    result = original_number + reversed_number\n",
    "    \n",
    "    return result\n",
    "\n",
    "# Example usage:\n",
    "number = 123\n",
    "print(reverse_and_add(number))  # Output: 444 (123 + 321 = 444)\n"
   ]
  },
  {
   "cell_type": "markdown",
   "id": "caaa7e7b-24fd-4cbb-8942-c5762fcdfc9e",
   "metadata": {},
   "source": [
    "Program to check for Armstrong Number"
   ]
  },
  {
   "cell_type": "code",
   "execution_count": null,
   "id": "c8ac5f49-4213-40b3-b506-bd6a7684abd6",
   "metadata": {},
   "outputs": [],
   "source": [
    "def is_armstrong_number(number):\n",
    "    # Convert number to string to easily iterate over digits\n",
    "    digits = str(number)\n",
    "    num_digits = len(digits)\n",
    "    \n",
    "    # Calculate the sum of each digit raised to the power of num_digits\n",
    "    sum_of_powers = sum(int(digit) ** num_digits for digit in digits)\n",
    "    \n",
    "    # Compare the sum to the original number\n",
    "    return sum_of_powers == number\n",
    "\n",
    "# Example usage:\n",
    "print(is_armstrong_number(153))  # Output: True (1^3 + 5^3 + 3^3 = 153)\n",
    "print(is_armstrong_number(9474)) # Output: True (9^4 + 4^4 + 7^4 + 4^4 = 9474)\n",
    "print(is_armstrong_number(123))  # Output: False (1^3 + 2^3 + 3^3 = 36)"
   ]
  },
  {
   "cell_type": "markdown",
   "id": "67ab5a6d-b472-44b7-8e37-077f7e5905d3",
   "metadata": {},
   "source": [
    "Given a string s, reverse only all the vowels in the string and return it."
   ]
  },
  {
   "cell_type": "code",
   "execution_count": null,
   "id": "124ecbde-0fa8-4a4e-907a-abef5833530f",
   "metadata": {},
   "outputs": [],
   "source": [
    "def reverse_vowels(s):\n",
    "    vowels = \"aeiouAEIOU\"\n",
    "    s = list(s)  # Convert string to list for easy modification\n",
    "    i, j = 0, len(s) - 1\n",
    "    \n",
    "    while i < j:\n",
    "        if s[i] not in vowels:\n",
    "            i += 1\n",
    "        elif s[j] not in vowels:\n",
    "            j -= 1\n",
    "        else:\n",
    "            s[i], s[j] = s[j], s[i]  # Swap the vowels\n",
    "            i += 1\n",
    "            j -= 1\n",
    "            \n",
    "    return ''.join(s)  # Convert list back to string\n",
    "\n",
    "# Example usage:\n",
    "s = \"hello world\"\n",
    "reversed_vowels = reverse_vowels(s)\n",
    "print(reversed_vowels)  # Output: \"hollo werld\""
   ]
  },
  {
   "cell_type": "markdown",
   "id": "c2546474-795a-48f4-a3cb-fa867ef07d8c",
   "metadata": {},
   "source": [
    "Given an input string s, reverse the order of the words."
   ]
  },
  {
   "cell_type": "code",
   "execution_count": null,
   "id": "d57b3e97-c870-48d5-b194-6a3c857a5ed4",
   "metadata": {},
   "outputs": [],
   "source": [
    "def reverse_words(s):\n",
    "    # Step 1: Split the string by spaces to get the list of words\n",
    "    words = s.split()\n",
    "    \n",
    "    # Step 2: Reverse the list of words\n",
    "    reversed_words = words[::-1]\n",
    "    \n",
    "    # Step 3: Join the reversed list into a string with a single space separator\n",
    "    result = ' '.join(reversed_words)\n",
    "    \n",
    "    return result\n",
    "\n",
    "# Example usage:\n",
    "s = \"the sky is blue\"\n",
    "output = reverse_words(s)\n",
    "print(output)  # Output: \"blue is sky the\""
   ]
  },
  {
   "cell_type": "markdown",
   "id": "fa7f72d0-dd33-4b67-b79c-b0015b216980",
   "metadata": {},
   "source": [
    "Given an integer array nums and an integer k.\n",
    "\n",
    "In one operation, you can pick two numbers from the array whose sum equals k and remove them from the array.\n",
    "\n",
    "Return the maximum number of operations you can perform on the array."
   ]
  },
  {
   "cell_type": "code",
   "execution_count": null,
   "id": "94d3c882-7257-4603-9f5b-62d20e024567",
   "metadata": {},
   "outputs": [],
   "source": [
    "def max_operations(nums, k):\n",
    "    # Dictionary to keep track of the frequency of each number\n",
    "    count = {}\n",
    "    operations = 0\n",
    "    \n",
    "    for num in nums:\n",
    "        complement = k - num\n",
    "        if complement in count and count[complement] > 0:\n",
    "            # We found a pair, perform the operation\n",
    "            operations += 1\n",
    "            count[complement] -= 1\n",
    "        else:\n",
    "            # Increment the count of the current number\n",
    "            if num in count:\n",
    "                count[num] += 1\n",
    "            else:\n",
    "                count[num] = 1\n",
    "                \n",
    "    return operations\n",
    "\n",
    "# Example usage:\n",
    "nums = [1, 2, 3, 4]\n",
    "k = 5\n",
    "output = max_operations(nums, k)\n",
    "print(output)  # Output: 2"
   ]
  },
  {
   "cell_type": "markdown",
   "id": "8fca31d2-0d1c-479c-9b0d-3c05035dd61f",
   "metadata": {},
   "source": [
    "Given two strings text1 and text2, return the length of their longest common subsequence. If there is no common subsequence, return 0."
   ]
  },
  {
   "cell_type": "code",
   "execution_count": null,
   "id": "31ae72f7-950e-4157-91c2-ffb49c675436",
   "metadata": {},
   "outputs": [],
   "source": [
    "def longest_common_subsequence(text1, text2):\n",
    "    # Lengths of the input strings\n",
    "    m, n = len(text1), len(text2)\n",
    "    \n",
    "    # Create a 2D DP array initialized to 0\n",
    "    dp = [[0] * (n + 1) for _ in range(m + 1)]\n",
    "    \n",
    "    # Fill the DP array\n",
    "    for i in range(1, m + 1):\n",
    "        for j in range(1, n + 1):\n",
    "            if text1[i - 1] == text2[j - 1]:\n",
    "                dp[i][j] = dp[i - 1][j - 1] + 1\n",
    "            else:\n",
    "                dp[i][j] = max(dp[i - 1][j], dp[i][j - 1])\n",
    "    \n",
    "    # The length of the longest common subsequence\n",
    "    return dp[m][n]\n",
    "\n",
    "# Example usage:\n",
    "text1 = \"abcde\"\n",
    "text2 = \"ace\"\n",
    "output = longest_common_subsequence(text1, text2)\n",
    "print(output)  # Output: 3\n",
    "\n",
    "text1 = \"abc\"\n",
    "text2 = \"abc\"\n",
    "output = longest_common_subsequence(text1, text2)\n",
    "print(output)  # Output: 3\n",
    "\n",
    "text1 = \"abc\"\n",
    "text2 = \"def\"\n",
    "output = longest_common_subsequence(text1, text2)\n",
    "print(output)  # Output: 0\n"
   ]
  },
  {
   "cell_type": "markdown",
   "id": "be7bb095-ddcb-4502-a0ab-cf31d0b41450",
   "metadata": {},
   "source": [
    "Given an array of integers arr, return true if the number of occurrences of each value in the array is unique or false otherwise.\n",
    "\n",
    " "
   ]
  },
  {
   "cell_type": "code",
   "execution_count": null,
   "id": "b77f496b-3426-49f0-9ee2-439ba5c46362",
   "metadata": {},
   "outputs": [],
   "source": [
    "def uniqueOccurrences(arr):\n",
    "    # Step 1: Count the frequency of each value\n",
    "    freq_count = {}\n",
    "    for num in arr:\n",
    "        if num in freq_count:\n",
    "            freq_count[num] += 1\n",
    "        else:\n",
    "            freq_count[num] = 1\n",
    "    \n",
    "    # Step 2: Count the frequency of these frequencies\n",
    "    occurrence_count = {}\n",
    "    for count in freq_count.values():\n",
    "        if count in occurrence_count:\n",
    "            occurrence_count[count] += 1\n",
    "        else:\n",
    "            occurrence_count[count] = 1\n",
    "    \n",
    "    # Step 3: Check if all frequencies are unique\n",
    "    for value in occurrence_count.values():\n",
    "        if value > 1:\n",
    "            return False\n",
    "    \n",
    "    return True\n",
    "\n",
    "# Example usage:\n",
    "arr1 = [1, 2, 2, 1, 1, 3]\n",
    "print(uniqueOccurrences(arr1))  # Output: True\n",
    "\n",
    "arr2 = [1, 2]\n",
    "print(uniqueOccurrences(arr2))  # Output: False\n",
    "\n",
    "arr3 = [-3, 0, 1, -3, 1, 1, 1, -3, 10, 0]\n",
    "print(uniqueOccurrences(arr3))  # Output: True\n"
   ]
  },
  {
   "cell_type": "markdown",
   "id": "a6b5f02b-6774-470c-8ae9-1146dcb03cbc",
   "metadata": {},
   "source": [
    "Given an array of integers nums, calculate the pivot index of this array.\n",
    "\n",
    "The pivot index is the index where the sum of all the numbers strictly to the left of the index is equal to the sum of all the numbers strictly to the index's right.\n",
    "\n",
    "If the index is on the left edge of the array, then the left sum is 0 because there are no elements to the left. This also applies to the right edge of the array.\n",
    "\n",
    "Return the leftmost pivot index. If no such index exists, return -1."
   ]
  },
  {
   "cell_type": "code",
   "execution_count": null,
   "id": "df7ef5ce-6437-42ef-a575-d3164b6348e2",
   "metadata": {},
   "outputs": [],
   "source": [
    "def pivotIndex(nums):\n",
    "    total_sum = sum(nums)\n",
    "    left_sum = 0\n",
    "    \n",
    "    for i, num in enumerate(nums):\n",
    "        # Calculate the right sum for the current index\n",
    "        right_sum = total_sum - left_sum - num\n",
    "        \n",
    "        # Check if left_sum equals right_sum\n",
    "        if left_sum == right_sum:\n",
    "            return i\n",
    "        \n",
    "        # Update left_sum for the next iteration\n",
    "        left_sum += num\n",
    "    \n",
    "    return -1\n",
    "\n",
    "# Example usage:\n",
    "nums1 = [1, 7, 3, 6, 5, 6]\n",
    "print(pivotIndex(nums1))  # Output: 3\n",
    "\n",
    "nums2 = [1, 2, 3]\n",
    "print(pivotIndex(nums2))  # Output: -1\n",
    "\n",
    "nums3 = [2, 1, -1]\n",
    "print(pivotIndex(nums3))  # Output: 0\n"
   ]
  },
  {
   "cell_type": "markdown",
   "id": "6c4c284b-a34a-4676-ae68-50857c97ac0d",
   "metadata": {},
   "source": [
    "Given two strings s and t, return true if s is a subsequence of t, or false otherwise.\n",
    "\n",
    "A subsequence of a string is a new string that is formed from the original string by deleting some (can be none) of the characters without disturbing the relative positions of the remaining characters. (i.e., \"ace\" is a subsequence of \"abcde\" while \"aec\" is not)."
   ]
  },
  {
   "cell_type": "code",
   "execution_count": null,
   "id": "d540b135-01ae-436b-9c92-fe12eefb69a0",
   "metadata": {},
   "outputs": [],
   "source": [
    "def isSubsequence(s, t):\n",
    "    s_len, t_len = len(s), len(t)\n",
    "    s_ptr, t_ptr = 0, 0\n",
    "    \n",
    "    while s_ptr < s_len and t_ptr < t_len:\n",
    "        if s[s_ptr] == t[t_ptr]:\n",
    "            s_ptr += 1\n",
    "        t_ptr += 1\n",
    "    \n",
    "    # If s_ptr has reached the end of s, it means all characters of s are matched in t\n",
    "    return s_ptr == s_len\n",
    "\n",
    "# Example usage:\n",
    "s1 = \"abc\"\n",
    "t1 = \"ahbgdc\"\n",
    "print(isSubsequence(s1, t1))  # Output: True\n",
    "\n",
    "s2 = \"axc\"\n",
    "t2 = \"ahbgdc\"\n",
    "print(isSubsequence(s2, t2))  # Output: False\n"
   ]
  },
  {
   "cell_type": "markdown",
   "id": "069fc835-e654-47ec-9f93-3084b0013b5e",
   "metadata": {},
   "source": [
    "You are given two strings word1 and word2. Merge the strings by adding letters in alternating order, starting with word1. If a string is longer than the other, append the additional letters onto the end of the merged string.\n",
    "Return the merged string.\n"
   ]
  },
  {
   "cell_type": "code",
   "execution_count": null,
   "id": "53022a66-49d1-40b7-9ee4-8ef03d5ebd63",
   "metadata": {},
   "outputs": [],
   "source": [
    "def mergeAlternately(word1, word2):\n",
    "    merged = []\n",
    "    i, j = 0, 0\n",
    "    \n",
    "    # Alternate adding characters from both strings\n",
    "    while i < len(word1) and j < len(word2):\n",
    "        merged.append(word1[i])\n",
    "        merged.append(word2[j])\n",
    "        i += 1\n",
    "        j += 1\n",
    "    \n",
    "    # Add remaining characters from word1 if any\n",
    "    while i < len(word1):\n",
    "        merged.append(word1[i])\n",
    "        i += 1\n",
    "    \n",
    "    # Add remaining characters from word2 if any\n",
    "    while j < len(word2):\n",
    "        merged.append(word2[j])\n",
    "        j += 1\n",
    "    \n",
    "    return ''.join(merged)\n",
    "\n",
    "# Example usage:\n",
    "word1 = \"abc\"\n",
    "word2 = \"pqr\"\n",
    "print(mergeAlternately(word1, word2))  # Output: \"apbqcr\""
   ]
  }
 ],
 "metadata": {
  "kernelspec": {
   "display_name": "Python 3 (ipykernel)",
   "language": "python",
   "name": "python3"
  },
  "language_info": {
   "codemirror_mode": {
    "name": "ipython",
    "version": 3
   },
   "file_extension": ".py",
   "mimetype": "text/x-python",
   "name": "python",
   "nbconvert_exporter": "python",
   "pygments_lexer": "ipython3",
   "version": "3.11.7"
  }
 },
 "nbformat": 4,
 "nbformat_minor": 5
}
