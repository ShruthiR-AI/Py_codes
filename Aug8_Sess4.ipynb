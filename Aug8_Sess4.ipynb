{
 "cells": [
  {
   "cell_type": "markdown",
   "id": "be2ca754-b77b-494d-a8d2-6f491fb8d900",
   "metadata": {},
   "source": [
    "IF"
   ]
  },
  {
   "cell_type": "code",
   "execution_count": 1,
   "id": "23f99f13-0f33-44c0-b49d-55e1b76c1b09",
   "metadata": {},
   "outputs": [
    {
     "name": "stdout",
     "output_type": "stream",
     "text": [
      "You are an adult.\n"
     ]
    }
   ],
   "source": [
    "age = 18\n",
    "if age >= 18:\n",
    "    print(\"You are an adult.\")"
   ]
  },
  {
   "cell_type": "markdown",
   "id": "77a716e2-2bed-47aa-a205-54792ed7f6bc",
   "metadata": {},
   "source": [
    "IF - ELSE"
   ]
  },
  {
   "cell_type": "code",
   "execution_count": null,
   "id": "690a3d5f-23a6-44ee-84d3-8089c7510737",
   "metadata": {},
   "outputs": [],
   "source": [
    "age = 16\n",
    "if age >= 18:\n",
    "    print(\"You can vote.\")\n",
    "else:\n",
    "    print(\"You still got time!\")"
   ]
  },
  {
   "cell_type": "markdown",
   "id": "39e64e37-e5e4-46d7-98dc-ef298dd23273",
   "metadata": {},
   "source": [
    "ELIF"
   ]
  },
  {
   "cell_type": "code",
   "execution_count": null,
   "id": "cb08e868-e3c5-4556-8e58-f85052650301",
   "metadata": {},
   "outputs": [],
   "source": [
    "score = 85\n",
    "if score >= 90:\n",
    "    print(\"Grade: A\")\n",
    "elif score >= 80:\n",
    "    print(\"Grade: B\")\n",
    "else:\n",
    "    print(\"Grade: C\")\n"
   ]
  },
  {
   "cell_type": "markdown",
   "id": "359ac9bc-c799-4157-b86d-e8ec5fb15993",
   "metadata": {},
   "source": [
    "Write a program that checks if a given number is positive, negative, or zero."
   ]
  },
  {
   "cell_type": "code",
   "execution_count": 18,
   "id": "9ad49494-d312-4e37-afd7-44ac38b194ec",
   "metadata": {},
   "outputs": [
    {
     "name": "stdin",
     "output_type": "stream",
     "text": [
      "Enter a number:  3\n"
     ]
    },
    {
     "name": "stdout",
     "output_type": "stream",
     "text": [
      "The number is positive.\n"
     ]
    }
   ],
   "source": [
    "# Input: Ask the user to enter a number\n",
    "number = float(input(\"Enter a number: \"))\n",
    "\n",
    "# Check if the number is positive, negative, or zero\n",
    "if number > 0:\n",
    "    print(\"The number is positive.\")\n",
    "elif number < 0:\n",
    "    print(\"The number is negative.\")\n",
    "else:\n",
    "    print(\"The number is zero.\")\n"
   ]
  },
  {
   "cell_type": "markdown",
   "id": "b1c1c6af-40e7-4ed2-82ca-a0be5b8ca249",
   "metadata": {},
   "source": [
    "Write a program that calculates the grade based on a given score."
   ]
  },
  {
   "cell_type": "code",
   "execution_count": 19,
   "id": "27d0b7d3-c8d7-470b-aa2e-10f4c41b88e0",
   "metadata": {},
   "outputs": [
    {
     "name": "stdin",
     "output_type": "stream",
     "text": [
      "Enter the score:  55\n"
     ]
    },
    {
     "name": "stdout",
     "output_type": "stream",
     "text": [
      "The grade is: F\n"
     ]
    }
   ],
   "source": [
    "# Input: Ask the user to enter a score\n",
    "score = float(input(\"Enter the score: \"))\n",
    "\n",
    "# Check the range of the score and assign the grade\n",
    "if 90 <= score <= 100:\n",
    "    grade = 'A'\n",
    "elif 80 <= score < 90:\n",
    "    grade = 'B'\n",
    "elif 70 <= score < 80:\n",
    "    grade = 'C'\n",
    "elif 60 <= score < 70:\n",
    "    grade = 'D'\n",
    "elif 0 <= score < 60:\n",
    "    grade = 'F'\n",
    "else:\n",
    "    grade = 'Invalid score'\n",
    "\n",
    "# Output: Print the corresponding grade\n",
    "print(\"The grade is:\", grade)\n"
   ]
  },
  {
   "cell_type": "markdown",
   "id": "c290d1ed-504a-4bb1-8377-743b6f8eb678",
   "metadata": {},
   "source": [
    "Odd or even?"
   ]
  },
  {
   "cell_type": "code",
   "execution_count": 20,
   "id": "4fb4f6bd-6741-4344-a81e-1c783118d58b",
   "metadata": {},
   "outputs": [
    {
     "name": "stdin",
     "output_type": "stream",
     "text": [
      "Enter a number:  35\n"
     ]
    },
    {
     "name": "stdout",
     "output_type": "stream",
     "text": [
      "The number is odd.\n"
     ]
    }
   ],
   "source": [
    "# Input: Ask the user to enter a number\n",
    "number = int(input(\"Enter a number: \"))\n",
    "\n",
    "# Check if the number is odd or even\n",
    "if number % 2 == 0:\n",
    "    print(\"The number is even.\")\n",
    "else:\n",
    "    print(\"The number is odd.\")"
   ]
  },
  {
   "cell_type": "markdown",
   "id": "b4fad386-64b1-4e34-943f-13693d476989",
   "metadata": {},
   "source": [
    "****************************************************************************************************************************"
   ]
  },
  {
   "cell_type": "markdown",
   "id": "e0d3a4a5-c9d2-4432-864e-f33100d13257",
   "metadata": {},
   "source": [
    "WHILE"
   ]
  },
  {
   "cell_type": "code",
   "execution_count": 1,
   "id": "64255d98-d29e-4042-927f-1792860c4fa4",
   "metadata": {},
   "outputs": [
    {
     "name": "stdout",
     "output_type": "stream",
     "text": [
      "0\n",
      "1\n",
      "2\n",
      "3\n",
      "4\n"
     ]
    }
   ],
   "source": [
    "count = 0\n",
    "while count < 5:\n",
    "    print(count)\n",
    "    count += 1"
   ]
  },
  {
   "cell_type": "markdown",
   "id": "720a8ada-8ae8-412f-9fb5-9e30728853e1",
   "metadata": {},
   "source": [
    "FOR"
   ]
  },
  {
   "cell_type": "code",
   "execution_count": 3,
   "id": "0d6c8a55-7ebf-4140-9c4e-85272df2d73d",
   "metadata": {},
   "outputs": [
    {
     "name": "stdout",
     "output_type": "stream",
     "text": [
      "0\n",
      "1\n",
      "2\n",
      "3\n",
      "4\n"
     ]
    }
   ],
   "source": [
    "for i in range(5):\n",
    "    print(i)"
   ]
  },
  {
   "cell_type": "code",
   "execution_count": 4,
   "id": "b2480c4a-b76c-4784-b4ed-aa726fa5df79",
   "metadata": {},
   "outputs": [
    {
     "name": "stdout",
     "output_type": "stream",
     "text": [
      "apple\n",
      "banana\n",
      "cherry\n"
     ]
    }
   ],
   "source": [
    "fruits = [\"apple\", \"banana\", \"cherry\"]\n",
    "for fruit in fruits:\n",
    "    print(fruit)"
   ]
  },
  {
   "cell_type": "markdown",
   "id": "a13b0a52-76d5-475b-91df-a54a09dd26d0",
   "metadata": {},
   "source": [
    "Pass"
   ]
  },
  {
   "cell_type": "code",
   "execution_count": 11,
   "id": "8f0b8825-a1f1-4c18-9663-5e14377c2620",
   "metadata": {},
   "outputs": [
    {
     "name": "stdout",
     "output_type": "stream",
     "text": [
      "1\n",
      "2\n",
      "3\n",
      "4\n",
      "5\n"
     ]
    }
   ],
   "source": [
    "for number in range(1, 6):\n",
    "    if number == 3:\n",
    "        pass  # Placeholder for future code\n",
    "    print(number)"
   ]
  },
  {
   "cell_type": "code",
   "execution_count": null,
   "id": "ae1476bd-f56a-4dd4-bab2-642602852a1e",
   "metadata": {},
   "outputs": [],
   "source": [
    "#Write a program with a loop that checks for even and odd numbers but does nothing when the number is even.\n",
    "for number in range(1, 6):\n",
    "    if number % 2 == 0:\n",
    "        pass\n",
    "    else:\n",
    "        print(f\"{number} is odd\")"
   ]
  },
  {
   "cell_type": "markdown",
   "id": "8ba6429d-9c5b-44ad-8d09-ae9f3ff72485",
   "metadata": {},
   "source": [
    "Continue"
   ]
  },
  {
   "cell_type": "code",
   "execution_count": 10,
   "id": "d553587a-342c-4dbb-99f5-019400af840c",
   "metadata": {},
   "outputs": [
    {
     "name": "stdout",
     "output_type": "stream",
     "text": [
      "1\n",
      "3\n",
      "5\n",
      "7\n",
      "9\n"
     ]
    }
   ],
   "source": [
    "#Skipping Even Numbers\n",
    "for number in range(1, 11):\n",
    "    if number % 2 == 0:\n",
    "        continue\n",
    "    print(number)"
   ]
  },
  {
   "cell_type": "code",
   "execution_count": null,
   "id": "0a86f985-0bd9-4fbe-9dd5-17e0bfdcca7e",
   "metadata": {},
   "outputs": [],
   "source": [
    "#Write a program that prints numbers from 1 to 10, but skips multiples of 3.\n",
    "for number in range(1, 11):\n",
    "    if number % 3 == 0:\n",
    "        continue\n",
    "    print(number)"
   ]
  },
  {
   "cell_type": "markdown",
   "id": "9da1c962-1570-4db3-8c18-f1c7c0b37f59",
   "metadata": {},
   "source": [
    "Break"
   ]
  },
  {
   "cell_type": "code",
   "execution_count": 9,
   "id": "7cac9c7d-3e83-4fb7-a223-cecae28f7396",
   "metadata": {},
   "outputs": [
    {
     "name": "stdout",
     "output_type": "stream",
     "text": [
      "1\n",
      "2\n",
      "3\n",
      "4\n",
      "Loop ended.\n"
     ]
    }
   ],
   "source": [
    "# Finding the First Occurrence\n",
    "numbers = [1, 2, 3, 4, 5, 6, 7, 8, 9, 10]\n",
    "for number in numbers:\n",
    "    if number == 5:\n",
    "        break\n",
    "    print(number)\n",
    "print(\"Loop ended.\")"
   ]
  },
  {
   "cell_type": "code",
   "execution_count": null,
   "id": "de27a797-f695-4538-abd9-8557127c1ba3",
   "metadata": {},
   "outputs": [],
   "source": [
    "#Write a program that stops asking for user input when the user enters 'exit'.\n",
    "while True:\n",
    "    user_input = input(\"Enter something (type 'exit' to stop): \")\n",
    "    if user_input == 'exit':\n",
    "        break\n",
    "    print(f\"You entered: {user_input}\")"
   ]
  },
  {
   "cell_type": "markdown",
   "id": "45664ea4-04ed-421b-b383-33552a8c877d",
   "metadata": {},
   "source": [
    "Guessing Game"
   ]
  },
  {
   "cell_type": "code",
   "execution_count": 2,
   "id": "d6745852-9894-4d87-bb8c-9166fbfa96b9",
   "metadata": {},
   "outputs": [
    {
     "name": "stdin",
     "output_type": "stream",
     "text": [
      "Guess the number:  5\n"
     ]
    },
    {
     "name": "stdout",
     "output_type": "stream",
     "text": [
      "Too low!\n"
     ]
    },
    {
     "name": "stdin",
     "output_type": "stream",
     "text": [
      "Guess the number:  9\n"
     ]
    },
    {
     "name": "stdout",
     "output_type": "stream",
     "text": [
      "Too high!\n"
     ]
    },
    {
     "name": "stdin",
     "output_type": "stream",
     "text": [
      "Guess the number:  7\n"
     ]
    },
    {
     "name": "stdout",
     "output_type": "stream",
     "text": [
      "Congratulations! You guessed it.\n"
     ]
    }
   ],
   "source": [
    "secret_number = 7\n",
    "guess = None\n",
    "while guess != secret_number:\n",
    "    guess = int(input(\"Guess the number: \"))\n",
    "    if guess < secret_number:\n",
    "        print(\"Too low!\")\n",
    "    elif guess > secret_number:\n",
    "        print(\"Too high!\")\n",
    "    else:\n",
    "        print(\"Congratulations! You guessed it.\")"
   ]
  },
  {
   "cell_type": "markdown",
   "id": "0995a1bf-0afc-44ee-ba0b-a9dfcf42e011",
   "metadata": {},
   "source": [
    "Print All Even Numbers from 1 to 20"
   ]
  },
  {
   "cell_type": "code",
   "execution_count": 5,
   "id": "888f5653-6a75-402f-bc0a-44c93858b284",
   "metadata": {},
   "outputs": [
    {
     "name": "stdout",
     "output_type": "stream",
     "text": [
      "2\n",
      "4\n",
      "6\n",
      "8\n",
      "10\n",
      "12\n",
      "14\n",
      "16\n",
      "18\n",
      "20\n"
     ]
    }
   ],
   "source": [
    "for i in range(1, 21):\n",
    "    if i % 2 == 0:\n",
    "        print(i)"
   ]
  },
  {
   "cell_type": "markdown",
   "id": "390dac74-3322-47b8-a1c9-e95fa72fb1f7",
   "metadata": {},
   "source": [
    " Sum of Numbers in a List"
   ]
  },
  {
   "cell_type": "code",
   "execution_count": 6,
   "id": "94702912-3a2b-4760-92ed-2a12b00018c4",
   "metadata": {},
   "outputs": [
    {
     "name": "stdout",
     "output_type": "stream",
     "text": [
      "The sum of the list is 15.\n"
     ]
    }
   ],
   "source": [
    "numbers = [1, 2, 3, 4, 5]\n",
    "total = 0\n",
    "for num in numbers:\n",
    "    total += num\n",
    "print(f\"The sum of the list is {total}.\")\n"
   ]
  },
  {
   "cell_type": "markdown",
   "id": "e11eb394-0af1-441d-b459-ddfef88296c9",
   "metadata": {},
   "source": [
    "Find the Largest Number in a List"
   ]
  },
  {
   "cell_type": "code",
   "execution_count": 7,
   "id": "13c03e17-651a-44e2-ac9d-78f55a282dfb",
   "metadata": {},
   "outputs": [
    {
     "name": "stdout",
     "output_type": "stream",
     "text": [
      "The largest number is 8.\n"
     ]
    }
   ],
   "source": [
    "numbers = [3, 5, 7, 2, 8]\n",
    "largest = numbers[0]\n",
    "for num in numbers:\n",
    "    if num > largest:\n",
    "        largest = num\n",
    "print(f\"The largest number is {largest}.\")\n"
   ]
  },
  {
   "cell_type": "markdown",
   "id": "a17b26a8-0f48-41c1-b832-8d8bf92a0256",
   "metadata": {},
   "source": [
    "********************************************************************************************************************************"
   ]
  },
  {
   "cell_type": "markdown",
   "id": "bf46a2f9-19a6-45b4-9f9f-62d71283bdb5",
   "metadata": {},
   "source": [
    "COMBINING CONCEPTS"
   ]
  },
  {
   "cell_type": "markdown",
   "id": "ea9be87d-a1c8-4694-a48c-f00766ab591b",
   "metadata": {},
   "source": [
    "Count Vowels in a String"
   ]
  },
  {
   "cell_type": "code",
   "execution_count": null,
   "id": "347f4627-5056-427c-997f-a99763ea322f",
   "metadata": {},
   "outputs": [],
   "source": [
    "string = \"Hello World\"\n",
    "vowels = \"aeiou\"\n",
    "count = 0\n",
    "\n",
    "for char in string.lower():\n",
    "    # Check if the character is a vowel\n",
    "    if char in vowels:\n",
    "        count += 1\n",
    "\n",
    "print(\"Number of vowels:\", count)"
   ]
  },
  {
   "cell_type": "markdown",
   "id": "9107a2ac-7bd8-42a3-b7d7-1f37591c34b6",
   "metadata": {},
   "source": [
    "Find the First Non-Repeating Character"
   ]
  },
  {
   "cell_type": "code",
   "execution_count": 2,
   "id": "c83c881c-66b0-4b92-994d-61acfddd8498",
   "metadata": {},
   "outputs": [
    {
     "name": "stdout",
     "output_type": "stream",
     "text": [
      "First non-repeating character: w\n"
     ]
    }
   ],
   "source": [
    "string = \"swiss\"\n",
    "for char in string:\n",
    "    # Check if the character occurs only once\n",
    "    if string.count(char) == 1:\n",
    "        print(\"First non-repeating character:\", char)\n",
    "        break"
   ]
  },
  {
   "cell_type": "markdown",
   "id": "ffa70f9b-dcb9-45d5-9068-28e61f451d4c",
   "metadata": {},
   "source": [
    "Given a list of integers, compute the sum of all odd numbers in the list."
   ]
  },
  {
   "cell_type": "code",
   "execution_count": null,
   "id": "f475dc7b-5dbe-4c92-9a63-bd010b941328",
   "metadata": {},
   "outputs": [],
   "source": [
    "numbers = [1, 2, 3, 4, 5, 6, 7, 8, 9]\n",
    "total_sum = 0\n",
    "\n",
    "for num in numbers:\n",
    "    # Check if the number is odd\n",
    "    if num % 2 != 0:\n",
    "        total_sum += num\n",
    "\n",
    "print(\"Sum of odd numbers:\", total_sum)\n"
   ]
  },
  {
   "cell_type": "markdown",
   "id": "014411dc-e249-4c82-967e-934b8059cbd7",
   "metadata": {},
   "source": [
    "Generate and print a multiplication table for numbers from 1 to 5."
   ]
  },
  {
   "cell_type": "code",
   "execution_count": 15,
   "id": "28958240-c5be-4f37-93a9-07ef6559bcea",
   "metadata": {},
   "outputs": [
    {
     "name": "stdout",
     "output_type": "stream",
     "text": [
      "1 2 3 4 5 6 7 8 9 10 \n",
      "2 4 6 8 10 12 14 16 18 20 \n",
      "3 6 9 12 15 18 21 24 27 30 \n",
      "4 8 12 16 20 24 28 32 36 40 \n",
      "5 10 15 20 25 30 35 40 45 50 \n"
     ]
    }
   ],
   "source": [
    "for i in range(1, 6):\n",
    "    for j in range(1, 11):\n",
    "        # Print the product of i and j\n",
    "        print(i * j, end=\" \")\n",
    "    print()  # New line after each row\n"
   ]
  },
  {
   "cell_type": "markdown",
   "id": "16419900-0fca-4710-a0fa-a8fd9532b03b",
   "metadata": {},
   "source": [
    "Given a list of strings, find and print all palindromes (words that read the same backward as forward)."
   ]
  },
  {
   "cell_type": "code",
   "execution_count": 16,
   "id": "a5fac135-d372-4ab4-8911-65fe92cfbfab",
   "metadata": {},
   "outputs": [
    {
     "name": "stdout",
     "output_type": "stream",
     "text": [
      "madam\n",
      "level\n",
      "radar\n"
     ]
    }
   ],
   "source": [
    "words = [\"madam\", \"level\", \"world\", \"radar\", \"python\"]\n",
    "\n",
    "for word in words:\n",
    "    # Check if the word is a palindrome\n",
    "    if word == word[::-1]:\n",
    "        print(word)\n"
   ]
  },
  {
   "cell_type": "markdown",
   "id": "74a15469-8644-41ac-b519-cda5e8b09bdf",
   "metadata": {},
   "source": [
    "Given an array of integers nums and an integer target, return indices of the two numbers such that they add up to target.\n",
    "\n",
    "Example:\n",
    "\n",
    "Input: nums = [2, 7, 11, 15], target = 9     ->\r\n",
    "Output: [0, 1]  # Because nums[0] + nums[1] == 9\r\n"
   ]
  },
  {
   "cell_type": "markdown",
   "id": "b19e379f-4f3c-45b3-a266-d923353c7da1",
   "metadata": {},
   "source": [
    "Hint::  Using a Loop and Conditional:\n",
    "Iterate through the list with a loop.\n",
    "Use a conditional inside the loop to check if the complement (target - current number) exists."
   ]
  },
  {
   "cell_type": "code",
   "execution_count": null,
   "id": "1720e6cd-88c7-48d4-9853-9678415b830c",
   "metadata": {},
   "outputs": [],
   "source": [
    "# Given list of numbers and target sum\n",
    "nums = [2, 7, 11, 15]\n",
    "target = 9\n",
    "\n",
    "# Iterate over the list with the index `i`\n",
    "for i in range(len(nums)):\n",
    "    # For each element at index `i`, find its complement\n",
    "    complement = target - nums[i]\n",
    "    \n",
    "    # Iterate through the elements after index `i` to find the complement\n",
    "    for j in range(i + 1, len(nums)):\n",
    "        # Check if the current number is equal to the complement\n",
    "        if nums[j] == complement:\n",
    "            # If found, print the indices\n",
    "            print([i, j])\n",
    "            # Exit the loop since we have found the solution\n",
    "            break"
   ]
  },
  {
   "cell_type": "markdown",
   "id": "2c324019-f578-47f9-a47b-2f0ab2ce01bb",
   "metadata": {},
   "source": [
    "Given an array nums containing n distinct numbers in the range [0, n], return the only number in the range that is missing from the array.\n",
    "\n",
    "Example:\n",
    "\n",
    "Input: nums = [3, 0, 1]\n",
    "Output: 2"
   ]
  },
  {
   "cell_type": "markdown",
   "id": "c6c1193a-17f1-4d10-89ee-a06f165a33bb",
   "metadata": {},
   "source": [
    "Hint::Using a Loop and Conditional:\n",
    "Iterate through a range of numbers and check if each number is in the list.\n"
   ]
  },
  {
   "cell_type": "code",
   "execution_count": 17,
   "id": "5de6695c-6f6d-45ec-a23a-56e433e18217",
   "metadata": {},
   "outputs": [
    {
     "name": "stdout",
     "output_type": "stream",
     "text": [
      "2\n"
     ]
    }
   ],
   "source": [
    "# Given list of numbers\n",
    "nums = [3, 0, 1]\n",
    "\n",
    "# Determine the length of the list, which is n\n",
    "n = len(nums)\n",
    "\n",
    "# Iterate through the range from 0 to n (inclusive)\n",
    "for num in range(n + 1):\n",
    "    # Check if the current number is not in the list\n",
    "    if num not in nums:\n",
    "        # If it's missing, print the number\n",
    "        print(num)\n",
    "        # Exit the loop since we have found the missing number\n",
    "        break"
   ]
  },
  {
   "cell_type": "code",
   "execution_count": null,
   "id": "50522e10-e8ad-4ad4-ae80-09fe93ce850d",
   "metadata": {},
   "outputs": [],
   "source": []
  }
 ],
 "metadata": {
  "kernelspec": {
   "display_name": "Python 3 (ipykernel)",
   "language": "python",
   "name": "python3"
  },
  "language_info": {
   "codemirror_mode": {
    "name": "ipython",
    "version": 3
   },
   "file_extension": ".py",
   "mimetype": "text/x-python",
   "name": "python",
   "nbconvert_exporter": "python",
   "pygments_lexer": "ipython3",
   "version": "3.11.7"
  }
 },
 "nbformat": 4,
 "nbformat_minor": 5
}
