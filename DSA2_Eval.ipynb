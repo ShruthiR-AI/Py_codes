{
 "cells": [
  {
   "cell_type": "markdown",
   "id": "14dc71b9",
   "metadata": {},
   "source": [
    "# DSA-2 Class Evaluation (29-09-23)     _  RollNo.: 22154  _  Batch:B"
   ]
  },
  {
   "cell_type": "markdown",
   "id": "298a6062",
   "metadata": {},
   "source": [
    "### 1. How many empty lists do you expect to see when you insert N keys (N random integers) into a hash table with chaining for N = 10, 10^2, 10^3 and 10^4? M = N/2, and N and 2N. The hash function can be AK % 10."
   ]
  },
  {
   "cell_type": "code",
   "execution_count": 31,
   "id": "a7f2242d",
   "metadata": {},
   "outputs": [
    {
     "name": "stdout",
     "output_type": "stream",
     "text": [
      "For N = 10 and M = N/2, Empty Lists: 4\n",
      "For N = 10 and M = 2N, Empty Lists: 3\n",
      "For N = 10 and M = N, Empty Lists: 3\n",
      "\n",
      "For N = 100 and M = N/2, Empty Lists: 0\n",
      "For N = 100 and M = 2N, Empty Lists: 0\n",
      "For N = 100 and M = N, Empty Lists: 0\n",
      "\n",
      "For N = 1000 and M = N/2, Empty Lists: 0\n",
      "For N = 1000 and M = 2N, Empty Lists: 0\n",
      "For N = 1000 and M = N, Empty Lists: 0\n",
      "\n",
      "For N = 10000 and M = N/2, Empty Lists: 0\n",
      "For N = 10000 and M = 2N, Empty Lists: 0\n",
      "For N = 10000 and M = N, Empty Lists: 0\n",
      "\n"
     ]
    }
   ],
   "source": [
    "import random\n",
    "\n",
    "def simple_hash(key, table_size):\n",
    "    return key % 10  \n",
    "\n",
    "def count_empty_lists(N, M):\n",
    "    hash_table = [[] for _ in range(10)]  \n",
    "    keys = [random.randint(1, 10000) for _ in range(N)]\n",
    "    for key in keys:\n",
    "        index = simple_hash(key, 10)  \n",
    "        hash_table[index].append(key)\n",
    "    empty_lists = sum(1 for bucket in hash_table if len(bucket) == 0)\n",
    "    return empty_lists\n",
    "\n",
    "Ns = [10, 10**2, 10**3, 10**4]\n",
    "for N in Ns:\n",
    "    M1 = N // 2\n",
    "    M2 = 2 * N\n",
    "    M3 = N\n",
    "\n",
    "    empty_lists1 = count_empty_lists(N, M1)\n",
    "    empty_lists2 = count_empty_lists(N, M2)\n",
    "    empty_lists3 = count_empty_lists(N, M3)\n",
    "\n",
    "    print(f\"For N = {N} and M = N/2, Empty Lists: {empty_lists1}\")\n",
    "    print(f\"For N = {N} and M = 2N, Empty Lists: {empty_lists2}\")\n",
    "    print(f\"For N = {N} and M = N, Empty Lists: {empty_lists3}\")\n",
    "    print()\n"
   ]
  },
  {
   "cell_type": "markdown",
   "id": "9b66a543",
   "metadata": {},
   "source": [
    "#### algorithm create the N keys. generate N random int create hash function A can be any value. create the array. mention size and type of data inside the array"
   ]
  },
  {
   "cell_type": "markdown",
   "id": "d54cc3a3",
   "metadata": {},
   "source": [
    "# ********************************************************************************************"
   ]
  },
  {
   "cell_type": "markdown",
   "id": "aac8366b",
   "metadata": {},
   "source": [
    "### 2. Write a program that inserts N rendom int keys into a table of size N/ 100 using chaining, then find the lond=gest and shortet lists, for N = 10^3, 10^4, 10^5, 10^6\n",
    "### h(k) = AK % 10"
   ]
  },
  {
   "cell_type": "code",
   "execution_count": 4,
   "id": "f9672830",
   "metadata": {},
   "outputs": [
    {
     "name": "stdout",
     "output_type": "stream",
     "text": [
      "For N = 1000 and table size = 10:\n",
      "Longest List: Length = 109,  Elements = [1438, 2568, 6648, 9858, 8908, 2958, 9798, 8738, 9398, 918, 7458, 98, 8518, 2508, 6258, 6208, 6618, 4698, 6588, 1868, 4238, 3558, 308, 8288, 1138, 3208, 7648, 7348, 5938, 9578, 6628, 8358, 8368, 8778, 3898, 7888, 4838, 6378, 2138, 1678, 8478, 6638, 8708, 7438, 758, 9588, 9658, 2468, 5878, 2978, 4078, 4778, 4798, 1598, 1838, 9788, 1348, 9748, 4518, 8058, 9418, 8198, 8538, 9928, 9848, 2098, 1538, 8658, 8298, 8708, 2378, 8598, 6528, 528, 9838, 628, 2238, 5748, 7358, 9538, 9298, 768, 8448, 228, 1338, 588, 6948, 5658, 8238, 6658, 4758, 6718, 9968, 6838, 5328, 158, 968, 6318, 2448, 2488, 5928, 8, 418, 7658, 6238, 7818, 6948, 9478, 6358]\n",
      "Shortest List: Length = 77,  Elements = [2205, 1865, 9065, 795, 4095, 4995, 6575, 2635, 1695, 2025, 8175, 405, 4045, 2925, 9355, 7545, 555, 3275, 6045, 3195, 3425, 4865, 2415, 8135, 3205, 8335, 5805, 1485, 6645, 2815, 785, 8685, 1785, 9175, 1075, 6875, 7165, 535, 2395, 255, 4675, 2755, 7605, 9585, 2545, 5375, 4215, 5195, 3215, 9995, 3015, 5895, 7145, 2185, 7295, 5655, 8615, 3775, 4305, 6815, 6045, 1055, 5245, 5685, 8225, 4405, 9085, 8805, 3985, 4425, 6255, 4935, 1255, 5805, 875, 4425, 9485]\n",
      "\n",
      "For N = 10000 and table size = 100:\n",
      "Longest List: Length = 136,  Elements = [2166, 6066, 3966, 8666, 3766, 6566, 2866, 3966, 5466, 5266, 8366, 1866, 9966, 3466, 3466, 2566, 1466, 366, 5666, 7366, 9366, 7166, 1366, 1566, 266, 8066, 5666, 2666, 6766, 8466, 7366, 1566, 2766, 6266, 3166, 2466, 1766, 4866, 5866, 9666, 3766, 3166, 4266, 9866, 7166, 8666, 9066, 6766, 7866, 3666, 1166, 4566, 1866, 2966, 866, 6466, 4866, 2566, 466, 8166, 4966, 5166, 9966, 4566, 1566, 5466, 666, 1266, 6566, 5066, 8966, 7166, 4366, 5866, 2066, 5766, 6366, 4066, 7166, 4766, 8566, 366, 2866, 4966, 366, 1566, 7166, 4066, 2466, 6566, 3066, 3766, 8266, 2366, 366, 66, 4466, 4366, 566, 8766, 7066, 2766, 466, 8766, 9666, 8466, 6666, 1566, 666, 7866, 5566, 1166, 2166, 5666, 5166, 4666, 1866, 266, 7166, 266, 3666, 566, 2466, 2266, 1566, 2666, 5866, 2666, 9166, 5366, 2466, 4666, 2966, 2466, 8366, 8566]\n",
      "Shortest List: Length = 75,  Elements = [8540, 1540, 7340, 8240, 6140, 3540, 7840, 4640, 2040, 6940, 5040, 1340, 5640, 1140, 5740, 2140, 9440, 8640, 6140, 2040, 4640, 740, 5340, 40, 4240, 2540, 5840, 6040, 8640, 3040, 3540, 1340, 4040, 5240, 640, 340, 2140, 6140, 3040, 9840, 7240, 4140, 240, 8040, 6140, 7040, 4540, 2840, 4440, 7940, 6140, 440, 840, 6740, 2240, 2540, 4640, 1740, 3540, 6640, 2940, 240, 2340, 640, 5640, 5540, 5540, 6640, 8740, 3340, 6740, 9340, 8040, 40, 2540]\n",
      "\n",
      "For N = 100000 and table size = 1000:\n",
      "Longest List: Length = 133,  Elements = [1541, 9541, 4541, 4541, 6541, 4541, 5541, 4541, 1541, 7541, 1541, 541, 4541, 4541, 8541, 5541, 4541, 541, 5541, 541, 7541, 2541, 8541, 8541, 4541, 7541, 6541, 2541, 3541, 4541, 2541, 9541, 5541, 9541, 9541, 7541, 1541, 6541, 2541, 9541, 8541, 2541, 5541, 6541, 2541, 4541, 7541, 8541, 1541, 2541, 1541, 541, 9541, 9541, 3541, 6541, 6541, 6541, 1541, 2541, 7541, 6541, 541, 6541, 1541, 9541, 8541, 2541, 5541, 9541, 8541, 1541, 8541, 3541, 1541, 3541, 1541, 1541, 4541, 5541, 6541, 4541, 3541, 5541, 5541, 541, 2541, 2541, 3541, 1541, 3541, 9541, 2541, 4541, 7541, 8541, 5541, 3541, 8541, 541, 9541, 5541, 5541, 6541, 7541, 6541, 5541, 8541, 541, 6541, 4541, 9541, 7541, 541, 8541, 8541, 4541, 2541, 5541, 5541, 9541, 7541, 8541, 4541, 9541, 6541, 6541, 3541, 1541, 9541, 5541, 3541, 3541]\n",
      "Shortest List: Length = 69,  Elements = [527, 4527, 2527, 4527, 4527, 5527, 8527, 4527, 527, 9527, 8527, 7527, 9527, 5527, 3527, 8527, 5527, 527, 527, 8527, 7527, 7527, 7527, 527, 2527, 4527, 7527, 8527, 2527, 4527, 3527, 7527, 6527, 5527, 9527, 6527, 1527, 4527, 2527, 527, 527, 9527, 3527, 527, 4527, 1527, 9527, 7527, 5527, 4527, 2527, 7527, 8527, 8527, 1527, 1527, 5527, 4527, 9527, 9527, 9527, 7527, 3527, 3527, 4527, 2527, 3527, 5527, 1527]\n",
      "\n",
      "For N = 1000000 and table size = 10000:\n",
      "Longest List: Length = 143,  Elements = [4620, 4620, 4620, 4620, 4620, 4620, 4620, 4620, 4620, 4620, 4620, 4620, 4620, 4620, 4620, 4620, 4620, 4620, 4620, 4620, 4620, 4620, 4620, 4620, 4620, 4620, 4620, 4620, 4620, 4620, 4620, 4620, 4620, 4620, 4620, 4620, 4620, 4620, 4620, 4620, 4620, 4620, 4620, 4620, 4620, 4620, 4620, 4620, 4620, 4620, 4620, 4620, 4620, 4620, 4620, 4620, 4620, 4620, 4620, 4620, 4620, 4620, 4620, 4620, 4620, 4620, 4620, 4620, 4620, 4620, 4620, 4620, 4620, 4620, 4620, 4620, 4620, 4620, 4620, 4620, 4620, 4620, 4620, 4620, 4620, 4620, 4620, 4620, 4620, 4620, 4620, 4620, 4620, 4620, 4620, 4620, 4620, 4620, 4620, 4620, 4620, 4620, 4620, 4620, 4620, 4620, 4620, 4620, 4620, 4620, 4620, 4620, 4620, 4620, 4620, 4620, 4620, 4620, 4620, 4620, 4620, 4620, 4620, 4620, 4620, 4620, 4620, 4620, 4620, 4620, 4620, 4620, 4620, 4620, 4620, 4620, 4620, 4620, 4620, 4620, 4620, 4620, 4620]\n",
      "Shortest List: Length = 67,  Elements = [1594, 1594, 1594, 1594, 1594, 1594, 1594, 1594, 1594, 1594, 1594, 1594, 1594, 1594, 1594, 1594, 1594, 1594, 1594, 1594, 1594, 1594, 1594, 1594, 1594, 1594, 1594, 1594, 1594, 1594, 1594, 1594, 1594, 1594, 1594, 1594, 1594, 1594, 1594, 1594, 1594, 1594, 1594, 1594, 1594, 1594, 1594, 1594, 1594, 1594, 1594, 1594, 1594, 1594, 1594, 1594, 1594, 1594, 1594, 1594, 1594, 1594, 1594, 1594, 1594, 1594, 1594]\n",
      "\n"
     ]
    }
   ],
   "source": [
    "import random\n",
    "\n",
    "def simple_hash(key, table_size):\n",
    "    return key % table_size\n",
    "\n",
    "def find_longest_shortest_lists(N, table_size):\n",
    "    hash_table = [[] for _ in range(table_size)]\n",
    "\n",
    "    keys = [random.randint(1, 10000) for _ in range(N)]\n",
    "\n",
    "    for key in keys:\n",
    "        index = simple_hash(key, table_size)\n",
    "        hash_table[index].append(key)\n",
    "\n",
    "    longest_list = max(hash_table, key=len)\n",
    "    shortest_list = min(hash_table, key=len)\n",
    "\n",
    "    return longest_list, shortest_list\n",
    "\n",
    "Ns = [10**3, 10**4, 10**5, 10**6]\n",
    "\n",
    "for N in Ns:\n",
    "    table_size = N // 100\n",
    "    longest_list, shortest_list = find_longest_shortest_lists(N, table_size)\n",
    "\n",
    "    print(f\"For N = {N} and table size = {table_size}:\")\n",
    "    print(f\"Longest List: Length = {len(longest_list)},  Elements = {longest_list}\")\n",
    "    print(f\"Shortest List: Length = {len(shortest_list)},  Elements = {shortest_list}\")\n",
    "    print()"
   ]
  },
  {
   "cell_type": "markdown",
   "id": "cae4bda1",
   "metadata": {},
   "source": [
    "# ********************************************************************************************"
   ]
  },
  {
   "cell_type": "markdown",
   "id": "9e512f2a",
   "metadata": {},
   "source": [
    "### 3. Using the double hashing technique and linear probing, resolve collision while inserting N random integers into a hashtable. Two hash functions are,\n",
    "### h1 = (i + 11) % M\n",
    "### h2 = (i + 11*k) % M "
   ]
  },
  {
   "cell_type": "code",
   "execution_count": 1,
   "id": "b92a2277",
   "metadata": {},
   "outputs": [
    {
     "name": "stdout",
     "output_type": "stream",
     "text": [
      "Hashtable[0] = 389\n",
      "Hashtable[1] = 590\n",
      "Hashtable[3] = 792\n",
      "Hashtable[4] = 193\n",
      "Hashtable[5] = 994\n",
      "Hashtable[6] = 195\n",
      "Hashtable[7] = 696\n",
      "Hashtable[10] = 499\n",
      "Hashtable[11] = 300\n",
      "Hashtable[12] = 301\n",
      "Hashtable[13] = 102\n",
      "Hashtable[14] = 203\n",
      "Hashtable[15] = 104\n",
      "Hashtable[18] = 2\n",
      "Hashtable[19] = 708\n",
      "Hashtable[24] = 290\n",
      "Hashtable[25] = 14\n",
      "Hashtable[27] = 716\n",
      "Hashtable[28] = 617\n",
      "Hashtable[29] = 418\n",
      "Hashtable[30] = 119\n",
      "Hashtable[31] = 420\n",
      "Hashtable[33] = 822\n",
      "Hashtable[38] = 127\n",
      "Hashtable[39] = 28\n",
      "Hashtable[46] = 535\n",
      "Hashtable[48] = 937\n",
      "Hashtable[50] = 39\n",
      "Hashtable[53] = 402\n",
      "Hashtable[56] = 645\n",
      "Hashtable[58] = 37\n",
      "Hashtable[60] = 249\n",
      "Hashtable[61] = 528\n",
      "Hashtable[62] = 451\n",
      "Hashtable[65] = 854\n",
      "Hashtable[67] = 156\n",
      "Hashtable[68] = 757\n",
      "Hashtable[72] = 61\n",
      "Hashtable[73] = 62\n",
      "Hashtable[75] = 864\n",
      "Hashtable[76] = 265\n",
      "Hashtable[78] = 167\n",
      "Hashtable[79] = 868\n",
      "Hashtable[83] = 472\n",
      "Hashtable[84] = 373\n",
      "Hashtable[86] = 775\n",
      "Hashtable[87] = 476\n",
      "Hashtable[88] = 877\n",
      "Hashtable[94] = 783\n",
      "Hashtable[98] = 687\n"
     ]
    }
   ],
   "source": [
    "import random\n",
    "\n",
    "def h1(key, M):\n",
    "    return (key + 11) % M\n",
    "\n",
    "def h2(key, M, k):\n",
    "    return (key + 11 * k) % M\n",
    "\n",
    "def insert_with_double_hashing(hashtable, key, M, k):\n",
    "    index = h1(key, M)\n",
    "    step_size = h2(key, M, k)\n",
    "    \n",
    "    while hashtable[index] is not None:\n",
    "        index = (index + step_size) % M\n",
    "    \n",
    "    hashtable[index] = key\n",
    "\n",
    "def main():\n",
    "    M = 100  # Size of the hashtable\n",
    "    N = 50   # Number of random integers to insert\n",
    "    k = 3    # Value of k for h2\n",
    "    \n",
    "    hashtable = [None] * M\n",
    "    \n",
    "    for _ in range(N):\n",
    "        random_integer = random.randint(1, 1000)  \n",
    "        insert_with_double_hashing(hashtable, random_integer, M, k)\n",
    "    \n",
    "    for i, value in enumerate(hashtable):\n",
    "        if value is not None:\n",
    "            print(f\"Hashtable[{i}] = {value}\")\n",
    "    \n",
    "if __name__ == \"__main__\":\n",
    "    main()"
   ]
  },
  {
   "cell_type": "code",
   "execution_count": 3,
   "id": "e422511e",
   "metadata": {},
   "outputs": [
    {
     "name": "stdout",
     "output_type": "stream",
     "text": [
      "Before deletion:\n",
      "app\n",
      "apple\n",
      "banana\n",
      "bat\n",
      "ball\n",
      "\n",
      "After deletion:\n",
      "app\n",
      "bat\n",
      "ball\n"
     ]
    }
   ],
   "source": [
    "import networkx as nx\n",
    "import matplotlib.pyplot as plt\n",
    "\n",
    "def create_node():\n",
    "    return {\"is_end_of_word\": False, \"children\": {}}\n",
    "\n",
    "def insert(root, word):\n",
    "    node = root\n",
    "    for char in word:\n",
    "        if char not in node[\"children\"]:\n",
    "            node[\"children\"][char] = create_node()\n",
    "        node = node[\"children\"][char]\n",
    "    node[\"is_end_of_word\"] = True\n",
    "\n",
    "def search(root, word):\n",
    "    node = root\n",
    "    for char in word:\n",
    "        if char not in node[\"children\"]:\n",
    "            return False\n",
    "        node = node[\"children\"][char]\n",
    "    return node[\"is_end_of_word\"]\n",
    "\n",
    "def delete(root, word, index=0):\n",
    "    if index == len(word):\n",
    "        if root[\"is_end_of_word\"]:\n",
    "            root[\"is_end_of_word\"] = False\n",
    "            return not bool(root[\"children\"])\n",
    "        return False\n",
    "\n",
    "    char = word[index]\n",
    "    if char not in root[\"children\"]:\n",
    "        return False \n",
    "\n",
    "    should_delete_child = delete(root[\"children\"][char], word, index + 1)\n",
    "\n",
    "    if should_delete_child:\n",
    "        del root[\"children\"][char]  # Remove the child node\n",
    "\n",
    "\n",
    "    return False\n",
    "\n",
    "def print_trie(node, word_prefix=\"\"):\n",
    "    if node[\"is_end_of_word\"]:\n",
    "        print(word_prefix)\n",
    "    \n",
    "    for char, child_node in node[\"children\"].items():\n",
    "        print_trie(child_node, word_prefix + char)\n",
    "\n",
    "if __name__ == \"__main__\":\n",
    "    root = create_node()\n",
    "    words = [\"apple\", \"app\", \"banana\", \"bat\", \"ball\"]\n",
    "\n",
    "    for word in words:\n",
    "        insert(root, word)\n",
    "\n",
    "    print(\"Before deletion:\")\n",
    "    print_trie(root)\n",
    "\n",
    "    delete(root, \"apple\")\n",
    "    delete(root, \"banana\")\n",
    "\n",
    "    print(\"\\nAfter deletion:\")\n",
    "    print_trie(root)"
   ]
  },
  {
   "cell_type": "markdown",
   "id": "8edee425",
   "metadata": {},
   "source": [
    "# ********************************************************************************************"
   ]
  }
 ],
 "metadata": {
  "kernelspec": {
   "display_name": "Python 3 (ipykernel)",
   "language": "python",
   "name": "python3"
  },
  "language_info": {
   "codemirror_mode": {
    "name": "ipython",
    "version": 3
   },
   "file_extension": ".py",
   "mimetype": "text/x-python",
   "name": "python",
   "nbconvert_exporter": "python",
   "pygments_lexer": "ipython3",
   "version": "3.11.4"
  }
 },
 "nbformat": 4,
 "nbformat_minor": 5
}
