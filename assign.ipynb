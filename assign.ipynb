{
 "cells": [
  {
   "cell_type": "markdown",
   "id": "d2366a19",
   "metadata": {},
   "source": [
    "# Assignment 2 _ 05.09.23 _ Batch:B _ Group:9"
   ]
  },
  {
   "cell_type": "code",
   "execution_count": 2,
   "id": "edfcb8ec",
   "metadata": {},
   "outputs": [],
   "source": [
    "import re"
   ]
  },
  {
   "cell_type": "markdown",
   "id": "514eaea0",
   "metadata": {},
   "source": [
    "### 1) For any input string write a python function using regular expressions to        \n",
    "#### i.Extract email id.                                                                                                             \n",
    "#### ii.Extract string by removing mail id."
   ]
  },
  {
   "cell_type": "code",
   "execution_count": 4,
   "id": "3a2322a9",
   "metadata": {},
   "outputs": [
    {
     "name": "stdout",
     "output_type": "stream",
     "text": [
      "Extracted Email IDs: ['john.doe@example.com', 'jane.smith@example.org']\n",
      "Cleaned Text: Please contact  for more information. You can also reach out to .\n"
     ]
    }
   ],
   "source": [
    "def extract_and_remove_emails(input_string):\n",
    "    email_pattern = r'\\b[A-Za-z0-9._%+-]+@[A-Za-z0-9.-]+\\.[A-Z|a-z]{2,7}\\b'\n",
    "    email_list = re.findall(email_pattern, input_string)\n",
    "    clean_string = re.sub(email_pattern, '', input_string)\n",
    "\n",
    "    return email_list, clean_string\n",
    "\n",
    "input_string = \"Please contact john.doe@example.com for more information. You can also reach out to jane.smith@example.org.\"\n",
    "emails, cleaned_text = extract_and_remove_emails(input_string)\n",
    "print(\"Extracted Email IDs:\", emails)\n",
    "print(\"Cleaned Text:\", cleaned_text)\n"
   ]
  },
  {
   "cell_type": "markdown",
   "id": "54036990",
   "metadata": {},
   "source": [
    "1. Use the `re.findall` function to find all non-overlapping matches of the `email_pattern` in the input string. This will extract all email addresses from the input string and store them in the `email_list`.\n",
    "\n",
    "2. Use the `re.sub` function to replace all matches of the `email_pattern` in the input string with an empty string, effectively removing the email addresses. The result is stored in the `clean_string`.\n",
    "\n",
    "3. Return both the `email_list` (list of extracted email addresses) and the `clean_string` (input string with email addresses removed) as a tuple."
   ]
  },
  {
   "cell_type": "markdown",
   "id": "db0c7550",
   "metadata": {},
   "source": [
    "# ********************************************************************************************"
   ]
  },
  {
   "cell_type": "markdown",
   "id": "bac382ae",
   "metadata": {},
   "source": [
    "### 2) Write a python function using regular expressions to find the count of vowels in an input string"
   ]
  },
  {
   "cell_type": "code",
   "execution_count": 4,
   "id": "bdb4f62b",
   "metadata": {},
   "outputs": [
    {
     "name": "stdout",
     "output_type": "stream",
     "text": [
      "Enter a string: My name is Shruthi\n",
      "Number of vowels in the input string: 5\n"
     ]
    }
   ],
   "source": [
    "def count_vowels(input_string):\n",
    "    pattern = r'[aeiouAEIOU]'\n",
    "    vowels = re.findall(pattern, input_string)\n",
    "    return len(vowels)\n",
    "\n",
    "user_input = input(\"Enter a string: \")\n",
    "vowel_count = count_vowels(user_input)\n",
    "print(\"Number of vowels in the input string:\", vowel_count)"
   ]
  },
  {
   "cell_type": "markdown",
   "id": "e0b5f7c7",
   "metadata": {},
   "source": [
    "1. First we define a regular expression pattern using the `re` module. The pattern `[aeiouAEIOU]` matches any vowel in both lowercase and uppercase letters. So, this pattern will match all vowels in the input string.\n",
    "\n",
    "2. The `re.findall()` function is used to find all occurrences of the vowel pattern in the `input_string`. It returns a list of all the matched vowels in the input string.\n",
    "\n",
    "3. Then the length of the list `vowels`,is recorded."
   ]
  },
  {
   "cell_type": "markdown",
   "id": "13a8ff07",
   "metadata": {},
   "source": [
    "# ********************************************************************************************"
   ]
  },
  {
   "cell_type": "markdown",
   "id": "f3ec7887",
   "metadata": {},
   "source": [
    "### 3) Write a python function using regular expressions to check if a given string,is palindrome. "
   ]
  },
  {
   "cell_type": "code",
   "execution_count": 5,
   "id": "359b79e0",
   "metadata": {},
   "outputs": [
    {
     "name": "stdout",
     "output_type": "stream",
     "text": [
      "Enter a string: Madam\n",
      "The input string is a palindrome.\n"
     ]
    }
   ],
   "source": [
    "def is_palindrome(input_string):\n",
    "    cleaned_string = re.sub(r'[^a-zA-Z0-9]', '', input_string).lower()\n",
    "    return cleaned_string == cleaned_string[::-1]\n",
    "\n",
    "user_input = input(\"Enter a string: \")\n",
    "if is_palindrome(user_input):\n",
    "    print(\"The input string is a palindrome.\")\n",
    "else:\n",
    "    print(\"The input string is not a palindrome.\")"
   ]
  },
  {
   "cell_type": "markdown",
   "id": "1502ac96",
   "metadata": {},
   "source": [
    "The `is_palindrome` function:\n",
    "   - It takes an `input_string` as its argument.\n",
    "   - `re.sub(r'[^a-zA-Z0-9]', '', input_string)` uses regular expressions to remove all characters from `input_string` that are not alphanumeric.\n",
    "   - `.lower()` converts the resulting cleaned string to lowercase, making the palindrome check case-insensitive.\n",
    "   - `cleaned_string[::-1]` is used to reverse the cleaned string.\n",
    "   - The function returns `True` if the cleaned string is the same as its reverse i.e., it's a palindrome.\n"
   ]
  },
  {
   "cell_type": "markdown",
   "id": "001021b4",
   "metadata": {},
   "source": [
    "# ********************************************************************************************"
   ]
  },
  {
   "cell_type": "markdown",
   "id": "211a8260",
   "metadata": {},
   "source": [
    "### 4)What will be the output of the following Python code? Explain each line of code in detail.\n",
    "#### import re s = \"A new day\" \n",
    "#### m = re.match(r'(.*)(.*?)', s)\n",
    "#### print(m.group(2)) print(m.group(0))"
   ]
  },
  {
   "cell_type": "code",
   "execution_count": 7,
   "id": "caca67ec",
   "metadata": {},
   "outputs": [
    {
     "name": "stdout",
     "output_type": "stream",
     "text": [
      " \n",
      "A \n"
     ]
    }
   ],
   "source": [
    "import re\n",
    "s = \"A new day\"\n",
    "m = re.match(r'(.)(.?)', s)\n",
    "print(m.group(2)) \n",
    "print(m.group(0))"
   ]
  },
  {
   "cell_type": "markdown",
   "id": "41be706b",
   "metadata": {},
   "source": [
    "We first import the re module (regular expressions)\n",
    "We then initialize a string variable s with the value \"A new day\".\n",
    "\n",
    "Furthur we match the regular expression pattern provided as the first argument (r'(.)(?)') against the input string s.\n",
    "\n",
    "r'(.)(?)': This pattern consists of two capturing groups:\n",
    "\n",
    "-(.+): The first group (.) captures any single character and is represented by (.+).\n",
    "\n",
    "-(?): The second group (.) captures an optional single character and is represented by (?).\n",
    "\n",
    "The re.match() function returns a match object (m) if the pattern is found at the beginning of the string. In this case, it will match the first two characters, which are \"A \".\n",
    "\n",
    "print(m.group(2)): This line attempts to print the content of the second capturing group ((?)) from the match object m. However, since the second capturing group (?) is optional, it will match an empty string if it doesn't exist. In this case, it will print an empty string.\n",
    "\n",
    "print(m.group(0)): This line attempts to print the entire match (the entire string that matched the regular expression pattern) from the match object m. In this case, it will print \"A \", which is the first two characters of the input string \"A new day\"."
   ]
  },
  {
   "cell_type": "markdown",
   "id": "1a768593",
   "metadata": {},
   "source": [
    "# ********************************************************************************************"
   ]
  },
  {
   "cell_type": "markdown",
   "id": "09b9ac44",
   "metadata": {},
   "source": [
    "### 5) What will be the output of the following Python code? Explain each line of code in detail. \n",
    "#### p = re.compile('hello') \n",
    "#### r = p.match('hello everyone') \n",
    "#### print(r.group(0)) \n",
    "#### r = re.match('hello', 'hello everyone') \n",
    "#### print(r.group(0))"
   ]
  },
  {
   "cell_type": "code",
   "execution_count": 8,
   "id": "20deee20",
   "metadata": {},
   "outputs": [
    {
     "name": "stdout",
     "output_type": "stream",
     "text": [
      "hello\n",
      "hello\n"
     ]
    }
   ],
   "source": [
    "p = re.compile('hello')\n",
    "r = p.match('hello everyone')\n",
    "print(r.group(0))\n",
    "r = re.match('hello', 'hello everyone')\n",
    "print(r.group(0))"
   ]
  },
  {
   "cell_type": "markdown",
   "id": "4b1326b9",
   "metadata": {},
   "source": [
    "The first line compiles a regular expression pattern `'hello'` using the `re.compile()` function and assigns the compiled pattern to the variable `p`. The pattern `'hello'` represents the string \"hello\" that we want to match in the input.\n",
    "\n",
    "   - `p.match('hello everyone')`: This code uses the compiled regular expression `p` to perform a match on the input string `'hello everyone'`.\n",
    "   - The `match()` method checks if the pattern `'hello'` matches at the beginning of the input string. In this case, it does match because \"hello\" appears at the beginning of the string.\n",
    "   - The match object `r` is assigned the result of the match.\n",
    "\n",
    " The `print(r.group(0))` line attempts to print the content of the first capturing group in the match object `r`. In this case, there are no capturing groups specified in the regular expression pattern, so `r.group(0)` represents the entire match.\n",
    "\n",
    " The `r = re.match('hello', 'hello everyone')`line uses the `re.match()` function directly to match the pattern `'hello'` against the input string `'hello everyone'`. It does not involve the compiled pattern `p`.\n",
    "\n",
    "Similarly the `print(r.group(0))` statement, this line attempts to print the content of the first (and only) capturing group in the match object `r` returned by the second `re.match()` call.\n",
    "\n",
    "For the first part (`r = p.match('hello everyone')`):\n",
    "- The regular expression `'hello'` matches the string \"hello\" at the beginning of the input, so `r` contains a match object.\n",
    "- `r.group(0)` prints the entire matched substring, which is \"hello.\"\n",
    "\n",
    "For the second part (`r = re.match('hello', 'hello everyone')`):\n",
    "- Here, the `re.match()` function is used directly with the pattern `'hello'` and the input string `'hello everyone'`.\n",
    "- Again, the regular expression matches the string \"hello\" at the beginning of the input.\n",
    "- `r.group(0)` also prints the entire matched substring, which is \"hello.\""
   ]
  },
  {
   "cell_type": "markdown",
   "id": "fe19e5a1",
   "metadata": {},
   "source": [
    "# ********************************************************************************************"
   ]
  },
  {
   "cell_type": "markdown",
   "id": "a2dbb57c",
   "metadata": {},
   "source": [
    "### 6)Explain re.compile using an example. Also using python code explain its usage."
   ]
  },
  {
   "cell_type": "markdown",
   "id": "75561fe1",
   "metadata": {},
   "source": [
    "re.compile() is a method in Python's re module that allows you to pre-compile a regular expression pattern into a regular expression object. This can be useful when you need to use the same regular expression pattern multiple times, as it can improve performance by avoiding recompilation of the pattern each time you use it. It also makes your code more readable and maintainable"
   ]
  },
  {
   "cell_type": "code",
   "execution_count": 11,
   "id": "d7a55753",
   "metadata": {},
   "outputs": [
    {
     "name": "stdout",
     "output_type": "stream",
     "text": [
      "Matched: 1234\n",
      "Matched: 123\n",
      "Matched: 42\n"
     ]
    }
   ],
   "source": [
    "pattern = re.compile(r'\\d{2,4}')  \n",
    "input_str1 = \"12345\"\n",
    "input_str2 = \"abc123\"\n",
    "input_str3 = \"42 is the answer\"\n",
    "\n",
    "match1 = pattern.search(input_str1)\n",
    "match2 = pattern.search(input_str2)\n",
    "match3 = pattern.search(input_str3)\n",
    "\n",
    "if match1:\n",
    "    print(\"Matched:\", match1.group())\n",
    "else:\n",
    "    print(\"No match found in input_str1\")\n",
    "\n",
    "if match2:\n",
    "    print(\"Matched:\", match2.group())\n",
    "else:\n",
    "    print(\"No match found in input_str2\")\n",
    "\n",
    "if match3:\n",
    "    print(\"Matched:\", match3.group())\n",
    "else:\n",
    "    print(\"No match found in input_str3\")"
   ]
  },
  {
   "cell_type": "markdown",
   "id": "113b84a5",
   "metadata": {},
   "source": [
    "# ********************************************************************************************"
   ]
  },
  {
   "cell_type": "markdown",
   "id": "46014600",
   "metadata": {},
   "source": [
    "### 7)Write a Python program that matches a string that has an ‘a’ followed by zero or more b's. "
   ]
  },
  {
   "cell_type": "code",
   "execution_count": 10,
   "id": "ffc198a2",
   "metadata": {},
   "outputs": [
    {
     "name": "stdout",
     "output_type": "stream",
     "text": [
      "Enter a string: qaab\n",
      "The input matches the pattern 'ab*'\n"
     ]
    }
   ],
   "source": [
    "def match_pattern(input_string):\n",
    "    pattern = r'ab*'\n",
    "\n",
    "    if re.search(pattern, input_string):\n",
    "        return True\n",
    "    else:\n",
    "        return False\n",
    "\n",
    "user_input = input(\"Enter a string: \")\n",
    "\n",
    "if match_pattern(user_input):\n",
    "    print(\"The input matches the pattern 'ab*'\")\n",
    "else:\n",
    "    print(\"The input does not match the pattern 'ab*'\")"
   ]
  },
  {
   "cell_type": "markdown",
   "id": "818d1c0a",
   "metadata": {},
   "source": [
    "1. Inside the `match_pattern` function, a regular expression pattern `ab*` is defined using the `r` prefix before the string. This pattern means:\n",
    "   - `a`: Match the character 'a' exactly.\n",
    "   - `b*`: Match zero or more occurrences of the character 'b'. The asterisk (*) is a quantifier that means \"zero or more.\"\n",
    "\n",
    "2. The code then uses the `re.search()` function to search for the pattern within the `input_string`. \n",
    "\n",
    "3. If `re.search()` finds a match, the `match_pattern` function returns `True`."
   ]
  },
  {
   "cell_type": "markdown",
   "id": "e8798599",
   "metadata": {},
   "source": [
    "# ********************************************************************************************"
   ]
  },
  {
   "cell_type": "markdown",
   "id": "a4fb49f1",
   "metadata": {},
   "source": [
    "### 8)Write a Python program to find sequences of lowercase letters joined with an underscore."
   ]
  },
  {
   "cell_type": "code",
   "execution_count": 17,
   "id": "d357dbe1",
   "metadata": {},
   "outputs": [
    {
     "name": "stdout",
     "output_type": "stream",
     "text": [
      "Enter a string: AQq_EWSws_\n",
      "Sequences of lowercase letters joined with underscores:\n",
      "q_\n",
      "ws_\n"
     ]
    }
   ],
   "source": [
    "def find_lowercase_sequences_with_underscore(input_string):\n",
    "    pattern = r'[a-z]+_+'\n",
    "    sequences = re.findall(pattern, input_string)\n",
    "    return sequences\n",
    "\n",
    "\n",
    "user_input = input(\"Enter a string: \")\n",
    "\n",
    "result = find_lowercase_sequences_with_underscore(user_input)\n",
    "if result:\n",
    "    print(\"Sequences of lowercase letters joined with underscores:\")\n",
    "    for sequence in result:\n",
    "        print(sequence)\n",
    "else:\n",
    "    print(\"No matching sequences found.\")"
   ]
  },
  {
   "cell_type": "markdown",
   "id": "7e18661c",
   "metadata": {},
   "source": [
    "Inside the find_lowercase_sequences_with_underscore function:\n",
    "A regular expression pattern r'[a-z]+_+' is defined, which matches sequences of one or more lowercase letters followed by one or more underscores.\n",
    "It uses re.findall() to find all non-overlapping matches of this pattern in the input_string.\n",
    "It returns a list of all the matching sequences found in the input string."
   ]
  },
  {
   "cell_type": "markdown",
   "id": "c41d8793",
   "metadata": {},
   "source": [
    "# ********************************************************************************************"
   ]
  },
  {
   "cell_type": "markdown",
   "id": "c89e4621",
   "metadata": {},
   "source": [
    "### 9)Write a Python program to match a string that contains only upper and lowercase letters, numbers, and underscores."
   ]
  },
  {
   "cell_type": "code",
   "execution_count": 20,
   "id": "53e1ff7f",
   "metadata": {},
   "outputs": [
    {
     "name": "stdout",
     "output_type": "stream",
     "text": [
      "Enter a string: niejns#d\n",
      "The input string is not valid.\n"
     ]
    }
   ],
   "source": [
    "def is_valid_string(input_string):\n",
    "    pattern = r'^[a-zA-Z0-9_]$'\n",
    "    return bool(re.match(pattern, input_string))\n",
    "\n",
    "user_input = input(\"Enter a string: \")\n",
    "if is_valid_string(user_input):\n",
    "    print(\"The input string is valid.\")\n",
    "else:\n",
    "    print(\"The input string is not valid.\")"
   ]
  },
  {
   "cell_type": "markdown",
   "id": "61f74975",
   "metadata": {},
   "source": [
    "In the function is_valid_string:\n",
    "1. We first define a regular expression pattern and assigns it to the variable `pattern`. The pattern `^[a-zA-Z0-9_]$` checks whether a string contains exactly one character that is either a letter, a digit, or an underscore. It uses `^` and `$` to ensure that the pattern matches the entire string, not just a part of it.\n",
    "\n",
    "2.We use the `re.match()` function from the `re` module to check if the `input_string` matches the `pattern`. If it does, it returns `True`; otherwise, it returns `False`. The `bool()` function is used to convert the result of `re.match()` into a Boolean value."
   ]
  },
  {
   "cell_type": "markdown",
   "id": "771af3a1",
   "metadata": {},
   "source": [
    "# ********************************************************************************************"
   ]
  },
  {
   "cell_type": "markdown",
   "id": "879672db",
   "metadata": {},
   "source": [
    "### 10) Write a Python program to remove leading zeros from an IP address."
   ]
  },
  {
   "cell_type": "code",
   "execution_count": 12,
   "id": "79201ec3",
   "metadata": {},
   "outputs": [
    {
     "name": "stdout",
     "output_type": "stream",
     "text": [
      "Enter an IP address: 192.001.010.002\n",
      "Cleaned IP address: 192.1.10.2\n"
     ]
    }
   ],
   "source": [
    "def remove_leading_zeros(ip_address):\n",
    "    octets = ip_address.split('.')\n",
    "    cleaned_octets = []\n",
    "\n",
    "    for octet in octets:\n",
    "        cleaned_octet = str(int(octet))  \n",
    "        cleaned_octets.append(cleaned_octet)\n",
    "\n",
    "    cleaned_ip_address = '.'.join(cleaned_octets)\n",
    "    return cleaned_ip_address\n",
    "\n",
    "user_input = input(\"Enter an IP address: \")\n",
    "cleaned_ip = remove_leading_zeros(user_input)\n",
    "print(\"Cleaned IP address:\", cleaned_ip)"
   ]
  },
  {
   "cell_type": "markdown",
   "id": "9943c869",
   "metadata": {},
   "source": [
    "The `remove_leading_zeros` function:\n",
    "\n",
    "1. splits the input `ip_address` into octets using the `split` method. The `.` character is used as the separator, so the IP address is divided into a list of strings, where each string represents an octet. For example, \"192.168.001.001\" would be split into the list `['192', '168', '001', '001']`.\n",
    "\n",
    "2. The code then initializes an empty list called `cleaned_octets` to store the cleaned octets without leading zeros.\n",
    "\n",
    "3. It enters a loop to process each octet one by one.\n",
    "\n",
    "4. Inside the loop, it first converts the current octet (which is a string) into an integer using the `int` function. This conversion will remove any leading zeros from the octet. For example, \"001\" becomes 1.\n",
    "\n",
    "5. It then converts the integer back to a string using the `str` function. This step ensures that all octets have the same format, with leading zeros removed. For example, \"001\" becomes \"1\".\n",
    "\n",
    "6. The cleaned octet is appended to the `cleaned_octets` list.\n",
    "\n",
    "7. After processing all the octets in the input IP address, the code joins the cleaned octets back together into a single string using the `join` method, with a period (`.`) as the separator. This reconstructs the cleaned IP address."
   ]
  },
  {
   "cell_type": "markdown",
   "id": "a30bfe98",
   "metadata": {},
   "source": [
    "# ********************************************************************************************"
   ]
  },
  {
   "cell_type": "markdown",
   "id": "e2c41cd8",
   "metadata": {},
   "source": [
    "### 11) Write a Python program to search a literals string in a string and also find the location within the original string where the pattern occurs \n",
    "#### Sample text : 'The quick brown fox jumps over the lazy dog.'\n",
    "#### Searched words : 'fox'"
   ]
  },
  {
   "cell_type": "code",
   "execution_count": 13,
   "id": "df21c676",
   "metadata": {},
   "outputs": [
    {
     "name": "stdout",
     "output_type": "stream",
     "text": [
      "The word 'fox' was found at index 16.\n"
     ]
    }
   ],
   "source": [
    "sample_text = 'The quick brown fox jumps over the lazy dog.'\n",
    "searched_word = 'fox'\n",
    "location = sample_text.find(searched_word)\n",
    "\n",
    "if location != -1:\n",
    "    print(f\"The word '{searched_word}' was found at index {location}.\")\n",
    "else:\n",
    "    print(f\"The word '{searched_word}' was not found in the sample text.\")"
   ]
  },
  {
   "cell_type": "markdown",
   "id": "f4fb6556",
   "metadata": {},
   "source": [
    "1. `sample_text` is a string containing the text in which you want to search for a specific word.\n",
    "2. `searched_word` is the word you want to find within the `sample_text`.\n",
    "3. `location` is a variable that stores the result of searching for `searched_word` within `sample_text` using the `find()` method. The `find()` method returns the index (position) of the first occurrence of the specified word within the string. If the word is not found, it returns -1.\n",
    "4. The code checks whether `location` is not equal to -1. If it's not equal to -1, it means that the `searched_word` was found in the `sample_text`. In this case, it prints a message indicating that the word was found and displays the index (position) at which it was found.\n",
    "5. If `location` is equal to -1, it means that the `searched_word` was not found in the `sample_text`. In this case, it prints a message indicating that the word was not found."
   ]
  },
  {
   "cell_type": "markdown",
   "id": "942deced",
   "metadata": {},
   "source": [
    "# ********************************************************************************************"
   ]
  },
  {
   "cell_type": "markdown",
   "id": "23c5d458",
   "metadata": {},
   "source": [
    "### 12)Write a Python program to convert a date of yyyy-mm-dd format to dd-mm-yyyy format."
   ]
  },
  {
   "cell_type": "code",
   "execution_count": 14,
   "id": "cee00019",
   "metadata": {
    "scrolled": true
   },
   "outputs": [
    {
     "name": "stdout",
     "output_type": "stream",
     "text": [
      "Enter date(in the form yyyy-mm-dd):2023-10-04\n",
      "Input Date: 2023-10-04\n",
      "Formatted Date: 04-10-2023\n"
     ]
    }
   ],
   "source": [
    "def convert_date_format(input_date):\n",
    "    date_pattern = r'(\\d{4})-(\\d{2})-(\\d{2})'\n",
    "    formatted_date = re.sub(date_pattern, r'\\3-\\2-\\1', input_date)\n",
    "    return formatted_date\n",
    "\n",
    "input_date =input (\"Enter date(in the form yyyy-mm-dd):\")\n",
    "formatted_date = convert_date_format(input_date)\n",
    "print(\"Input Date:\", input_date)\n",
    "print(\"Formatted Date:\", formatted_date)"
   ]
  },
  {
   "cell_type": "markdown",
   "id": "bad039fa",
   "metadata": {},
   "source": [
    "The `convert_date_format` function:\n",
    "   - Define a regular expression pattern called `date_pattern`. This pattern is designed to match dates in the format 'YYYY-MM-DD', where 'YYYY' represents the year, 'MM' represents the month, and 'DD' represents the day, each consisting of two digits.\n",
    "\n",
    "   - Use the `re.sub` function to replace the matched date pattern with a new string. In this case, it replaces the 'YYYY-MM-DD' format with 'DD-MM-YYYY' format, effectively swapping the day and year portions of the date.\n",
    "\n",
    "   - Store the result in the `formatted_date` variable.\n",
    "\n"
   ]
  },
  {
   "cell_type": "markdown",
   "id": "58745368",
   "metadata": {},
   "source": [
    "# ********************************************************************************************"
   ]
  }
 ],
 "metadata": {
  "kernelspec": {
   "display_name": "Python 3 (ipykernel)",
   "language": "python",
   "name": "python3"
  },
  "language_info": {
   "codemirror_mode": {
    "name": "ipython",
    "version": 3
   },
   "file_extension": ".py",
   "mimetype": "text/x-python",
   "name": "python",
   "nbconvert_exporter": "python",
   "pygments_lexer": "ipython3",
   "version": "3.11.4"
  }
 },
 "nbformat": 4,
 "nbformat_minor": 5
}
