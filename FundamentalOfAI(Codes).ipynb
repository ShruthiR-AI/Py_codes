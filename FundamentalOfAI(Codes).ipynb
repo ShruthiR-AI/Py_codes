{
 "cells": [
  {
   "cell_type": "markdown",
   "id": "31149f96",
   "metadata": {},
   "source": [
    "## Q1: x+y+z = n , where, x,y,z <= n"
   ]
  },
  {
   "cell_type": "code",
   "execution_count": 3,
   "id": "97527846",
   "metadata": {},
   "outputs": [
    {
     "name": "stdout",
     "output_type": "stream",
     "text": [
      "Enter a value for n: 1\n",
      "x = 0, y = 0, z = 1\n",
      "x = 0, y = 1, z = 0\n",
      "x = 1, y = 0, z = 0\n"
     ]
    }
   ],
   "source": [
    "n = int(input(\"Enter a value for n: \"))\n",
    "\n",
    "for x in range(n + 1):\n",
    "    for y in range(n + 1):\n",
    "        for z in range(n + 1):\n",
    "            if x + y + z == n:\n",
    "                print(f\"x = {x}, y = {y}, z = {z}\")"
   ]
  },
  {
   "cell_type": "markdown",
   "id": "50986fe1",
   "metadata": {},
   "source": [
    "## Q2: number of squares possible given a matrix size"
   ]
  },
  {
   "cell_type": "code",
   "execution_count": 5,
   "id": "172a795e",
   "metadata": {},
   "outputs": [
    {
     "name": "stdout",
     "output_type": "stream",
     "text": [
      "Enter the number of rows: 4\n",
      "Enter the number of columns: 5\n",
      "Number of squares: 40\n"
     ]
    }
   ],
   "source": [
    "# Taking input for the number of rows and columns\n",
    "rows = int(input(\"Enter the number of rows: \"))\n",
    "columns = int(input(\"Enter the number of columns: \"))\n",
    "\n",
    "# Initializing a variable to store the count of squares\n",
    "count = 0\n",
    "\n",
    "# Loop to count squares\n",
    "for size in range(1, min(rows, columns) + 1):\n",
    "    count += (rows - size + 1) * (columns - size + 1)\n",
    "\n",
    "# Displaying the count of squares\n",
    "print(\"Number of squares:\", count)"
   ]
  },
  {
   "cell_type": "code",
   "execution_count": null,
   "id": "8720a557",
   "metadata": {},
   "outputs": [],
   "source": []
  }
 ],
 "metadata": {
  "kernelspec": {
   "display_name": "Python 3 (ipykernel)",
   "language": "python",
   "name": "python3"
  },
  "language_info": {
   "codemirror_mode": {
    "name": "ipython",
    "version": 3
   },
   "file_extension": ".py",
   "mimetype": "text/x-python",
   "name": "python",
   "nbconvert_exporter": "python",
   "pygments_lexer": "ipython3",
   "version": "3.11.4"
  }
 },
 "nbformat": 4,
 "nbformat_minor": 5
}
