{
 "cells": [
  {
   "cell_type": "markdown",
   "id": "be362d40",
   "metadata": {},
   "source": [
    "# Part A"
   ]
  },
  {
   "cell_type": "code",
   "execution_count": 33,
   "id": "7a29c9be",
   "metadata": {},
   "outputs": [],
   "source": [
    "import roboticstoolbox as rtb\n",
    "import spatialmath as sm\n",
    "import spatialgeometry as sg\n",
    "from sympy import symbols, deg"
   ]
  },
  {
   "cell_type": "markdown",
   "id": "59306baf",
   "metadata": {},
   "source": [
    "## Question 1"
   ]
  },
  {
   "cell_type": "markdown",
   "id": "4fca4292",
   "metadata": {},
   "source": [
    "Find the rotation matrix representation of ZYX (RAR) from the given angles $\\alpha$, $\\beta$ and $\\gamma$ about Z, Y and X axis respectively? Also find the expressions for inverse case, i.e., angles given a rotation matrix."
   ]
  },
  {
   "cell_type": "markdown",
   "id": "eb97f53b",
   "metadata": {},
   "source": [
    "### Answer: (Manual)"
   ]
  },
  {
   "cell_type": "markdown",
   "id": "f7cda716",
   "metadata": {},
   "source": [
    "R_z = \\begin{equation}\n",
    "\\begin{pmatrix}\n",
    "  cos\\alpha   &-sin\\alpha   &0  \\\\\n",
    "  sin\\alpha   &cos\\alpha   &0 \\\\\n",
    "  0 &0 &1\\\\\n",
    "\\end{pmatrix}\n",
    "\\end{equation}"
   ]
  },
  {
   "cell_type": "markdown",
   "id": "617c6e5f",
   "metadata": {},
   "source": [
    "R_y = \\begin{equation}\n",
    "\\begin{pmatrix}\n",
    "  cos\\beta   &0   &sin\\beta  \\\\\n",
    "  0   &1   &0 \\\\\n",
    "  -sin\\beta &0 &cos\\beta \\\\\n",
    "\\end{pmatrix}\n",
    "\\end{equation}"
   ]
  },
  {
   "cell_type": "markdown",
   "id": "8231613f",
   "metadata": {},
   "source": [
    "R_x = \\begin{equation}\n",
    "\\begin{pmatrix}\n",
    "  0   &0   &1  \\\\\n",
    "  0   &cos\\gamma   &-sin\\gamma \\\\\n",
    "  0 &sin\\gamma &cos\\gamma \\\\\n",
    "\\end{pmatrix}\n",
    "\\end{equation}"
   ]
  },
  {
   "cell_type": "markdown",
   "id": "7b5170db",
   "metadata": {},
   "source": [
    "R_z * R_y * R_x = \\begin{equation}\n",
    "\\begin{pmatrix}\n",
    "  cos\\alpha   &-sin\\alpha   &0  \\\\\n",
    "  sin\\alpha   &cos\\alpha   &0 \\\\\n",
    "  0 &0 &1\\\\\n",
    "\\end{pmatrix} * \\begin{pmatrix}\n",
    "  cos\\beta   &0   &sin\\beta  \\\\\n",
    "  0   &1   &0 \\\\\n",
    "  -sin\\beta &0 &cos\\beta \\\\\n",
    "\\end{pmatrix} * \\begin{pmatrix}\n",
    "  0   &0   &1  \\\\\n",
    "  0   &cos\\gamma   &-sin\\gamma \\\\\n",
    "  0 &sin\\gamma &cos\\gamma \\\\\n",
    "\\end{pmatrix}\n",
    "\\end{equation}"
   ]
  },
  {
   "cell_type": "markdown",
   "id": "1d0c4629",
   "metadata": {},
   "source": [
    "R_z * R_y * R_x = \\begin{equation}\n",
    "\\begin{pmatrix}\n",
    "\\cos(\\alpha) \\cos(\\beta) \\cos(\\gamma) - \\sin(\\alpha) \\sin(\\gamma) & -\\cos(\\alpha) \\cos(\\beta) \\sin(\\gamma) - \\sin(\\alpha) \\cos(\\gamma) & -\\cos(\\alpha) \\sin(\\beta) \\\\\n",
    "\\sin(\\alpha) \\cos(\\beta) \\cos(\\gamma) + \\cos(\\alpha) \\sin(\\gamma) & \\sin(\\alpha) \\cos(\\beta) \\sin(\\gamma) - \\cos(\\alpha) \\cos(\\gamma) & -\\sin(\\alpha) \\sin(\\beta) \\\\\n",
    "\\sin(\\beta) \\cos(\\gamma) & \\sin(\\beta) \\sin(\\gamma) & \\cos(\\beta)\n",
    "\\end{pmatrix}\n",
    "\\end{equation}"
   ]
  },
  {
   "cell_type": "markdown",
   "id": "cb81c685",
   "metadata": {},
   "source": [
    "The inverse will be: \\begin{pmatrix}\n",
    "\\cos(\\beta) \\cos(\\gamma) & -\\sin(\\alpha) \\sin(\\beta) \\cos(\\gamma) + \\cos(\\alpha) \\sin(\\gamma) & \\sin(\\alpha) \\cos(\\beta) \\sin(\\gamma) + \\cos(\\alpha) \\cos(\\gamma) \\\\\n",
    "\\cos(\\beta) \\sin(\\gamma) & \\sin(\\alpha) \\sin(\\beta) \\sin(\\gamma) + \\cos(\\alpha) \\cos(\\gamma) & \\sin(\\alpha) \\cos(\\beta) \\cos(\\gamma) - \\cos(\\alpha) \\sin(\\gamma) \\\\\n",
    "-\\sin(\\beta) & \\sin(\\alpha) \\cos(\\beta) & \\cos(\\alpha) \\cos(\\beta)\n",
    "\\end{pmatrix}"
   ]
  },
  {
   "cell_type": "markdown",
   "id": "bb036c9a",
   "metadata": {},
   "source": [
    "### Answer: (Code)"
   ]
  },
  {
   "cell_type": "code",
   "execution_count": 36,
   "id": "c8a1cd5e",
   "metadata": {},
   "outputs": [
    {
     "name": "stdout",
     "output_type": "stream",
     "text": [
      "Rotation matrix ZYX (RAR):\n",
      "  \u001b[38;5;1mcos(beta)*cos(gamma)\u001b[0m \u001b[38;5;1msin(alpha)*sin(beta)*cos(gamma) - sin(gamma)*cos(alpha)\u001b[0m \u001b[38;5;1msin(alpha)*sin(gamma) + sin(beta)*cos(alpha)*cos(gamma)\u001b[0m  \u001b[0m\n",
      "  \u001b[38;5;1msin(gamma)*cos(beta)\u001b[0m \u001b[38;5;1msin(alpha)*sin(beta)*sin(gamma) + cos(alpha)*cos(gamma)\u001b[0m \u001b[38;5;1m-sin(alpha)*cos(gamma) + sin(beta)*sin(gamma)*cos(alpha)\u001b[0m  \u001b[0m\n",
      "  \u001b[38;5;1m-sin(beta)  \u001b[0m \u001b[38;5;1msin(alpha)*cos(beta)\u001b[0m \u001b[38;5;1mcos(alpha)*cos(beta)\u001b[0m  \u001b[0m\n",
      "\n",
      "\n",
      "Inverse rotation matrix:\n",
      "  \u001b[38;5;1mcos(beta)*cos(gamma)\u001b[0m \u001b[38;5;1msin(gamma)*cos(beta)\u001b[0m \u001b[38;5;1m-sin(beta)  \u001b[0m  \u001b[0m\n",
      "  \u001b[38;5;1msin(alpha)*sin(beta)*cos(gamma) - sin(gamma)*cos(alpha)\u001b[0m \u001b[38;5;1msin(alpha)*sin(beta)*sin(gamma) + cos(alpha)*cos(gamma)\u001b[0m \u001b[38;5;1msin(alpha)*cos(beta)\u001b[0m  \u001b[0m\n",
      "  \u001b[38;5;1msin(alpha)*sin(gamma) + sin(beta)*cos(alpha)*cos(gamma)\u001b[0m \u001b[38;5;1m-sin(alpha)*cos(gamma) + sin(beta)*sin(gamma)*cos(alpha)\u001b[0m \u001b[38;5;1mcos(alpha)*cos(beta)\u001b[0m  \u001b[0m\n",
      "\n"
     ]
    }
   ],
   "source": [
    "alpha, beta, gamma = symbols('alpha beta gamma')\n",
    "\n",
    "R_z = sm.SO3.Rx(alpha)\n",
    "R_y = sm.SO3.Ry(beta)\n",
    "R_x = sm.SO3.Rz(gamma)\n",
    "\n",
    "R = R_x * R_y * R_z\n",
    "\n",
    "print(\"Rotation matrix ZYX (RAR):\")\n",
    "print(R)\n",
    "\n",
    "R_inv = R.inv()\n",
    "\n",
    "print(\"\\nInverse rotation matrix:\")\n",
    "print(R_inv)"
   ]
  },
  {
   "cell_type": "markdown",
   "id": "3a72afa1",
   "metadata": {},
   "source": [
    "## Question 2"
   ]
  },
  {
   "cell_type": "markdown",
   "id": "42890a36",
   "metadata": {},
   "source": [
    "Find the rotation matrix at $\\beta$ = -90 degrees for XYZ (FAR)."
   ]
  },
  {
   "cell_type": "markdown",
   "id": "237ecd18",
   "metadata": {},
   "source": [
    "### Answer: (Manual)"
   ]
  },
  {
   "cell_type": "markdown",
   "id": "33f09d6d",
   "metadata": {},
   "source": [
    "R_x = \\begin{equation}\n",
    "\\begin{pmatrix}\n",
    "  0   &0   &1  \\\\\n",
    "  0   &cos\\gamma   &-sin\\gamma \\\\\n",
    "  0 &sin\\gamma &cos\\gamma \\\\\n",
    "\\end{pmatrix}\n",
    "\\end{equation}"
   ]
  },
  {
   "cell_type": "markdown",
   "id": "9c2027d0",
   "metadata": {},
   "source": [
    "R_y = \n",
    "\\begin{equation}\n",
    "\\begin{pmatrix}\n",
    "  cos90   &0   &sin90  \\\\\n",
    "  0   &1   &0 \\\\\n",
    "  -sin90 &0 &cos90 \\\\\n",
    "\\end{pmatrix}\n",
    "\\end{equation}\n",
    "\n",
    "=\n",
    "\\begin{pmatrix}\n",
    "0 &0 &1 \\\\\n",
    "0 &1 &0 \\\\\n",
    "-1 &0 &0 \\\\\n",
    "\\end{pmatrix}"
   ]
  },
  {
   "cell_type": "markdown",
   "id": "373a1ae9",
   "metadata": {},
   "source": [
    "R_z = \\begin{equation}\n",
    "\\begin{pmatrix}\n",
    "  cos\\alpha   &-sin\\alpha   &0  \\\\\n",
    "  sin\\alpha   &cos\\alpha   &0 \\\\\n",
    "  0 &0 &1\\\\\n",
    "\\end{pmatrix}\n",
    "\\end{equation}"
   ]
  },
  {
   "cell_type": "markdown",
   "id": "91545240",
   "metadata": {},
   "source": [
    "R = \\begin{equation}\n",
    "\\begin{bmatrix}\n",
    "\\cos\\gamma & -\\sin\\gamma & 0 \\\\\n",
    "\\sin\\gamma & \\cos\\gamma & 0 \\\\\n",
    "0 & 0 & 1\n",
    "\\end{bmatrix} * \\begin{bmatrix}\n",
    "0 & 0 & -1 \\\\\n",
    "0 & 1 & 0 \\\\\n",
    "1 & 0 & 0\n",
    "\\end{bmatrix} * \\begin{bmatrix}\n",
    "1 & 0 & 0 \\\\\n",
    "0 & \\cos\\alpha & -\\sin\\alpha \\\\\n",
    "0 & \\sin\\alpha & \\cos\\alpha\n",
    "\\end{bmatrix}\n",
    "\\end{equation}"
   ]
  },
  {
   "cell_type": "markdown",
   "id": "d53f4cb6",
   "metadata": {},
   "source": [
    "R = \\begin{bmatrix}\n",
    "\\cos\\gamma & 0 & -\\sin\\gamma \\\\\n",
    "\\sin\\gamma\\sin\\alpha & \\cos\\alpha & -\\cos\\gamma\\sin\\alpha \\\\\n",
    "\\sin\\gamma\\cos\\alpha & -\\sin\\alpha & \\cos\\gamma\\cos\\alpha\n",
    "\\end{bmatrix}"
   ]
  },
  {
   "cell_type": "markdown",
   "id": "9b6c5e75",
   "metadata": {},
   "source": [
    "### Answer: (Code)"
   ]
  },
  {
   "cell_type": "code",
   "execution_count": 37,
   "id": "eebe667b",
   "metadata": {},
   "outputs": [
    {
     "name": "stdout",
     "output_type": "stream",
     "text": [
      "Rotation Matrix at beta = -90 degrees (XYZ FAR):\n",
      "[[6.12323399573677e-17*cos(gamma), -1.0*sin(alpha + gamma), -1.0*cos(alpha + gamma)], [6.12323399573677e-17*sin(gamma), 1.0*cos(alpha + gamma), -1.0*sin(alpha + gamma)], [1.0, 6.12323399573677e-17*sin(alpha), 6.12323399573677e-17*cos(alpha)]]\n"
     ]
    }
   ],
   "source": [
    "import numpy as np\n",
    "from sympy import symbols\n",
    "from spatialmath import SO3\n",
    "from sympy import simplify\n",
    "\n",
    "alpha, beta, gamma = symbols('alpha beta gamma')\n",
    "beta = np.deg2rad(-90)\n",
    "\n",
    "R_x = SO3.Rx(alpha)\n",
    "R_y = SO3.Ry(beta)\n",
    "R_z = SO3.Rz(gamma)\n",
    "\n",
    "R = R_z * R_y * R_x\n",
    "rotation_matrix_a = R.A\n",
    "simplified_matrix = simplify(rotation_matrix_a)\n",
    "\n",
    "print(\"Rotation Matrix at beta = -90 degrees (XYZ FAR):\")\n",
    "print(simplified_matrix)"
   ]
  },
  {
   "cell_type": "markdown",
   "id": "d869bfc8",
   "metadata": {},
   "source": [
    "## Question 3:"
   ]
  },
  {
   "cell_type": "markdown",
   "id": "2265c223",
   "metadata": {},
   "source": [
    "Find the singularities (both angles and rotation matrix at the singularities) for ZYX (RAR) and ZYZ (RAR). Compare the solutions with XYZ (FAR) taught in the class. Find the solution for all 3 sequences at their singularities if alpha is zero degrees."
   ]
  },
  {
   "cell_type": "markdown",
   "id": "76e81473",
   "metadata": {},
   "source": [
    "### Answer: (Manual)"
   ]
  },
  {
   "cell_type": "markdown",
   "id": "52723ec3",
   "metadata": {},
   "source": [
    "In the ZYX convention, the rotation matrix is given by:\n",
    "\n",
    "$$\n",
    "R = R_z(\\alpha) \\cdot R_y(\\beta) \\cdot R_x(\\gamma)\n",
    "$$\n",
    "\n",
    "The singularity occurs when $\\beta = \\pm 90^\\circ$, as the rotation about the Y-axis becomes undefined. At the singularity, the rotation matrix simplifies to:\n",
    "\n",
    "$$\n",
    "R = R_z(\\alpha) \\cdot \\begin{bmatrix}\n",
    "\\cos\\beta & 0 & \\sin\\beta \\\\\n",
    "0 & \\pm 1 & 0 \\\\\n",
    "-\\sin\\beta & 0 & \\cos\\beta\n",
    "\\end{bmatrix} \\cdot R_x(\\gamma)\n",
    "$$\n",
    "\n",
    "For $\\alpha = 0^\\circ$ and $\\beta = \\pm 90^\\circ$, the rotation matrix becomes:\n",
    "\n",
    "$$\n",
    "R = \\begin{bmatrix}\n",
    "\\cos\\gamma & \\mp\\sin\\gamma & 0 \\\\\n",
    "\\sin\\gamma & \\pm\\cos\\gamma & 0 \\\\\n",
    "0 & 0 & \\pm 1\n",
    "\\end{bmatrix}\n",
    "$$"
   ]
  },
  {
   "cell_type": "markdown",
   "id": "06ce50b9",
   "metadata": {},
   "source": [
    "In the ZYZ convention, the rotation matrix is given by:\n",
    "\n",
    "$$\n",
    "R = R_z(\\alpha) \\cdot R_y(\\beta) \\cdot R_z(\\gamma)\n",
    "$$\n",
    "\n",
    "The singularity occurs when $\\beta = 0^\\circ$ or $\\beta = \\pm 180^\\circ$, as the rotation about the Y-axis becomes undefined. At the singularity, the rotation matrix simplifies to:\n",
    "\n",
    "$$\n",
    "R = R_z(\\alpha) \\cdot \\begin{bmatrix}\n",
    "\\cos\\beta & 0 & \\sin\\beta \\\\\n",
    "0 & 1 & 0 \\\\\n",
    "-\\sin\\beta & 0 & \\cos\\beta\n",
    "\\end{bmatrix} \\cdot R_z(\\gamma)\n",
    "$$\n",
    "\n",
    "For $\\alpha = 0^\\circ$ and $\\beta = 0^\\circ$ or $\\beta = \\pm 180^\\circ$, the rotation matrix becomes:\n",
    "$$\n",
    "R = \\begin{bmatrix}\n",
    "\\cos(\\alpha + \\gamma) & -\\sin(\\alpha + \\gamma) & 0 \\\\\n",
    "\\sin(\\alpha + \\gamma) & \\cos(\\alpha + \\gamma) & 0 \\\\\n",
    "0 & 0 & \\pm 1\n",
    "\\end{bmatrix}\n",
    "$$"
   ]
  },
  {
   "cell_type": "markdown",
   "id": "4b61acc4",
   "metadata": {},
   "source": [
    "In the XYZ convention, the rotation matrix is given by:\n",
    "\n",
    "$$\n",
    "R = R_z(\\alpha) \\cdot R_y(\\beta) \\cdot R_x(\\gamma)\n",
    "$$\n",
    "\n",
    "The singularity occurs when $\\beta = \\pm 90^\\circ$, as the rotation about the Y-axis becomes undefined. At the singularity, the rotation matrix simplifies to:\n",
    "\n",
    "$$\n",
    "R = R_z(\\alpha) \\cdot \\begin{bmatrix}\n",
    "\\cos\\beta & 0 & \\sin\\beta \\\\\n",
    "0 & \\pm 1 & 0 \\\\\n",
    "-\\sin\\beta & 0 & \\cos\\beta\n",
    "\\end{bmatrix} \\cdot R_x(\\gamma)\n",
    "$$\n",
    "\n",
    "For $\\alpha = 0^\\circ$ and $\\beta = \\pm 90^\\circ$, the rotation matrix becomes:\n",
    "\n",
    "$$\n",
    "R = \\begin{bmatrix}\n",
    "\\cos\\gamma & \\mp\\sin\\gamma & 0 \\\\\n",
    "\\sin\\gamma & \\pm\\cos\\gamma & 0 \\\\\n",
    "0 & 0 & \\pm 1\n",
    "\\end{bmatrix}\n",
    "$$"
   ]
  },
  {
   "cell_type": "markdown",
   "id": "2ef95ebe",
   "metadata": {},
   "source": [
    "### Answer: (Code)"
   ]
  },
  {
   "cell_type": "code",
   "execution_count": 38,
   "id": "3a5d389a",
   "metadata": {},
   "outputs": [
    {
     "name": "stdout",
     "output_type": "stream",
     "text": [
      "  \u001b[38;5;1m 0       \u001b[0m \u001b[38;5;1m 0       \u001b[0m \u001b[38;5;1m-1       \u001b[0m  \u001b[0m\n",
      "  \u001b[38;5;1m 0       \u001b[0m \u001b[38;5;1m 1       \u001b[0m \u001b[38;5;1m 0       \u001b[0m  \u001b[0m\n",
      "  \u001b[38;5;1m 1       \u001b[0m \u001b[38;5;1m 0       \u001b[0m \u001b[38;5;1m 0       \u001b[0m  \u001b[0m\n",
      "\n"
     ]
    }
   ],
   "source": [
    "import spatialmath as sm\n",
    "import numpy as np\n",
    "\n",
    "def rotation_x(alpha):\n",
    "    return sm.SO3.Rx(alpha)\n",
    "\n",
    "def rotation_y(beta):\n",
    "    return sm.SO3.Ry(beta)\n",
    "\n",
    "def rotation_z(gamma):\n",
    "    return sm.SO3.Rz(gamma)\n",
    "\n",
    "def rotation_xyz(alpha, beta, gamma):\n",
    "    Rz = rotation_z(gamma)\n",
    "    Ry = rotation_y(beta)\n",
    "    Rx = rotation_x(alpha)\n",
    "    return Rz @ Ry @ Rx\n",
    "\n",
    "beta = -np.pi/2\n",
    "rotation_matrix = rotation_xyz(0, beta, 0)\n",
    "print(rotation_matrix)"
   ]
  },
  {
   "cell_type": "markdown",
   "id": "ca6a1685",
   "metadata": {},
   "source": [
    "## Question 4"
   ]
  },
  {
   "cell_type": "markdown",
   "id": "607176e9",
   "metadata": {},
   "source": [
    "What is a gimbal lock an how is it associated with the singularity of 3 angle representations?"
   ]
  },
  {
   "cell_type": "markdown",
   "id": "2a289c8b",
   "metadata": {},
   "source": [
    "## Answer: (Manual)"
   ]
  },
  {
   "cell_type": "markdown",
   "id": "e97f9ec5",
   "metadata": {},
   "source": [
    "A gimbal lock is a phenomenon that occurs in 3D rotation representations that use three successive rotations, such as the Euler angle or the fixed-axis rotation (XYZ, ZYX, etc.) representations. It is associated with the singularity of these representations.\n",
    "\n",
    "In a 3-angle representation, there are specific configurations where two of the rotation axes become aligned, causing a loss of one degree of freedom (DOF) in the rotation. This happens when one of the angles approaches ±90 degrees (or ±π/2 radians). At this point, the third rotation becomes a redundant operation, as it can be achieved by a combination of the remaining two rotations.\n",
    "\n",
    "For example, in the XYZ (Fixed-Axis Rotation) convention, when the second rotation angle β approaches ±90 degrees, the X and Z axes become aligned, and the first rotation (α) and the third rotation (γ) become indistinguishable. This means that there is no unique way to represent a given orientation using the three angles, as multiple combinations of α, β, and γ can lead to the same final orientation.\n",
    "\n",
    "This singularity is known as a gimbal lock because it was first observed in mechanical systems that used a series of three gimbals (rings) to achieve 3D rotation. When one of the gimbals reached a 90-degree rotation, the mechanism would lock up, and further rotation would be impossible."
   ]
  },
  {
   "cell_type": "markdown",
   "id": "439dc969",
   "metadata": {},
   "source": [
    "## Question 5"
   ]
  },
  {
   "cell_type": "markdown",
   "id": "7c563025",
   "metadata": {},
   "source": [
    "Find the equality between the quaternions (a, -b, -c, -d) and (-a, b, c. d)."
   ]
  },
  {
   "cell_type": "markdown",
   "id": "86947c3d",
   "metadata": {},
   "source": [
    "## Answer: (Manual)"
   ]
  },
  {
   "cell_type": "markdown",
   "id": "c56ba016",
   "metadata": {},
   "source": [
    "Consider the quaternions (a, -b, -c, -d) and (-a, b, c, d).\n",
    "\n",
    "Quaternion 1: (a, -b, -c, -d) = a - bi - cj - dk\n",
    "Quaternion 2: (-a, b, c, d) = -a + bi + cj + dk\n",
    "\n",
    "It can be observed that the scalar parts of these quaternions have opposite signs, and the vector parts also have opposite signs for each component.\n",
    "\n",
    "However, quaternions have a property that if the signs of both the scalar and vector parts are changed simultaneously, the quaternion remains unchanged. This is because the quaternion units i, j, and k have a multiplicative property that negates themselves when squared.\n",
    "\n",
    "In other words:\n",
    "\n",
    "-(a + bi + cj + dk) = (-a) + (-b)i + (-c)j + (-d)k = (-a) - bi - cj - dk"
   ]
  },
  {
   "cell_type": "markdown",
   "id": "da76306a",
   "metadata": {},
   "source": [
    "## Answer: (Code)"
   ]
  },
  {
   "cell_type": "code",
   "execution_count": 39,
   "id": "48151da3",
   "metadata": {},
   "outputs": [
    {
     "name": "stdout",
     "output_type": "stream",
     "text": [
      "The quaternions (2, -3, -4, -5) and (-2, 3, 4, 5) are equal.\n",
      "The quaternions (1, -2, -3, -4) and (-1, 2, 3, 4) are equal.\n",
      "The quaternions (0, 0, 0, 0) and (0, 0, 0, 0) are equal.\n"
     ]
    }
   ],
   "source": [
    "import numpy as np\n",
    "\n",
    "def quaternion_equality(a, b, c, d):\n",
    "    q1 = np.array([a, -b, -c, -d])\n",
    "    q2 = np.array([-a, b, c, d])\n",
    "    \n",
    "    # Check if the quaternions are equal\n",
    "    if np.array_equal(q1, -q2):\n",
    "        print(f\"The quaternions ({a}, {-b}, {-c}, {-d}) and ({-a}, {b}, {c}, {d}) are equal.\")\n",
    "    else:\n",
    "        print(f\"The quaternions ({a}, {-b}, {-c}, {-d}) and ({-a}, {b}, {c}, {d}) are not equal.\")\n",
    "\n",
    "# Example usage\n",
    "quaternion_equality(2, 3, 4, 5)  # Output: The quaternions (2, -3, -4, -5) and (-2, 3, 4, 5) are equal.\n",
    "quaternion_equality(1, 2, 3, 4)  # Output: The quaternions (1, -2, -3, -4) and (-1, 2, 3, 4) are equal.\n",
    "quaternion_equality(0, 0, 0, 0)  # Output: The quaternions (0, 0, 0, 0) and (0, 0, 0, 0) are equal."
   ]
  },
  {
   "cell_type": "markdown",
   "id": "f5d3c58d",
   "metadata": {},
   "source": [
    "## Question 6"
   ]
  },
  {
   "cell_type": "markdown",
   "id": "f7a96458",
   "metadata": {},
   "source": [
    "What is Hamiltonian product? Show that multiplying 2 quaternions will result in the Hamiltonian product. Also show that rotation matrix multiplication is equivalent to quaternion multiplication."
   ]
  },
  {
   "cell_type": "markdown",
   "id": "515bd345",
   "metadata": {},
   "source": [
    "## Answer: (Manual)"
   ]
  },
  {
   "cell_type": "markdown",
   "id": "83255eaf",
   "metadata": {},
   "source": [
    "Let's consider two quaternions, q1 and q2, represented as:\n",
    "\n",
    "q1 = a1 + b1i + c1j + d1k\n",
    "q2 = a2 + b2i + c2j + d2k\n",
    "\n",
    "The Hamiltonian product of q1 and q2, denoted as q1 ⊗ q2, is defined as:\n",
    "\n",
    "q1 ⊗ q2 = (a1a2 - b1b2 - c1c2 - d1d2) + (a1b2 + b1a2 + c1d2 - d1c2)i + (a1c2 - b1d2 + c1a2 + d1b2)j + (a1d2 + b1c2 - c1b2 + d1a2)k\n",
    "\n",
    "To show that multiplying two quaternions results in the Hamiltonian product, we can perform the multiplication using the quaternion unit rules:\n",
    "\n",
    "i^2 = j^2 = k^2 = ijk = -1\n",
    "\n",
    "q1 ⊗ q2 = (a1a2 - b1b2 - c1c2 - d1d2) + (a1b2 + b1a2)i + (a1c2 + c1a2)j + (a1d2 + d1a2)k\n",
    "+ (b1c2 - c1b2 + c1d2 - d1c2)ij + (b1d2 - d1b2 + d1a2 - a1b2)jk + (c1b2 - b1c2 + a1d2 - d1a2)ki\n",
    "\n",
    "Substituting the quaternion unit rules, we get:\n",
    "\n",
    "q1 ⊗ q2 = (a1a2 - b1b2 - c1c2 - d1d2) + (a1b2 + b1a2)i + (a1c2 + c1a2)j + (a1d2 + d1a2)k\n",
    "+ (b1c2 - c1b2 + c1d2 - d1c2)(-k) + (b1d2 - d1b2 + d1a2 - a1b2)(j) + (c1b2 - b1c2 + a1d2 - d1a2)(i)\n",
    "\n",
    "Rearranging the terms, we get the Hamiltonian product:\n",
    "\n",
    "q1 ⊗ q2 = (a1a2 - b1b2 - c1c2 - d1d2) + (a1b2 + b1a2 + c1d2 - d1c2)i + (a1c2 - b1d2 + c1a2 + d1b2)j + (a1d2 + b1c2 - c1b2 + d1a2)k\n",
    "\n",
    "This shows that the multiplication of two quaternions follows the Hamiltonian product rules.\n",
    "\n",
    "To show that rotation matrix multiplication is equivalent to quaternion multiplication, we need to express the rotation matrix in terms of quaternions. A rotation matrix R can be expressed as:\n",
    "\n",
    "R = I + 2(wq + q ⊗ q)\n",
    "\n",
    "where I is the identity matrix, w is the scalar part of the quaternion, and q is the vector part of the quaternion.\n",
    "\n",
    "Let's consider two rotation matrices R1 and R2, expressed in terms of quaternions q1 and q2, respectively:\n",
    "\n",
    "R1 = I + 2(w1q1 + q1 ⊗ q1)\n",
    "R2 = I + 2(w2q2 + q2 ⊗ q2)\n",
    "\n",
    "The product of R1 and R2 can be written as:\n",
    "\n",
    "R1 ⊗ R2 = (I + 2(w1q1 + q1 ⊗ q1)) ⊗ (I + 2(w2q2 + q2 ⊗ q2))\n",
    "= I ⊗ I + 2(w1q1 ⊗ I + I ⊗ w2q2) + 2(q1 ⊗ q1 ⊗ I + I ⊗ q2 ⊗ q2) + 4(w1q1 ⊗ w2q2 + q1 ⊗ q1 ⊗ w2q2 + w1q1 ⊗ q2 ⊗ q2)\n",
    "\n",
    "Using the properties of quaternion multiplication and the fact that I ⊗ q = q ⊗ I = q, we can simplify the expression:\n",
    "\n",
    "R1 ⊗ R2 = I + 2(w1w2 - q1 · q2)q1 + 2(w1w2 - q1 · q2)q2 + 4(w1w2 + q1 · q2)q1 ⊗ q2\n",
    "= I + 2(2w1w2 + 2q1 · q2)q1 ⊗ q2\n",
    "\n",
    "This expression matches the form of a rotation matrix expressed in terms of a quaternion q = w1w2 + q1 ⊗ q2.\n",
    "\n",
    "Therefore, we can conclude that the multiplication of two rotation matrices is equivalent to the Hamiltonian product of their corresponding quaternions."
   ]
  },
  {
   "cell_type": "markdown",
   "id": "d378aabe",
   "metadata": {},
   "source": [
    "## Answer: (Code)"
   ]
  },
  {
   "cell_type": "code",
   "execution_count": 41,
   "id": "5e58c875",
   "metadata": {},
   "outputs": [
    {
     "ename": "ModuleNotFoundError",
     "evalue": "No module named 'spatialmath.base.unitquat'",
     "output_type": "error",
     "traceback": [
      "\u001b[1;31m---------------------------------------------------------------------------\u001b[0m",
      "\u001b[1;31mModuleNotFoundError\u001b[0m                       Traceback (most recent call last)",
      "Cell \u001b[1;32mIn[41], line 1\u001b[0m\n\u001b[1;32m----> 1\u001b[0m \u001b[38;5;28;01mimport\u001b[39;00m \u001b[38;5;21;01mspatialmath\u001b[39;00m\u001b[38;5;21;01m.\u001b[39;00m\u001b[38;5;21;01mbase\u001b[39;00m\u001b[38;5;21;01m.\u001b[39;00m\u001b[38;5;21;01munitquat\u001b[39;00m \u001b[38;5;28;01mas\u001b[39;00m \u001b[38;5;21;01msm\u001b[39;00m  \u001b[38;5;66;03m# Import correct module for unit quaternion creation\u001b[39;00m\n\u001b[0;32m      3\u001b[0m \u001b[38;5;28;01mdef\u001b[39;00m \u001b[38;5;21mquaternion_multiply\u001b[39m(q1, q2):\n\u001b[0;32m      4\u001b[0m \u001b[38;5;250m    \u001b[39m\u001b[38;5;124;03m\"\"\"Multiplies two quaternions using the Hamiltonian product formula.\"\"\"\u001b[39;00m\n",
      "\u001b[1;31mModuleNotFoundError\u001b[0m: No module named 'spatialmath.base.unitquat'"
     ]
    }
   ],
   "source": [
    "import spatialmath.base.unitquat as sm  # Import correct module for unit quaternion creation\n",
    "\n",
    "def quaternion_multiply(q1, q2):\n",
    "    \"\"\"Multiplies two quaternions using the Hamiltonian product formula.\"\"\"\n",
    "\n",
    "    s1, x1, y1, z1 = q1\n",
    "    s2, x2, y2, z2 = q2\n",
    "\n",
    "    q_result = (\n",
    "        s1 * s2 - x1 * x2 - y1 * y2 - z1 * z2,\n",
    "        s1 * x2 + s2 * x1 + y1 * z2 - z1 * y2,\n",
    "        s1 * y2 - x1 * z2 + s2 * y1 + z1 * x2,\n",
    "        s1 * z2 + x1 * y2 - y1 * x2 + s2 * z1\n",
    "    )\n",
    "\n",
    "    return q_result\n",
    "\n",
    "# Example usage:\n",
    "q1 = sm.UnitQuaternion([0.5, 0.3, 0.2, 0.4])  # Create a unit quaternion\n",
    "q2 = sm.UnitQuaternion([0.6, 0.1, 0.7, 0.2])  # Create another unit quaternion\n",
    "q_product = quaternion_multiply(q1, q2)\n",
    "print(q_product)\n",
    "\n",
    "# Conversion to rotation matrix (if needed)\n",
    "R_from_quat = q1.R  # Access the rotation matrix directly from the UnitQuaternion object\n",
    "print(R_from_quat)\n"
   ]
  },
  {
   "cell_type": "markdown",
   "id": "083aa109",
   "metadata": {},
   "source": [
    "# Part B"
   ]
  },
  {
   "cell_type": "markdown",
   "id": "f576f0a4",
   "metadata": {},
   "source": [
    "## Question 1"
   ]
  },
  {
   "cell_type": "markdown",
   "id": "4b93866e",
   "metadata": {},
   "source": [
    "A Roll-Pitch-Yaw rotation matrix is given below. Can you find the missing elements in the rotation matrix R and the Roll-Pitch-Yaw angles?"
   ]
  },
  {
   "attachments": {
    "image-2.png": {
     "image/png": "[encoded data removed]"
    }
   },
   "cell_type": "markdown",
   "id": "bc2059f9",
   "metadata": {},
   "source": [
    "![image-2.png](attachment:image-2.png)"
   ]
  },
  {
   "cell_type": "markdown",
   "id": "de8b0a75",
   "metadata": {},
   "source": [
    "## Answer: (Manual)"
   ]
  },
  {
   "cell_type": "markdown",
   "id": "d8c34a89",
   "metadata": {},
   "source": []
  },
  {
   "cell_type": "code",
   "execution_count": null,
   "id": "7caa2d13",
   "metadata": {},
   "outputs": [],
   "source": []
  }
 ],
 "metadata": {
  "kernelspec": {
   "display_name": "Python 3 (ipykernel)",
   "language": "python",
   "name": "python3"
  },
  "language_info": {
   "codemirror_mode": {
    "name": "ipython",
    "version": 3
   },
   "file_extension": ".py",
   "mimetype": "text/x-python",
   "name": "python",
   "nbconvert_exporter": "python",
   "pygments_lexer": "ipython3",
   "version": "3.11.4"
  }
 },
 "nbformat": 4,
 "nbformat_minor": 5
}
