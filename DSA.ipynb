{
 "cells": [
  {
   "cell_type": "code",
   "execution_count": 3,
   "id": "ec50295a",
   "metadata": {},
   "outputs": [
    {
     "name": "stdout",
     "output_type": "stream",
     "text": [
      "The IP addresses of LAPTOP-SN01 are: fe80::92e2:d27c:3521:6be9, 2401:4900:6286:fe88:cd2e:6c51:f0ed:3e18, 2401:4900:6286:fe88:73fb:9dee:d398:d7df, 192.168.141.76\n"
     ]
    }
   ],
   "source": [
    "import socket\n",
    "\n",
    "def get_remote_ip_addresses(hostname):\n",
    "    try:\n",
    "        addresses = socket.getaddrinfo(hostname, None)\n",
    "        ip_addresses = [addr[4][0] for addr in addresses]\n",
    "        return ip_addresses\n",
    "    except socket.gaierror as e:\n",
    "        print(f\"Error: {e}\")\n",
    "        return None\n",
    "\n",
    "if __name__ == \"__main__\":\n",
    "    remote_host = \"LAPTOP-SN01\"  # Replace with the hostname of the remote system\n",
    "    ip_addresses = get_remote_ip_addresses(remote_host)\n",
    "\n",
    "    if ip_addresses:\n",
    "        print(f\"The IP addresses of {remote_host} are: {', '.join(ip_addresses)}\")\n",
    "    else:\n",
    "        print(f\"Unable to resolve the IP address of {remote_host}\")"
   ]
  },
  {
   "cell_type": "code",
   "execution_count": 2,
   "id": "19152be2",
   "metadata": {},
   "outputs": [
    {
     "name": "stdout",
     "output_type": "stream",
     "text": [
      "['fe80::92e2:d27c:3521:6be9', '2401:4900:6286:fe88:cd2e:6c51:f0ed:3e18', '2401:4900:6286:fe88:73fb:9dee:d398:d7df', '192.168.141.76']\n",
      "The IP addresses of LAPTOP-SN01 are: fe80::92e2:d27c:3521:6be9, 2401:4900:6286:fe88:cd2e:6c51:f0ed:3e18, 2401:4900:6286:fe88:73fb:9dee:d398:d7df, 192.168.141.76\n",
      "192.168.141.76\n",
      "192.168.141.76\n",
      " -> hi\n",
      "Received from server: hell\n",
      " -> fu\n",
      "Received from server: ?\n",
      " -> dumbness overload\n",
      "Received from server: kk\n",
      " -> ..\n",
      "Received from server: bye\n",
      " -> byee\n",
      "Received from server: bye\n",
      " -> bye\n"
     ]
    }
   ],
   "source": [
    "import socket\n",
    "\n",
    "def get_remote_ip_addresses(hostname):\n",
    "    try:\n",
    "        addresses = socket.getaddrinfo(hostname, None)\n",
    "        ip_addresses = [addr[4][0] for addr in addresses]\n",
    "        return ip_addresses\n",
    "    except socket.gaierror as e:\n",
    "        print(f\"Error: {e}\")\n",
    "        return None\n",
    "\n",
    "def client_pgm():\n",
    "    #Connet to the server\n",
    "    remote_host = \"LAPTOP-SN01\"  # Replace with the hostname of the remote system\n",
    "    ip_addresses = get_remote_ip_addresses(remote_host)\n",
    "    if ip_addresses:\n",
    "        print(ip_addresses)\n",
    "        print(f\"The IP addresses of {remote_host} are: {', '.join(ip_addresses)}\")\n",
    "    else:\n",
    "        print(f\"Unable to resolve the IP address of {remote_host}\")\n",
    "    host =str(ip_addresses[-1])  # as both code is running on same pc\n",
    "    port = 5002  # socket server port number\n",
    "    print(host)\n",
    "    print(socket.gethostbyname(host))\n",
    "    \n",
    "    client_socket = socket.socket()  # instantiate\n",
    "    client_socket.connect((host, port))  \n",
    "    \n",
    "    #Send the data to the server\n",
    "    message = input(\" -> \")  # take input\n",
    "    while message.lower().strip() != 'bye':\n",
    "        client_socket.send(message.encode())  # send message\n",
    "        data = client_socket.recv(1024).decode()  # receive response\n",
    "        print('Received from server: ' + data)  # show in terminal\n",
    "        message = input(\" -> \")  # again take input\n",
    "    \n",
    "    #Terminate the connection\n",
    "    client_socket.close()  # close the connection\n",
    "    \n",
    "if __name__ == '__main__':\n",
    "    client_pgm()"
   ]
  },
  {
   "cell_type": "code",
   "execution_count": 4,
   "id": "440d3f66",
   "metadata": {},
   "outputs": [
    {
     "name": "stdout",
     "output_type": "stream",
     "text": [
      "192.168.212.76\n",
      "192.168.212.76\n"
     ]
    },
    {
     "ename": "TimeoutError",
     "evalue": "[WinError 10060] A connection attempt failed because the connected party did not properly respond after a period of time, or established connection failed because connected host has failed to respond",
     "output_type": "error",
     "traceback": [
      "\u001b[1;31m---------------------------------------------------------------------------\u001b[0m",
      "\u001b[1;31mTimeoutError\u001b[0m                              Traceback (most recent call last)",
      "Cell \u001b[1;32mIn[4], line 25\u001b[0m\n\u001b[0;32m     22\u001b[0m     client_socket\u001b[38;5;241m.\u001b[39mclose()  \u001b[38;5;66;03m# close the connection\u001b[39;00m\n\u001b[0;32m     24\u001b[0m \u001b[38;5;28;01mif\u001b[39;00m \u001b[38;5;18m__name__\u001b[39m \u001b[38;5;241m==\u001b[39m \u001b[38;5;124m'\u001b[39m\u001b[38;5;124m__main__\u001b[39m\u001b[38;5;124m'\u001b[39m:\n\u001b[1;32m---> 25\u001b[0m     client_pgm()\n",
      "Cell \u001b[1;32mIn[4], line 11\u001b[0m, in \u001b[0;36mclient_pgm\u001b[1;34m()\u001b[0m\n\u001b[0;32m      8\u001b[0m \u001b[38;5;28mprint\u001b[39m(socket\u001b[38;5;241m.\u001b[39mgethostbyname(host))\n\u001b[0;32m     10\u001b[0m client_socket \u001b[38;5;241m=\u001b[39m socket\u001b[38;5;241m.\u001b[39msocket()  \u001b[38;5;66;03m# instantiate\u001b[39;00m\n\u001b[1;32m---> 11\u001b[0m client_socket\u001b[38;5;241m.\u001b[39mconnect((host, port))  \n\u001b[0;32m     13\u001b[0m \u001b[38;5;66;03m#Send the data to the server\u001b[39;00m\n\u001b[0;32m     14\u001b[0m message \u001b[38;5;241m=\u001b[39m \u001b[38;5;28minput\u001b[39m(\u001b[38;5;124m\"\u001b[39m\u001b[38;5;124m -> \u001b[39m\u001b[38;5;124m\"\u001b[39m)  \u001b[38;5;66;03m# take input\u001b[39;00m\n",
      "\u001b[1;31mTimeoutError\u001b[0m: [WinError 10060] A connection attempt failed because the connected party did not properly respond after a period of time, or established connection failed because connected host has failed to respond"
     ]
    }
   ],
   "source": [
    "import socket\n",
    "\n",
    "def client_pgm():\n",
    "    #Connet to the server\n",
    "    host = \"192.168.212.76\"  # as both code is running on same pc\n",
    "    port = 5002  # socket server port number\n",
    "    print(host)\n",
    "    print(socket.gethostbyname(host))\n",
    "    \n",
    "    client_socket = socket.socket()  # instantiate\n",
    "    client_socket.connect((host, port))  \n",
    "    \n",
    "    #Send the data to the server\n",
    "    message = input(\" -> \")  # take input\n",
    "    while message.lower().strip() != 'bye':\n",
    "        client_socket.send(message.encode())  # send message\n",
    "        data = client_socket.recv(1024).decode()  # receive response\n",
    "        print('Received from server: ' + data)  # show in terminal\n",
    "        message = input(\" -> \")  # again take input\n",
    "    \n",
    "    #Terminate the connection\n",
    "    client_socket.close()  # close the connection\n",
    "    \n",
    "if __name__ == '__main__':\n",
    "    client_pgm()"
   ]
  },
  {
   "cell_type": "code",
   "execution_count": null,
   "id": "ccef8b06",
   "metadata": {},
   "outputs": [],
   "source": []
  }
 ],
 "metadata": {
  "kernelspec": {
   "display_name": "Python 3 (ipykernel)",
   "language": "python",
   "name": "python3"
  },
  "language_info": {
   "codemirror_mode": {
    "name": "ipython",
    "version": 3
   },
   "file_extension": ".py",
   "mimetype": "text/x-python",
   "name": "python",
   "nbconvert_exporter": "python",
   "pygments_lexer": "ipython3",
   "version": "3.11.4"
  }
 },
 "nbformat": 4,
 "nbformat_minor": 5
}
