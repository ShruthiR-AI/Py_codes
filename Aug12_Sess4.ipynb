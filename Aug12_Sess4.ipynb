{
 "cells": [
  {
   "cell_type": "code",
   "execution_count": null,
   "metadata": {},
   "outputs": [],
   "source": [
    "#Leap Year Generation\n",
    "x = int(input(\"Enter a year\"))\n",
    "l = x%4\n",
    "nl = x%100\n",
    "L = x % 400 \n",
    "if l == 0 or L==0 and nl!=100:\n",
    "    print('It is a leap year.')\n",
    "else: \n",
    "    print('It is not a leap year.')"
   ]
  },
  {
   "cell_type": "code",
   "execution_count": null,
   "metadata": {},
   "outputs": [],
   "source": [
    "# To get year (integer input) from the user\n",
    "year = int(input(\"Enter a year: \"))\n",
    "\n",
    "# divided by 100 means century year (ending with 00)\n",
    "# century year divided by 400 is leap year\n",
    "if (year % 400 == 0) and (year % 100 == 0):\n",
    "    print(\"{0} is a leap year\".format(year))\n",
    "\n",
    "# not divided by 100 means not a century year\n",
    "# year divided by 4 is a leap year\n",
    "elif (year % 4 ==0) and (year % 100 != 0):\n",
    "    print(\"{0} is a leap year\".format(year))\n",
    "\n",
    "# if not divided by both 400 (century year) and 4 (not century year)\n",
    "# year is not leap year\n",
    "else:\n",
    "    print(\"{0} is not a leap year\".format(year))"
   ]
  },
  {
   "cell_type": "code",
   "execution_count": null,
   "metadata": {},
   "outputs": [],
   "source": [
    "#Prime Number generation \n",
    "low = int(input('Enter the starting number of range:'))\n",
    "high = int(input(\"Enter final number of the range:\"))\n",
    "print(f\"Prime numbers between {low} and {high}:\")\n",
    "for i in range(low,high+1,1):\n",
    "    if i > 1:\n",
    "        for j in range(2,i):\n",
    "            if i%j == 0:\n",
    "                break\n",
    "        else:\n",
    "            print(i)"
   ]
  },
  {
   "cell_type": "code",
   "execution_count": null,
   "metadata": {},
   "outputs": [],
   "source": [
    "num = 11\n",
    "# Negative numbers, 0 and 1 are not primes\n",
    "if num > 1:\n",
    "  \n",
    "    # Iterate from 2 to n // 2\n",
    "    for i in range(2, (num//2)+1):\n",
    "      \n",
    "        # If num is divisible by any number between\n",
    "        # 2 and n / 2, it is not prime\n",
    "        if (num % i) == 0:\n",
    "            print(num, \"is not a prime number\")\n",
    "            break\n",
    "    else:\n",
    "        print(num, \"is a prime number\")\n",
    "else:\n",
    "    print(num, \"is not a prime number\")"
   ]
  },
  {
   "cell_type": "code",
   "execution_count": null,
   "metadata": {},
   "outputs": [],
   "source": [
    "#Fibonacci series \n",
    "n = int(input(\"Enter the term of the Fibonacci sequence:\"))\n",
    "first = 0\n",
    "second = 1\n",
    "third = 0\n",
    "print(first)\n",
    "print(second)\n",
    "while third < n:\n",
    "    third = first + second\n",
    "    first = second\n",
    "    second = third\n",
    "    print(third)\n"
   ]
  }
 ],
 "metadata": {
  "kernelspec": {
   "display_name": "Python 3 (ipykernel)",
   "language": "python",
   "name": "python3"
  },
  "language_info": {
   "codemirror_mode": {
    "name": "ipython",
    "version": 3
   },
   "file_extension": ".py",
   "mimetype": "text/x-python",
   "name": "python",
   "nbconvert_exporter": "python",
   "pygments_lexer": "ipython3",
   "version": "3.11.7"
  }
 },
 "nbformat": 4,
 "nbformat_minor": 4
}
