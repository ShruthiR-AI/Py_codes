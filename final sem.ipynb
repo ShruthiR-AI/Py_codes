{
 "cells": [
  {
   "cell_type": "markdown",
   "id": "64d2476a",
   "metadata": {},
   "source": [
    "# BFS"
   ]
  },
  {
   "cell_type": "code",
   "execution_count": 3,
   "id": "d85be0ab",
   "metadata": {},
   "outputs": [
    {
     "name": "stdout",
     "output_type": "stream",
     "text": [
      "Following is Breadth First Traversal (starting from vertex 2)\n",
      "2 0 3 1 "
     ]
    }
   ],
   "source": [
    "from collections import defaultdict\n",
    "\n",
    "class Graph:\n",
    "\t# Constructor\n",
    "\tdef __init__(self):\n",
    "\n",
    "\t\t# Default dictionary to store graph\n",
    "\t\tself.graph = defaultdict(list)\n",
    "\n",
    "\t# Function to add an edge to graph\n",
    "\tdef addEdge(self, u, v):\n",
    "\t\tself.graph[u].append(v)\n",
    "\n",
    "\t# Function to print a BFS of graph\n",
    "\tdef BFS(self, s):\n",
    "\t\t# Mark all the vertices as not visited\n",
    "\t\tvisited = [False] * (max(self.graph) + 1)\n",
    "\n",
    "\t\t# Create a queue for BFS\n",
    "\t\tqueue = []\n",
    "\n",
    "\t\t# Mark the source node as\n",
    "\t\t# visited and enqueue it\n",
    "\t\tqueue.append(s)\n",
    "\t\tvisited[s] = True\n",
    "\n",
    "\t\twhile queue:\n",
    "\t\t\t# Dequeue a vertex from\n",
    "\t\t\t# queue and print it\n",
    "\t\t\ts = queue.pop(0)\n",
    "\t\t\tprint(s, end=\" \")\n",
    "\n",
    "\t\t\t# Get all adjacent vertices of the\n",
    "\t\t\t# dequeued vertex s.\n",
    "\t\t\t# If an adjacent has not been visited,\n",
    "\t\t\t# then mark it visited and enqueue it\n",
    "\t\t\tfor i in self.graph[s]:\n",
    "\t\t\t\tif visited[i] == False:\n",
    "\t\t\t\t\tqueue.append(i)\n",
    "\t\t\t\t\tvisited[i] = True\n",
    "# Driver code\n",
    "if __name__ == '__main__':\n",
    "\n",
    "\t# Create a graph given in\n",
    "\t# the above diagram\n",
    "\tg = Graph()\n",
    "\tg.addEdge(0, 1)\n",
    "\tg.addEdge(0, 2)\n",
    "\tg.addEdge(1, 2)\n",
    "\tg.addEdge(2, 0)\n",
    "\tg.addEdge(2, 3)\n",
    "\tg.addEdge(3, 3)\n",
    "\n",
    "\tprint(\"Following is Breadth First Traversal\"\n",
    "\t\t\" (starting from vertex 2)\")\n",
    "\tg.BFS(2)"
   ]
  },
  {
   "cell_type": "markdown",
   "id": "726eb1b3",
   "metadata": {},
   "source": [
    "# DFS"
   ]
  },
  {
   "cell_type": "code",
   "execution_count": 4,
   "id": "a20bbbde",
   "metadata": {},
   "outputs": [
    {
     "name": "stdout",
     "output_type": "stream",
     "text": [
      "Following is Depth First Traversal (starting from vertex 2)\n",
      "2 0 1 3 "
     ]
    }
   ],
   "source": [
    "# Python3 program to print DFS traversal\n",
    "# from a given graph\n",
    "from collections import defaultdict\n",
    "\n",
    "\n",
    "# This class represents a directed graph using\n",
    "# adjacency list representation\n",
    "class Graph:\n",
    "\n",
    "\t# Constructor\n",
    "\tdef __init__(self):\n",
    "\n",
    "\t\t# Default dictionary to store graph\n",
    "\t\tself.graph = defaultdict(list)\n",
    "\n",
    "\t\n",
    "\t# Function to add an edge to graph\n",
    "\tdef addEdge(self, u, v):\n",
    "\t\tself.graph[u].append(v)\n",
    "\n",
    "\t\n",
    "\t# A function used by DFS\n",
    "\tdef DFSUtil(self, v, visited):\n",
    "\n",
    "\t\t# Mark the current node as visited\n",
    "\t\t# and print it\n",
    "\t\tvisited.add(v)\n",
    "\t\tprint(v, end=' ')\n",
    "\n",
    "\t\t# Recur for all the vertices\n",
    "\t\t# adjacent to this vertex\n",
    "\t\tfor neighbour in self.graph[v]:\n",
    "\t\t\tif neighbour not in visited:\n",
    "\t\t\t\tself.DFSUtil(neighbour, visited)\n",
    "\n",
    "\t\n",
    "\t# The function to do DFS traversal. It uses\n",
    "\t# recursive DFSUtil()\n",
    "\tdef DFS(self, v):\n",
    "\n",
    "\t\t# Create a set to store visited vertices\n",
    "\t\tvisited = set()\n",
    "\n",
    "\t\t# Call the recursive helper function\n",
    "\t\t# to print DFS traversal\n",
    "\t\tself.DFSUtil(v, visited)\n",
    "\n",
    "\n",
    "# Driver's code\n",
    "if __name__ == \"__main__\":\n",
    "\tg = Graph()\n",
    "\tg.addEdge(0, 1)\n",
    "\tg.addEdge(0, 2)\n",
    "\tg.addEdge(1, 2)\n",
    "\tg.addEdge(2, 0)\n",
    "\tg.addEdge(2, 3)\n",
    "\tg.addEdge(3, 3)\n",
    "\n",
    "\tprint(\"Following is Depth First Traversal (starting from vertex 2)\")\n",
    "\t\n",
    "\t# Function call\n",
    "\tg.DFS(2)"
   ]
  },
  {
   "cell_type": "markdown",
   "id": "ee9f8f4c",
   "metadata": {},
   "source": [
    "# DIJKSTRA"
   ]
  },
  {
   "cell_type": "code",
   "execution_count": 6,
   "id": "4ceb28e8",
   "metadata": {},
   "outputs": [
    {
     "name": "stdout",
     "output_type": "stream",
     "text": [
      "[0, 4, 5, 6, 7]\n"
     ]
    }
   ],
   "source": [
    "# Given a weighted graph and a source vertex, find the shortest paths from the source to all the other vertices in the given graph.\n",
    "# takes the graph and the starting node\n",
    "# returns a list of distances from the starting node to every other node\n",
    "from numpy import Inf\n",
    "def Dijkstra(graph, start):\n",
    "    l = len(graph)\n",
    "    \n",
    "    # initialize all node distances as infinite\n",
    "    dist = [Inf for _ in range(l)]\n",
    "    \n",
    "    # set the distance of starting node as 0\n",
    "    dist[start] = 0\n",
    "    \n",
    "    # create a list that indicates if a node is visited or not\n",
    "    vis = [False for _ in range(l)]\n",
    "    \n",
    "    # iterate over all the nodes\n",
    "    for _ in range(l):\n",
    "        \n",
    "        # set u=-1 to indicate a current starting node\n",
    "        u = -1\n",
    "        \n",
    "        # iterate over all the nodes to check the status of the visit \n",
    "        for x in range(l):\n",
    "            # now if the 'x' node is not visited yet or the distance we have currently for it is less than the distance to the start node then update the current node as the 'x'\n",
    "            if not vis[x] and (u == -1 or dist[x] < dist[u]):\n",
    "                u = x\n",
    "                \n",
    "        # check if we have visited all the nodes or we haven't reached the node\n",
    "        if dist[u] == Inf:\n",
    "            break\n",
    "            \n",
    "        # set the currently running node as visited\n",
    "        vis[u] = True\n",
    "        \n",
    "       # now if the distance of the current node + the distance to the node we're visiting is less than the prior distance of the node we're visiting then update that distance.\n",
    "        for v, d in graph[u]:\n",
    "            if dist[u] + d < dist[v]:\n",
    "                dist[v] = dist[u] + d\n",
    "                \n",
    "    # now at last return the list which contains the shortest path to each node from that given node            \n",
    "    return dist\n",
    "graph = { \n",
    "    0: [(1, 4), (2, 5), (3, 6), (4, 7)],\n",
    "    1: [(0, 1)],\n",
    "    2: [(0, 5), (3, 8), (4, 4)],\n",
    "    3: [(0, 6), (2, 8), (4, 2)],\n",
    "    4: [(0, 7), (2, 4), (3, 2)]\n",
    "}\n",
    "print(Dijkstra(graph,0))\n"
   ]
  },
  {
   "cell_type": "markdown",
   "id": "590e4f32",
   "metadata": {},
   "source": [
    "# PRIM"
   ]
  },
  {
   "cell_type": "code",
   "execution_count": 15,
   "id": "b2b16b68",
   "metadata": {},
   "outputs": [
    {
     "name": "stdout",
     "output_type": "stream",
     "text": [
      "Edge : Weight\n",
      "\n",
      "0-1:9\n",
      "1-3:19\n",
      "3-4:31\n",
      "3-2:51\n"
     ]
    }
   ],
   "source": [
    "# Arbitary start + minimum edge weight + no closed graph + check neighbours\n",
    "# Prim's Algorithm in Python\n",
    "INF = 9999999\n",
    "# number of vertices in graph\n",
    "V = 5\n",
    "# create a 2d array of size 5x5\n",
    "# for adjacency matrix to represent graph\n",
    "G = [[0, 9, 75, 0, 0],\n",
    "     [9, 0, 95, 19, 42],\n",
    "     [75, 95, 0, 51, 66],\n",
    "     [0, 19, 51, 0, 31],\n",
    "     [0, 42, 66, 31, 0]]\n",
    "# create a array to track selected vertex\n",
    "# selected will become true otherwise false\n",
    "selected = [0, 0, 0, 0, 0]\n",
    "# set number of edge to 0\n",
    "no_edge = 0\n",
    "# the number of egde in minimum spanning tree will be\n",
    "# always less than(V - 1), where V is number of vertices in\n",
    "# graph\n",
    "# choose 0th vertex and make it true\n",
    "selected[0] = True\n",
    "# print for edge and weight\n",
    "print(\"Edge : Weight\\n\")\n",
    "while (no_edge < V - 1):\n",
    "    # For every vertex in the set S, find the all adjacent vertices\n",
    "    #, calculate the distance from the vertex selected at step 1.\n",
    "    # if the vertex is already in the set S, discard it otherwise\n",
    "    # choose another vertex nearest to selected vertex  at step 1.\n",
    "    minimum = INF\n",
    "    x = 0\n",
    "    y = 0\n",
    "    for i in range(V):\n",
    "        if selected[i]:\n",
    "            for j in range(V):\n",
    "                if ((not selected[j]) and G[i][j]):  \n",
    "                    # not in selected and there is an edge\n",
    "                    if minimum > G[i][j]:\n",
    "                        minimum = G[i][j]\n",
    "                        x = i\n",
    "                        y = j\n",
    "    print(str(x) + \"-\" + str(y) + \":\" + str(G[x][y]))\n",
    "    selected[y] = True\n",
    "    no_edge += 1"
   ]
  },
  {
   "cell_type": "markdown",
   "id": "2fb9ed86",
   "metadata": {},
   "source": [
    "# KRUSKAL"
   ]
  },
  {
   "cell_type": "code",
   "execution_count": 16,
   "id": "caacfb4b",
   "metadata": {},
   "outputs": [
    {
     "name": "stdout",
     "output_type": "stream",
     "text": [
      "1 - 2: 2\n",
      "2 - 5: 2\n",
      "2 - 3: 3\n",
      "3 - 4: 3\n",
      "0 - 1: 4\n"
     ]
    }
   ],
   "source": [
    "# Start with min edge and traverse randomly + no closed graph\n",
    "# Kruskal's algorithm in Python\n",
    "\n",
    "\n",
    "class Graph:\n",
    "    def __init__(self, vertices):\n",
    "        self.V = vertices\n",
    "        self.graph = []\n",
    "\n",
    "    def add_edge(self, u, v, w):\n",
    "        self.graph.append([u, v, w])\n",
    "\n",
    "    # Search function\n",
    "\n",
    "    def find(self, parent, i):\n",
    "        if parent[i] == i:\n",
    "            return i\n",
    "        return self.find(parent, parent[i])\n",
    "\n",
    "    def apply_union(self, parent, rank, x, y):\n",
    "        xroot = self.find(parent, x)\n",
    "        yroot = self.find(parent, y)\n",
    "        if rank[xroot] < rank[yroot]:\n",
    "            parent[xroot] = yroot\n",
    "        elif rank[xroot] > rank[yroot]:\n",
    "            parent[yroot] = xroot\n",
    "        else:\n",
    "            parent[yroot] = xroot\n",
    "            rank[xroot] += 1\n",
    "\n",
    "    #  Applying Kruskal algorithm\n",
    "    def kruskal_algo(self):\n",
    "        result = []\n",
    "        i, e = 0, 0\n",
    "        self.graph = sorted(self.graph, key=lambda item: item[2])\n",
    "        parent = []\n",
    "        rank = []\n",
    "        for node in range(self.V):\n",
    "            parent.append(node)\n",
    "            rank.append(0)\n",
    "        while e < self.V - 1:\n",
    "            u, v, w = self.graph[i]\n",
    "            i = i + 1\n",
    "            x = self.find(parent, u)\n",
    "            y = self.find(parent, v)\n",
    "            if x != y:\n",
    "                e = e + 1\n",
    "                result.append([u, v, w])\n",
    "                self.apply_union(parent, rank, x, y)\n",
    "        for u, v, weight in result:\n",
    "            print(\"%d - %d: %d\" % (u, v, weight))\n",
    "\n",
    "\n",
    "g = Graph(6)\n",
    "g.add_edge(0, 1, 4)\n",
    "g.add_edge(0, 2, 4)\n",
    "g.add_edge(1, 2, 2)\n",
    "g.add_edge(1, 0, 4)\n",
    "g.add_edge(2, 0, 4)\n",
    "g.add_edge(2, 1, 2)\n",
    "g.add_edge(2, 3, 3)\n",
    "g.add_edge(2, 5, 2)\n",
    "g.add_edge(2, 4, 4)\n",
    "g.add_edge(3, 2, 3)\n",
    "g.add_edge(3, 4, 3)\n",
    "g.add_edge(4, 2, 4)\n",
    "g.add_edge(4, 3, 3)\n",
    "g.add_edge(5, 2, 2)\n",
    "g.add_edge(5, 4, 3)\n",
    "g.kruskal_algo()"
   ]
  },
  {
   "cell_type": "markdown",
   "id": "649f0cda",
   "metadata": {},
   "source": [
    "# HASH INSERT"
   ]
  },
  {
   "cell_type": "code",
   "execution_count": 8,
   "id": "ff4b729f",
   "metadata": {},
   "outputs": [
    {
     "name": "stdout",
     "output_type": "stream",
     "text": [
      "Hash table: [None, None, 12, None, None, 5, None, None, None, None]\n"
     ]
    }
   ],
   "source": [
    "def hash_insert(table, key, m, h):\n",
    "  \"\"\"\n",
    "  Inserts a key into a hash table using linear probing.\n",
    "\n",
    "  Args:\n",
    "    table: A list representing the hash table.\n",
    "    key: The key to insert.\n",
    "    m: The size of the hash table.\n",
    "    h: A hash function that maps keys to integers in the range [0, m-1].\n",
    "\n",
    "  Returns:\n",
    "    True if the key was successfully inserted, False if the table is full.\n",
    "  \"\"\"\n",
    "  i = 0\n",
    "  j = h(key) % m\n",
    "  while table[j] != None:\n",
    "    if table[j] == key:\n",
    "      return True  # Key already exists, do nothing.\n",
    "    i += 1\n",
    "    if i == m:\n",
    "      return False  # Table is full.\n",
    "    j = (j + 1) % m\n",
    "  table[j] = key\n",
    "  return True\n",
    "\n",
    "# Example usage\n",
    "table = [None] * 10\n",
    "m = len(table)\n",
    "h = lambda key: key % m  # Simple hash function based on modulo\n",
    "\n",
    "key1 = 5\n",
    "key2 = 12\n",
    "\n",
    "hash_insert(table, key1, m, h)\n",
    "hash_insert(table, key2, m, h)\n",
    "\n",
    "print(f\"Hash table: {table}\")"
   ]
  },
  {
   "cell_type": "markdown",
   "id": "92b0bb2d",
   "metadata": {},
   "source": [
    "# RADIX SORT"
   ]
  },
  {
   "cell_type": "code",
   "execution_count": 4,
   "id": "ece00cfd",
   "metadata": {},
   "outputs": [
    {
     "name": "stdout",
     "output_type": "stream",
     "text": [
      "Unsorted data: [170, 45, 75, 90, 802, 24, 2, 66]\n",
      "Sorted data: [2, 24, 45, 66, 75, 90, 170, 802]\n"
     ]
    }
   ],
   "source": [
    "def radix_sort(data, base=10):\n",
    " \n",
    "  max_value = max(data)\n",
    "  digits = int(max_value / base + 1)\n",
    "\n",
    "  # Sort by each digit starting from the least significant\n",
    "  for digit in range(digits):\n",
    "    buckets = [[] for _ in range(base)]\n",
    "    for num in data:\n",
    "      # Extract the current digit\n",
    "      digit_value = (num // base**digit) % base\n",
    "      buckets[digit_value].append(num)\n",
    "\n",
    "    data = []\n",
    "    for bucket in buckets:\n",
    "      data.extend(bucket)\n",
    "\n",
    "  return data\n",
    "\n",
    "# Example usage\n",
    "unsorted_data = [170, 45, 75, 90, 802, 24, 2, 66]\n",
    "sorted_data = radix_sort(unsorted_data)\n",
    "\n",
    "print(f\"Unsorted data: {unsorted_data}\")\n",
    "print(f\"Sorted data: {sorted_data}\")"
   ]
  },
  {
   "cell_type": "markdown",
   "id": "99394f63",
   "metadata": {},
   "source": [
    "# FIND"
   ]
  },
  {
   "cell_type": "code",
   "execution_count": null,
   "id": "e98a27fb",
   "metadata": {},
   "outputs": [],
   "source": []
  },
  {
   "cell_type": "markdown",
   "id": "60dea6a0",
   "metadata": {},
   "source": [
    "# UNION"
   ]
  },
  {
   "cell_type": "code",
   "execution_count": null,
   "id": "963df2e7",
   "metadata": {},
   "outputs": [],
   "source": []
  },
  {
   "cell_type": "code",
   "execution_count": null,
   "id": "d833cf86",
   "metadata": {},
   "outputs": [],
   "source": [
    "def hashfunction(M, key):\n",
    "    i = int(M / 2) ** 2\n",
    "    index = ((i + 11) % M + i * (i + 11 * key) % M) % M\n",
    "    return index\n",
    "\n",
    "def hashfunction2(M, key):\n",
    "    i = int(M / 2) ** 2\n",
    "    index = ((i + 7) % M + i * (i + 7 * key) % M) % M  # Using a different constant for secondary hash\n",
    "    return index\n",
    "\n",
    "def insert(table, M, key):\n",
    "    index = hashfunction(M, key)\n",
    "    if table[index]:\n",
    "        # If collision, use secondary hash\n",
    "        index2 = hashfunction2(M, key)\n",
    "        while table[index2]:  # Linear probing to find an empty slot\n",
    "            index2 = (index2 + 1) % M\n",
    "        table[index2].append(key)\n",
    "    else:\n",
    "        table[index].append(key)\n",
    "    return table\n"
   ]
  }
 ],
 "metadata": {
  "kernelspec": {
   "display_name": "Python 3 (ipykernel)",
   "language": "python",
   "name": "python3"
  },
  "language_info": {
   "codemirror_mode": {
    "name": "ipython",
    "version": 3
   },
   "file_extension": ".py",
   "mimetype": "text/x-python",
   "name": "python",
   "nbconvert_exporter": "python",
   "pygments_lexer": "ipython3",
   "version": "3.11.4"
  }
 },
 "nbformat": 4,
 "nbformat_minor": 5
}
