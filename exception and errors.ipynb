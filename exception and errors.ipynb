{
 "cells": [
  {
   "cell_type": "markdown",
   "id": "d92a060d",
   "metadata": {},
   "source": [
    "*Question:*\n",
    "\n",
    "Write a Python function average(numbers) that takes a list of numbers as input and calculates the average of those numbers. The function should return the average.\n",
    "\n",
    "However, there are two scenarios to consider:\n",
    "\n",
    "1. If the input list is empty, raise a custom exception called EmptyListError with a message \"The list is empty. Please provide a non-empty list.\"\n",
    "\n",
    "2. If the input list contains non-numeric values, raise a custom exception called NonNumericError with a message \"Invalid input. Please provide a list of numeric values.\"\n",
    "\n",
    "Implement the average function along with the custom exception handling to address these scenarios.\n",
    "Your code should handle these exceptions gracefully and provide meaningful error messages."
   ]
  },
  {
   "cell_type": "code",
   "execution_count": 3,
   "id": "fe937c78",
   "metadata": {},
   "outputs": [
    {
     "name": "stdout",
     "output_type": "stream",
     "text": [
      "The list is empty. Please provide a non-empty list.\n",
      "Invalid input. Please provide a list of numeric values.\n",
      "20.0\n"
     ]
    }
   ],
   "source": [
    "class EmptyListError(Exception):\n",
    "    def __init__(self, message=\"The list is empty. Please provide a non-empty list.\"):\n",
    "        self.message = message\n",
    "        super().__init__(self.message)\n",
    "\n",
    "class NonNumericError(Exception):\n",
    "    def __init__(self, message=\"Invalid input. Please provide a list of numeric values.\"):\n",
    "        self.message = message\n",
    "        super().__init__(self.message)\n",
    "\n",
    "def average(numbers):\n",
    "    if not numbers:\n",
    "        raise EmptyListError()\n",
    "\n",
    "    numeric_values = [num for num in numbers if isinstance(num, (int, float))]\n",
    "    \n",
    "    if len(numeric_values) != len(numbers):\n",
    "        raise NonNumericError()\n",
    "\n",
    "    if len(numeric_values) == 0:\n",
    "        return 0  \n",
    "    \n",
    "    return sum(numeric_values) / len(numeric_values)\n",
    "\n",
    "# Test cases\n",
    "try:\n",
    "    result = average([])\n",
    "    print(result)  \n",
    "except EmptyListError as e:\n",
    "    print(e)\n",
    "\n",
    "try:\n",
    "    result = average([1, 2, 'a', 4])\n",
    "    print(result)  \n",
    "except NonNumericError as e:\n",
    "    print(e)\n",
    "\n",
    "try:\n",
    "    result = average([10, 20, 30])\n",
    "    print(result) \n",
    "except (EmptyListError, NonNumericError) as e:\n",
    "    print(e)  "
   ]
  },
  {
   "cell_type": "code",
   "execution_count": null,
   "id": "a318485a",
   "metadata": {},
   "outputs": [],
   "source": []
  }
 ],
 "metadata": {
  "kernelspec": {
   "display_name": "Python 3 (ipykernel)",
   "language": "python",
   "name": "python3"
  },
  "language_info": {
   "codemirror_mode": {
    "name": "ipython",
    "version": 3
   },
   "file_extension": ".py",
   "mimetype": "text/x-python",
   "name": "python",
   "nbconvert_exporter": "python",
   "pygments_lexer": "ipython3",
   "version": "3.11.4"
  }
 },
 "nbformat": 4,
 "nbformat_minor": 5
}
