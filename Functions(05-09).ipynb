{
 "cells": [
  {
   "cell_type": "markdown",
   "id": "4e9980ef",
   "metadata": {},
   "source": [
    "## Palindrome"
   ]
  },
  {
   "cell_type": "code",
   "execution_count": 2,
   "id": "1c1653ff",
   "metadata": {},
   "outputs": [
    {
     "name": "stdout",
     "output_type": "stream",
     "text": [
      "Enter a string: racecar\n",
      "Palindrome\n"
     ]
    }
   ],
   "source": [
    "is_palindrome = (lambda s: s == s[::-1])(input(\"Enter a string: \").lower())\n",
    "print(\"Palindrome\" if is_palindrome else \"Not a palindrome\")"
   ]
  },
  {
   "cell_type": "markdown",
   "id": "108d5ffc",
   "metadata": {},
   "source": [
    "## Write a python program that accepts a hyphen-seperaated sequence of words as input and prints the word in a hphen seperated sequence after sorting them alphabetically"
   ]
  },
  {
   "cell_type": "code",
   "execution_count": 3,
   "id": "0b2fdb32",
   "metadata": {},
   "outputs": [
    {
     "name": "stdout",
     "output_type": "stream",
     "text": [
      "Enter a hyphen-separated sequence of words: green-red-yellow-black-white\\\n",
      "Sorted sequence:  black-green-red-white\\-yellow\n"
     ]
    }
   ],
   "source": [
    "def sort_hyphen_separated_sequence(input_str):\n",
    "    words = input_str.split('-')\n",
    "    words.sort()\n",
    "    sorted_str = '-'.join(words)\n",
    "    return sorted_str\n",
    "\n",
    "input_sequence = input(\"Enter a hyphen-separated sequence of words: \")\n",
    "sorted_sequence = sort_hyphen_separated_sequence(input_sequence)\n",
    "print(\"Sorted sequence: \", sorted_sequence)"
   ]
  },
  {
   "cell_type": "code",
   "execution_count": 7,
   "id": "7f22ed1d",
   "metadata": {},
   "outputs": [
    {
     "name": "stdout",
     "output_type": "stream",
     "text": [
      "Enter a hyphen-separated sequence of words: green-red-yellow-black-white\n",
      "Sorted sequence:  black-green-red-white-yellow\n"
     ]
    }
   ],
   "source": [
    "def sort(input):\n",
    "    word = input.split('-')\n",
    "    word.sort()\n",
    "    sorted = '-'.join(word)\n",
    "    return sorted\n",
    "\n",
    "input_sequence = input(\"Enter a hyphen-separated sequence of words: \")\n",
    "sorted_sequence = sort(input_sequence)\n",
    "print(\"Sorted sequence: \", sorted_sequence)"
   ]
  },
  {
   "cell_type": "markdown",
   "id": "f6f8f027",
   "metadata": {},
   "source": [
    "## Generate a list where the values are square of numbers between two numbers"
   ]
  },
  {
   "cell_type": "code",
   "execution_count": 6,
   "id": "c3350cc4",
   "metadata": {},
   "outputs": [
    {
     "name": "stdout",
     "output_type": "stream",
     "text": [
      "Enter the starting number: 4\n",
      "Enter the ending number: 15\n",
      "List of squares between 4 and 15: [16, 25, 36, 49, 64, 81, 100, 121, 144, 169, 196, 225]\n"
     ]
    }
   ],
   "source": [
    "def generate_squares(start_num, end_num):\n",
    "    squares_list = []  \n",
    "\n",
    "    for num in range(start_num, end_num + 1):\n",
    "        square = num ** 2\n",
    "        squares_list.append(square)\n",
    "\n",
    "    return squares_list\n",
    "\n",
    "start_num = int(input(\"Enter the starting number: \"))\n",
    "end_num = int(input(\"Enter the ending number: \"))\n",
    "squares = generate_squares(start_num, end_num)\n",
    "print(\"List of squares between {} and {}: {}\".format(start_num, end_num, squares))"
   ]
  },
  {
   "cell_type": "markdown",
   "id": "6d9efa64",
   "metadata": {},
   "source": [
    "## Write a function that takes input and removes duplicate element from sorted list\n"
   ]
  },
  {
   "cell_type": "code",
   "execution_count": 5,
   "id": "269829f0",
   "metadata": {},
   "outputs": [
    {
     "name": "stdout",
     "output_type": "stream",
     "text": [
      "Enter a sorted list of elements separated by spaces: 1 2 3 3 4 5 6 6 7 7\n",
      "List with duplicates removed: [1, 2, 3, 4, 5, 6, 7]\n"
     ]
    }
   ],
   "source": [
    "def remove_duplicates(sorted_list):\n",
    "    if not sorted_list:\n",
    "        return []  \n",
    "    unique_list = [sorted_list[0]]\n",
    "\n",
    "    for i in range(1, len(sorted_list)):\n",
    "        if sorted_list[i] != sorted_list[i - 1]:\n",
    "            unique_list.append(sorted_list[i])\n",
    "\n",
    "    return unique_list\n",
    "user_input = input(\"Enter a sorted list of elements separated by spaces: \")\n",
    "sorted_list = [int(x) for x in user_input.split()]  \n",
    "\n",
    "result = remove_duplicates(sorted_list)\n",
    "print(\"List with duplicates removed:\", result)"
   ]
  },
  {
   "cell_type": "markdown",
   "id": "fcd3c528",
   "metadata": {},
   "source": [
    "## Write a function that taakes a string as input and creates and returns a new string constructed by finding all its vowels ('aeiouAEIOU')and reversing their order, while keeping all non vowel characters exactl in the original position\n",
    "## Example: 'Hello World' -> 'Hollo werld'"
   ]
  },
  {
   "cell_type": "code",
   "execution_count": 8,
   "id": "daed9b2c",
   "metadata": {},
   "outputs": [
    {
     "name": "stdout",
     "output_type": "stream",
     "text": [
      "Enter a string: Hello World\n",
      "Result: Hollo Werld\n"
     ]
    }
   ],
   "source": [
    "def reverse_vowels(input_str):\n",
    "    vowels = \"aeiouAEIOU\"\n",
    "    input_list = list(input_str)\n",
    "    left, right = 0, len(input_list) - 1\n",
    "\n",
    "    while left < right:\n",
    "        while left < right and input_list[left] not in vowels:\n",
    "            left += 1\n",
    "        while left < right and input_list[right] not in vowels:\n",
    "            right -= 1\n",
    "\n",
    "        if left < right:\n",
    "            input_list[left], input_list[right] = input_list[right], input_list[left]\n",
    "            left += 1\n",
    "            right -= 1\n",
    "\n",
    "    return ''.join(input_list)\n",
    "\n",
    "input_string = input(\"Enter a string: \")\n",
    "result_string = reverse_vowels(input_string)\n",
    "print(\"Result:\", result_string)"
   ]
  },
  {
   "cell_type": "markdown",
   "id": "14706473",
   "metadata": {},
   "source": [
    "## Identify the Error"
   ]
  },
  {
   "cell_type": "code",
   "execution_count": 1,
   "id": "b3463257",
   "metadata": {},
   "outputs": [
    {
     "ename": "TypeError",
     "evalue": "can only concatenate str (not \"int\") to str",
     "output_type": "error",
     "traceback": [
      "\u001b[1;31m---------------------------------------------------------------------------\u001b[0m",
      "\u001b[1;31mTypeError\u001b[0m                                 Traceback (most recent call last)",
      "Cell \u001b[1;32mIn[1], line 3\u001b[0m\n\u001b[0;32m      1\u001b[0m \u001b[38;5;28;01mdef\u001b[39;00m \u001b[38;5;21mconcatenate_strings\u001b[39m(str1,str2):\n\u001b[0;32m      2\u001b[0m  \u001b[38;5;28;01mreturn\u001b[39;00m str1 \u001b[38;5;241m+\u001b[39m \u001b[38;5;124m\"\u001b[39m\u001b[38;5;124m \u001b[39m\u001b[38;5;124m\"\u001b[39m \u001b[38;5;241m+\u001b[39m str2\n\u001b[1;32m----> 3\u001b[0m result \u001b[38;5;241m=\u001b[39m concatenate_strings(\u001b[38;5;124m\"\u001b[39m\u001b[38;5;124mTest\u001b[39m\u001b[38;5;124m\"\u001b[39m,\u001b[38;5;241m3\u001b[39m)\n\u001b[0;32m      4\u001b[0m \u001b[38;5;28mprint\u001b[39m(result)\n",
      "Cell \u001b[1;32mIn[1], line 2\u001b[0m, in \u001b[0;36mconcatenate_strings\u001b[1;34m(str1, str2)\u001b[0m\n\u001b[0;32m      1\u001b[0m \u001b[38;5;28;01mdef\u001b[39;00m \u001b[38;5;21mconcatenate_strings\u001b[39m(str1,str2):\n\u001b[1;32m----> 2\u001b[0m  \u001b[38;5;28;01mreturn\u001b[39;00m str1 \u001b[38;5;241m+\u001b[39m \u001b[38;5;124m\"\u001b[39m\u001b[38;5;124m \u001b[39m\u001b[38;5;124m\"\u001b[39m \u001b[38;5;241m+\u001b[39m str2\n",
      "\u001b[1;31mTypeError\u001b[0m: can only concatenate str (not \"int\") to str"
     ]
    }
   ],
   "source": [
    "def concatenate_strings(str1,str2):\n",
    " return str1 + \" \" + str2\n",
    "result = concatenate_strings(\"Test\",3)\n",
    "print(result)"
   ]
  },
  {
   "cell_type": "markdown",
   "id": "3b235a46",
   "metadata": {},
   "source": [
    "## 1. In the above code we are trying to concatenate a string with an integer which is not allowed."
   ]
  },
  {
   "cell_type": "code",
   "execution_count": 2,
   "id": "e3dade7c",
   "metadata": {},
   "outputs": [
    {
     "name": "stdout",
     "output_type": "stream",
     "text": [
      "Test 3\n"
     ]
    }
   ],
   "source": [
    "def concatenate_strings(str1,str2):\n",
    " return str1 + \" \" + str2\n",
    "result = concatenate_strings(\"Test\",\"3\")\n",
    "print(result)"
   ]
  },
  {
   "cell_type": "markdown",
   "id": "7ae33ced",
   "metadata": {},
   "source": [
    "## This is the corrected code of the above program, in this we are taking the 3 as a string so it works without producing an error."
   ]
  },
  {
   "cell_type": "code",
   "execution_count": 9,
   "id": "3c80f66f",
   "metadata": {},
   "outputs": [
    {
     "ename": "RuntimeError",
     "evalue": "dictionary changed size during iteration",
     "output_type": "error",
     "traceback": [
      "\u001b[1;31m---------------------------------------------------------------------------\u001b[0m",
      "\u001b[1;31mRuntimeError\u001b[0m                              Traceback (most recent call last)",
      "Cell \u001b[1;32mIn[9], line 2\u001b[0m\n\u001b[0;32m      1\u001b[0m numbers \u001b[38;5;241m=\u001b[39m {\u001b[38;5;241m1\u001b[39m:\u001b[38;5;124m\"\u001b[39m\u001b[38;5;124mone\u001b[39m\u001b[38;5;124m\"\u001b[39m,\u001b[38;5;241m2\u001b[39m:\u001b[38;5;124m\"\u001b[39m\u001b[38;5;124mtwo\u001b[39m\u001b[38;5;124m\"\u001b[39m,\u001b[38;5;241m3\u001b[39m:\u001b[38;5;124m\"\u001b[39m\u001b[38;5;124mthree\u001b[39m\u001b[38;5;124m\"\u001b[39m}\n\u001b[1;32m----> 2\u001b[0m \u001b[38;5;28;01mfor\u001b[39;00m number \u001b[38;5;129;01min\u001b[39;00m numbers:\n\u001b[0;32m      3\u001b[0m     \u001b[38;5;28;01mif\u001b[39;00m numbers[number] \u001b[38;5;241m==\u001b[39m \u001b[38;5;124m\"\u001b[39m\u001b[38;5;124mtwo\u001b[39m\u001b[38;5;124m\"\u001b[39m:\n\u001b[0;32m      4\u001b[0m         \u001b[38;5;28;01mdel\u001b[39;00m numbers[number]\n",
      "\u001b[1;31mRuntimeError\u001b[0m: dictionary changed size during iteration"
     ]
    }
   ],
   "source": [
    "numbers = {1:\"one\",2:\"two\",3:\"three\"}\n",
    "for number in numbers:\n",
    "    if numbers[number] == \"two\":\n",
    "        del numbers[number]\n",
    "print(numbers)"
   ]
  },
  {
   "cell_type": "markdown",
   "id": "c3f50c1e",
   "metadata": {},
   "source": [
    "## 2. Dictionary changed size during iteration, which is not encouraged in this programming language."
   ]
  },
  {
   "cell_type": "code",
   "execution_count": 5,
   "id": "e19ab6c4",
   "metadata": {},
   "outputs": [
    {
     "name": "stdout",
     "output_type": "stream",
     "text": [
      "{1: 'one', 3: 'three'}\n"
     ]
    }
   ],
   "source": [
    "numbers = {1:\"one\",2:\"two\",3:\"three\"}\n",
    "for number in numbers:\n",
    " if numbers[number] == \"two\":\n",
    "     del numbers[number]\n",
    "     break\n",
    "print(numbers)"
   ]
  },
  {
   "cell_type": "markdown",
   "id": "ec639320",
   "metadata": {},
   "source": [
    "## In this corrected code we have added a break statement which brings the loop to an end after the deletion."
   ]
  },
  {
   "cell_type": "code",
   "execution_count": 8,
   "id": "bd792b74",
   "metadata": {},
   "outputs": [
    {
     "name": "stdout",
     "output_type": "stream",
     "text": [
      "None\n"
     ]
    }
   ],
   "source": [
    "def find_longest(S, d):\n",
    "    def is_sub(w):\n",
    "        i, j = 0, 0\n",
    "        while i < len(S) and j < len(w):\n",
    "            if S[i] == w[j]:\n",
    "                j += 1\n",
    "            i += 1\n",
    "        return j == len(w)\n",
    "        def custom_sort(w):\n",
    "            return (-len(w), w)\n",
    "        d = sorted(d, key=custom_sort)\n",
    "        for w in d:\n",
    "            if is_sub(w):\n",
    "                return w\n",
    "            return \"\"\n",
    "d = {\"ale\", \"apple\", \"monkey\", \"plea\"}\n",
    "S = \"abpcplea\"\n",
    "result = find_longest(S, d)\n",
    "print(result)"
   ]
  },
  {
   "cell_type": "code",
   "execution_count": 5,
   "id": "6d68de76",
   "metadata": {},
   "outputs": [
    {
     "name": "stdout",
     "output_type": "stream",
     "text": [
      "34\n"
     ]
    }
   ],
   "source": [
    "def Fibonacci(num):\n",
    "    if num < 0:\n",
    "        return False\n",
    "    elif num == 0:\n",
    "        return 0\n",
    "    elif num == 1  or num ==2:\n",
    "        return 1\n",
    "    else:\n",
    "        return Fibonacci(num-1)+ Fibonacci(num-2)\n",
    "    \n",
    "print(Fibonacci(9))\n",
    "    "
   ]
  },
  {
   "cell_type": "code",
   "execution_count": null,
   "id": "3767b243",
   "metadata": {},
   "outputs": [],
   "source": []
  }
 ],
 "metadata": {
  "kernelspec": {
   "display_name": "Python 3 (ipykernel)",
   "language": "python",
   "name": "python3"
  },
  "language_info": {
   "codemirror_mode": {
    "name": "ipython",
    "version": 3
   },
   "file_extension": ".py",
   "mimetype": "text/x-python",
   "name": "python",
   "nbconvert_exporter": "python",
   "pygments_lexer": "ipython3",
   "version": "3.11.4"
  }
 },
 "nbformat": 4,
 "nbformat_minor": 5
}
