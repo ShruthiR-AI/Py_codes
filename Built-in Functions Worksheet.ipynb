{
 "cells": [
  {
   "cell_type": "markdown",
   "id": "c1a63681",
   "metadata": {},
   "source": [
    "# Shruthi Rengarajan    _   Batch - B    _   CB.EN.U4AIE22154"
   ]
  },
  {
   "cell_type": "markdown",
   "id": "8485baab",
   "metadata": {},
   "source": [
    "## 1. abs(): Returns the absolute value of a number."
   ]
  },
  {
   "cell_type": "code",
   "execution_count": 1,
   "id": "5d86d82a",
   "metadata": {},
   "outputs": [
    {
     "name": "stdout",
     "output_type": "stream",
     "text": [
      "The absolute value of -10 is 10\n",
      "The absolute value of 20 is 20\n"
     ]
    }
   ],
   "source": [
    "num1 = -10\n",
    "num2 = 20\n",
    "\n",
    "abs_num1 = abs(num1)\n",
    "abs_num2 = abs(num2)\n",
    "\n",
    "print(f\"The absolute value of {num1} is {abs_num1}\")\n",
    "print(f\"The absolute value of {num2} is {abs_num2}\")"
   ]
  },
  {
   "cell_type": "markdown",
   "id": "d1bfe0ad",
   "metadata": {},
   "source": [
    "## 2.all():  Checks if any element of an iterable is true "
   ]
  },
  {
   "cell_type": "code",
   "execution_count": 5,
   "id": "dbda7cf0",
   "metadata": {},
   "outputs": [
    {
     "name": "stdout",
     "output_type": "stream",
     "text": [
      "Example 1: Are all elements in the boolean_list True?: False\n",
      "Example 2: Are all numbers in the numbers_list positive?: True\n"
     ]
    }
   ],
   "source": [
    "boolean_list = [True, True, False, True]\n",
    "result = all(boolean_list)\n",
    "print(f\"Example 1: Are all elements in the boolean_list True?: {result}\")\n",
    "\n",
    "numbers_list = [3, 5, 7, 4, 2]\n",
    "result = all(num > 0 for num in numbers_list)\n",
    "print(f\"Example 2: Are all numbers in the numbers_list positive?: {result}\")"
   ]
  },
  {
   "cell_type": "markdown",
   "id": "d60eece6",
   "metadata": {},
   "source": [
    "## 3. any(): Checks if any element of n iterable is true."
   ]
  },
  {
   "cell_type": "code",
   "execution_count": 1,
   "id": "176de832",
   "metadata": {},
   "outputs": [
    {
     "name": "stdout",
     "output_type": "stream",
     "text": [
      "At least one element in the list is True (non-zero).\n"
     ]
    }
   ],
   "source": [
    "integer_list = [0, 0, 0, 1, 0]\n",
    "result = any(integer_list)\n",
    "\n",
    "if result:\n",
    "    print(\"At least one element in the list is True (non-zero).\")\n",
    "else:\n",
    "    print(\"All elements in the list are False (zero).\")"
   ]
  },
  {
   "cell_type": "markdown",
   "id": "e0dcdb50",
   "metadata": {},
   "source": [
    "## 4. ascii(): Returns a string containing a printable representation of an object for non-alphabets or invisible characters."
   ]
  },
  {
   "cell_type": "code",
   "execution_count": 6,
   "id": "f60247de",
   "metadata": {},
   "outputs": [
    {
     "name": "stdout",
     "output_type": "stream",
     "text": [
      "Original String: Héllo Wörld\n",
      "ASCII Representation: 'H\\xe9llo W\\xf6rld'\n"
     ]
    }
   ],
   "source": [
    "non_ascii_string = \"Héllo Wörld\"\n",
    "ascii_representation = ascii(non_ascii_string)\n",
    "\n",
    "print(\"Original String:\", non_ascii_string)\n",
    "print(\"ASCII Representation:\", ascii_representation)"
   ]
  },
  {
   "cell_type": "markdown",
   "id": "cecae525",
   "metadata": {},
   "source": [
    "## 5. bin(): Converts integer to binary string."
   ]
  },
  {
   "cell_type": "code",
   "execution_count": 7,
   "id": "74b58e24",
   "metadata": {},
   "outputs": [
    {
     "name": "stdout",
     "output_type": "stream",
     "text": [
      "The binary representation of 10 is: 0b1010\n"
     ]
    }
   ],
   "source": [
    "decimal_number = 10\n",
    "binary_representation = bin(decimal_number)\n",
    "print(f\"The binary representation of {decimal_number} is: {binary_representation}\")"
   ]
  },
  {
   "cell_type": "markdown",
   "id": "0f21e0d4",
   "metadata": {},
   "source": [
    "## 6. bool(): Converts a value to Boolean"
   ]
  },
  {
   "cell_type": "code",
   "execution_count": 12,
   "id": "244e813f",
   "metadata": {},
   "outputs": [
    {
     "name": "stdout",
     "output_type": "stream",
     "text": [
      "It's a warm day.\n"
     ]
    }
   ],
   "source": [
    "temperature = 25\n",
    "if bool(temperature >= 20):\n",
    "    print(\"It's a warm day.\")\n",
    "else:\n",
    "    print(\"It's not warm.\")"
   ]
  },
  {
   "cell_type": "markdown",
   "id": "f546e96b",
   "metadata": {},
   "source": [
    "## 7. bytearray(): Returns array of given byte size"
   ]
  },
  {
   "cell_type": "code",
   "execution_count": 13,
   "id": "6f97f791",
   "metadata": {},
   "outputs": [
    {
     "name": "stdout",
     "output_type": "stream",
     "text": [
      "Original bytearray: bytearray(b'ABCDE')\n",
      "Accessing elements:\n",
      "65\n",
      "Modified bytearray: bytearray(b'AFCDE')\n"
     ]
    }
   ],
   "source": [
    "byte_array = bytearray([65, 66, 67, 68, 69])\n",
    "print(\"Original bytearray:\", byte_array)\n",
    "\n",
    "print(\"Accessing elements:\")\n",
    "print(byte_array[0])  # Access the first element (byte)\n",
    "\n",
    "byte_array[1] = 70\n",
    "print(\"Modified bytearray:\", byte_array)"
   ]
  },
  {
   "cell_type": "markdown",
   "id": "5f173bca",
   "metadata": {},
   "source": [
    "## 8. bytes(): Returns immutable byte objects"
   ]
  },
  {
   "cell_type": "code",
   "execution_count": 17,
   "id": "db5cbbf5",
   "metadata": {},
   "outputs": [
    {
     "name": "stdout",
     "output_type": "stream",
     "text": [
      "b'ABCDE'\n"
     ]
    }
   ],
   "source": [
    "byte_list = [65, 66, 67, 68, 69]  \n",
    "byte_data = bytes(byte_list)\n",
    "print(byte_data) "
   ]
  },
  {
   "cell_type": "markdown",
   "id": "c15538a8",
   "metadata": {},
   "source": [
    "## 9. callable(): 3.Checks if the object is callable"
   ]
  },
  {
   "cell_type": "code",
   "execution_count": 2,
   "id": "ad177f67",
   "metadata": {},
   "outputs": [
    {
     "name": "stdout",
     "output_type": "stream",
     "text": [
      "obj1 is callable.\n"
     ]
    }
   ],
   "source": [
    "def my_function():\n",
    "    print(\"This is a function!\")\n",
    "\n",
    "obj1 = my_function\n",
    "\n",
    "if callable(obj1):\n",
    "    print(\"obj1 is callable.\")\n",
    "else:\n",
    "    print(\"obj1 is not callable.\")"
   ]
  },
  {
   "cell_type": "markdown",
   "id": "7c8bae8c",
   "metadata": {},
   "source": [
    "## 10. chr(): Returns a character or string from an integer"
   ]
  },
  {
   "cell_type": "code",
   "execution_count": 3,
   "id": "aaa31168",
   "metadata": {},
   "outputs": [
    {
     "name": "stdout",
     "output_type": "stream",
     "text": [
      "The character corresponding to ASCII code 65 is 'A'\n"
     ]
    }
   ],
   "source": [
    "ascii_code = 65  # ASCII code for 'A'\n",
    "character = chr(ascii_code)\n",
    "print(f\"The character corresponding to ASCII code {ascii_code} is '{character}'\")"
   ]
  },
  {
   "cell_type": "markdown",
   "id": "10446645",
   "metadata": {},
   "source": [
    "## 11. classmethod():  Returns class method for a given function."
   ]
  },
  {
   "cell_type": "code",
   "execution_count": 14,
   "id": "bfccdc7e",
   "metadata": {},
   "outputs": [
    {
     "name": "stdout",
     "output_type": "stream",
     "text": [
      "Obtained Marks: 88\n"
     ]
    }
   ],
   "source": [
    "class Student:\n",
    "  marks = 0\n",
    "\n",
    "  def compute_marks(self, obtained_marks):\n",
    "    marks = obtained_marks\n",
    "    print('Obtained Marks:', marks)\n",
    "Student.print_marks = classmethod(Student.compute_marks)\n",
    "Student.print_marks(88)"
   ]
  },
  {
   "cell_type": "markdown",
   "id": "33f01cb5",
   "metadata": {},
   "source": [
    "## 12.compile(): Returns a Python code object"
   ]
  },
  {
   "cell_type": "code",
   "execution_count": 5,
   "id": "14a512fc",
   "metadata": {},
   "outputs": [
    {
     "name": "stdout",
     "output_type": "stream",
     "text": [
      "5\n"
     ]
    }
   ],
   "source": [
    "expr = \"2 + 3\"\n",
    "compiled_expr = compile(expr, '<string>', 'eval')\n",
    "result = eval(compiled_expr)\n",
    "print(result)"
   ]
  },
  {
   "cell_type": "markdown",
   "id": "1a78717d",
   "metadata": {},
   "source": [
    "## 13.complex(): Creates a complex number"
   ]
  },
  {
   "cell_type": "code",
   "execution_count": 6,
   "id": "94796ff9",
   "metadata": {},
   "outputs": [
    {
     "name": "stdout",
     "output_type": "stream",
     "text": [
      "z1 = (1.5-2j)\n"
     ]
    }
   ],
   "source": [
    "z1 = complex(1.5, -2) \n",
    "print(\"z1 =\", z1)"
   ]
  },
  {
   "cell_type": "markdown",
   "id": "5dd6ef00",
   "metadata": {},
   "source": [
    "## 14.delattr(): Deletes attributes from an object"
   ]
  },
  {
   "cell_type": "code",
   "execution_count": 13,
   "id": "d9fbe263",
   "metadata": {},
   "outputs": [
    {
     "name": "stdout",
     "output_type": "stream",
     "text": [
      "Attribute 'age' has been deleted\n"
     ]
    }
   ],
   "source": [
    "class Person:\n",
    "    name = \"John\"\n",
    "    age = 36\n",
    "    country = \"Norway\"\n",
    "\n",
    "delattr(Person, 'age')\n",
    "try:\n",
    "    age = Person.age\n",
    "except AttributeError:\n",
    "    age = \"Attribute 'age' has been deleted\"\n",
    "\n",
    "print(age)"
   ]
  },
  {
   "cell_type": "markdown",
   "id": "9e5d9bd8",
   "metadata": {},
   "source": [
    "## 15.dict(): Creates a dictionary"
   ]
  },
  {
   "cell_type": "code",
   "execution_count": 70,
   "id": "b867ea27",
   "metadata": {},
   "outputs": [
    {
     "name": "stdout",
     "output_type": "stream",
     "text": [
      "{'name': 'John', 'age': 30, 'city': 'New York'}\n",
      "{'color': 'blue', 'size': 'medium', 'shape': 'circle'}\n"
     ]
    }
   ],
   "source": [
    "my_dict = dict()\n",
    "my_dict['name'] = 'John'\n",
    "my_dict['age'] = 30\n",
    "my_dict['city'] = 'New York'\n",
    "print(my_dict)\n",
    "key_value_pairs = [('color', 'blue'), ('size', 'medium'), ('shape', 'circle')]\n",
    "another_dict = dict(key_value_pairs)\n",
    "print(another_dict)"
   ]
  },
  {
   "cell_type": "markdown",
   "id": "59aec880",
   "metadata": {},
   "source": [
    "## 16.dir(): Tries to return attributes of an object."
   ]
  },
  {
   "cell_type": "code",
   "execution_count": 8,
   "id": "d70677e5",
   "metadata": {},
   "outputs": [
    {
     "name": "stdout",
     "output_type": "stream",
     "text": [
      "['__class__', '__delattr__', '__dict__', '__dir__', '__doc__', '__eq__', '__format__', '__ge__', '__getattribute__', '__getstate__', '__gt__', '__hash__', '__init__', '__init_subclass__', '__le__', '__lt__', '__module__', '__ne__', '__new__', '__reduce__', '__reduce_ex__', '__repr__', '__setattr__', '__sizeof__', '__str__', '__subclasshook__', '__weakref__', 'age', 'country', 'name']\n"
     ]
    }
   ],
   "source": [
    "class Person:\n",
    "  name = \"John\"\n",
    "  age = 36\n",
    "  country = \"Norway\"\n",
    "\n",
    "print(dir(Person))"
   ]
  },
  {
   "cell_type": "markdown",
   "id": "41572c28",
   "metadata": {},
   "source": [
    "## 17.divmod(): Returns a tuple of Quotient and Reminder."
   ]
  },
  {
   "cell_type": "code",
   "execution_count": 58,
   "id": "502125d6",
   "metadata": {},
   "outputs": [
    {
     "name": "stdout",
     "output_type": "stream",
     "text": [
      "10 divided by 3 is 3 with a remainder of 1\n"
     ]
    }
   ],
   "source": [
    "num1 = 10\n",
    "num2 = 3\n",
    "quotient, remainder = divmod(num1, num2)\n",
    "print(f\"{num1} divided by {num2} is {quotient} with a remainder of {remainder}\")"
   ]
  },
  {
   "cell_type": "markdown",
   "id": "b6ff0aff",
   "metadata": {},
   "source": [
    "## 18.enumerate(): Returns an enumerate object."
   ]
  },
  {
   "cell_type": "code",
   "execution_count": 59,
   "id": "afddf40e",
   "metadata": {},
   "outputs": [
    {
     "name": "stdout",
     "output_type": "stream",
     "text": [
      "Index 0: apple\n",
      "Index 1: banana\n",
      "Index 2: cherry\n",
      "Index 3: date\n"
     ]
    }
   ],
   "source": [
    "fruits = [\"apple\", \"banana\", \"cherry\", \"date\"]\n",
    "for index, fruit in enumerate(fruits):\n",
    "    print(f\"Index {index}: {fruit}\")"
   ]
  },
  {
   "cell_type": "markdown",
   "id": "f6367b8d",
   "metadata": {},
   "source": [
    "## 19.eval(): Runs the python code within program."
   ]
  },
  {
   "cell_type": "code",
   "execution_count": 60,
   "id": "a550d6fb",
   "metadata": {},
   "outputs": [
    {
     "name": "stdout",
     "output_type": "stream",
     "text": [
      "Result: 14\n"
     ]
    }
   ],
   "source": [
    "expression = \"2 + 3 * 4\"\n",
    "result = eval(expression)\n",
    "print(\"Result:\", result)"
   ]
  },
  {
   "cell_type": "markdown",
   "id": "c4eb3250",
   "metadata": {},
   "source": [
    "##  20.exec(): Executes dynamically created programs"
   ]
  },
  {
   "cell_type": "code",
   "execution_count": 61,
   "id": "2c1d4f63",
   "metadata": {},
   "outputs": [
    {
     "name": "stdout",
     "output_type": "stream",
     "text": [
      "Hello, world!\n"
     ]
    }
   ],
   "source": [
    "code_string = \"print('Hello, world!')\"\n",
    "exec(code_string)"
   ]
  },
  {
   "cell_type": "markdown",
   "id": "8e60d63a",
   "metadata": {},
   "source": [
    "## 21.filter(): Constructs iterator from element which are true."
   ]
  },
  {
   "cell_type": "code",
   "execution_count": 62,
   "id": "2465bfab",
   "metadata": {},
   "outputs": [
    {
     "name": "stdout",
     "output_type": "stream",
     "text": [
      "[2, 4, 6, 8, 10]\n"
     ]
    }
   ],
   "source": [
    "numbers = [1, 2, 3, 4, 5, 6, 7, 8, 9, 10]\n",
    "def is_even(num):\n",
    "    return num % 2 == 0\n",
    "even_numbers = list(filter(is_even, numbers))\n",
    "print(even_numbers)"
   ]
  },
  {
   "cell_type": "markdown",
   "id": "4cbd6f4d",
   "metadata": {},
   "source": [
    "## 22.float(): Returns floating point number from number, string"
   ]
  },
  {
   "cell_type": "code",
   "execution_count": 64,
   "id": "bce29a4a",
   "metadata": {},
   "outputs": [
    {
     "name": "stdout",
     "output_type": "stream",
     "text": [
      "3.14\n"
     ]
    }
   ],
   "source": [
    "num_str = \"3.14\"\n",
    "num_float = float(num_str)\n",
    "print(num_float)"
   ]
  },
  {
   "cell_type": "markdown",
   "id": "82952cca",
   "metadata": {},
   "source": [
    "## 23. format(): Returns formatted representation of a value."
   ]
  },
  {
   "cell_type": "code",
   "execution_count": 65,
   "id": "439b51b7",
   "metadata": {},
   "outputs": [
    {
     "name": "stdout",
     "output_type": "stream",
     "text": [
      "Hello, my name is Alice and I am 30 years old.\n"
     ]
    }
   ],
   "source": [
    "name = \"Alice\"\n",
    "age = 30\n",
    "message = \"Hello, my name is {} and I am {} years old.\".format(name, age)\n",
    "print(message)"
   ]
  },
  {
   "cell_type": "markdown",
   "id": "c8f53aba",
   "metadata": {},
   "source": [
    "## 24.frozenset(): Returns immutable frozenset objects."
   ]
  },
  {
   "cell_type": "code",
   "execution_count": 69,
   "id": "32456db3",
   "metadata": {},
   "outputs": [
    {
     "name": "stdout",
     "output_type": "stream",
     "text": [
      "Original Set: {1, 2, 3, 4}\n",
      "Frozen Set: frozenset({1, 2, 3, 4})\n",
      "Intersection: frozenset({3, 4})\n",
      "Union: frozenset({1, 2, 3, 4, 5, 6})\n"
     ]
    }
   ],
   "source": [
    "my_set = {1, 2, 3, 4}\n",
    "my_frozenset = frozenset(my_set)\n",
    "other_set = {3, 4, 5, 6}\n",
    "intersection = my_frozenset & other_set\n",
    "union = my_frozenset | other_set\n",
    "print(\"Original Set:\", my_set)\n",
    "print(\"Frozen Set:\", my_frozenset)\n",
    "print(\"Intersection:\", intersection)\n",
    "print(\"Union:\", union)"
   ]
  },
  {
   "cell_type": "markdown",
   "id": "17b33a39",
   "metadata": {},
   "source": [
    "##  25.getattr(): Returns a value of named attribute of an object."
   ]
  },
  {
   "cell_type": "code",
   "execution_count": 7,
   "id": "6a5aa100",
   "metadata": {},
   "outputs": [
    {
     "name": "stdout",
     "output_type": "stream",
     "text": [
      "36\n"
     ]
    }
   ],
   "source": [
    "class Person:\n",
    "  name = \"John\"\n",
    "  age = 36\n",
    "  country = \"Norway\"\n",
    "\n",
    "x = getattr(Person, 'age')\n",
    "print(x)"
   ]
  },
  {
   "cell_type": "markdown",
   "id": "cd139a1a",
   "metadata": {},
   "source": [
    "## 26.globals(): Returns dictionary of current global symbol table.\n",
    "      \n"
   ]
  },
  {
   "cell_type": "code",
   "execution_count": 57,
   "id": "201a817b",
   "metadata": {},
   "outputs": [
    {
     "name": "stdout",
     "output_type": "stream",
     "text": [
      "Modified global_var: 52\n"
     ]
    }
   ],
   "source": [
    "global_var = 42\n",
    "def modify_global_variable():\n",
    "    global global_var  \n",
    "    global_var += 10   \n",
    "modify_global_variable()\n",
    "print(\"Modified global_var:\", globals()['global_var'])"
   ]
  },
  {
   "cell_type": "markdown",
   "id": "949218d3",
   "metadata": {},
   "source": [
    "## 27. hasattr(): Returns whether object has named attributes.\n",
    "      "
   ]
  },
  {
   "cell_type": "code",
   "execution_count": 6,
   "id": "b991f527",
   "metadata": {},
   "outputs": [
    {
     "name": "stdout",
     "output_type": "stream",
     "text": [
      "True\n"
     ]
    }
   ],
   "source": [
    "class Person:\n",
    "  name = \"John\"\n",
    "  age = 36\n",
    "  country = \"Norway\"\n",
    "\n",
    "x = hasattr(Person, 'age')\n",
    "print(x)"
   ]
  },
  {
   "cell_type": "markdown",
   "id": "548ef58c",
   "metadata": {},
   "source": [
    "## 28. hash(): Returns hash value of an object."
   ]
  },
  {
   "cell_type": "code",
   "execution_count": 56,
   "id": "fdf468a9",
   "metadata": {},
   "outputs": [
    {
     "name": "stdout",
     "output_type": "stream",
     "text": [
      "Hash value of 'Hello, world!' is: -8732676321221450688\n"
     ]
    }
   ],
   "source": [
    "text = \"Hello, world!\"\n",
    "hashed_text = hash(text)\n",
    "print(f\"Hash value of '{text}' is: {hashed_text}\")"
   ]
  },
  {
   "cell_type": "markdown",
   "id": "04d45123",
   "metadata": {},
   "source": [
    "## 29.help(): Invokes built in Help System  \n",
    " "
   ]
  },
  {
   "cell_type": "code",
   "execution_count": 54,
   "id": "8626187d",
   "metadata": {},
   "outputs": [
    {
     "name": "stdout",
     "output_type": "stream",
     "text": [
      "Help on built-in function len in module builtins:\n",
      "\n",
      "len(obj, /)\n",
      "    Return the number of items in a container.\n",
      "\n"
     ]
    }
   ],
   "source": [
    "help(len)"
   ]
  },
  {
   "cell_type": "markdown",
   "id": "a23053af",
   "metadata": {},
   "source": [
    "## 30.hex(): Converts integer to hexadecimal."
   ]
  },
  {
   "cell_type": "code",
   "execution_count": 53,
   "id": "1a2434c1",
   "metadata": {},
   "outputs": [
    {
     "name": "stdout",
     "output_type": "stream",
     "text": [
      "The hexadecimal representation of 255 is: 0xff\n"
     ]
    }
   ],
   "source": [
    "decimal_number = 255\n",
    "hexadecimal_string = hex(decimal_number)\n",
    "print(f\"The hexadecimal representation of {decimal_number} is: {hexadecimal_string}\")"
   ]
  },
  {
   "cell_type": "markdown",
   "id": "bc69de23",
   "metadata": {},
   "source": [
    "## 31. id(): Returns identify of an object."
   ]
  },
  {
   "cell_type": "code",
   "execution_count": 51,
   "id": "a2dde98f",
   "metadata": {},
   "outputs": [
    {
     "name": "stdout",
     "output_type": "stream",
     "text": [
      "my_dict1 and my_dict2 reference the same dictionary object.\n"
     ]
    }
   ],
   "source": [
    "my_dict1 = {'a': 1, 'b': 2}\n",
    "my_dict2 = my_dict1\n",
    "if id(my_dict1) == id(my_dict2):\n",
    "    print(\"my_dict1 and my_dict2 reference the same dictionary object.\")\n",
    "else:\n",
    "    print(\"my_dict1 and my_dict2 reference different dictionary objects.\")"
   ]
  },
  {
   "cell_type": "markdown",
   "id": "46e152c7",
   "metadata": {},
   "source": [
    "##  32. input(): Reads and returns a line of strings."
   ]
  },
  {
   "cell_type": "code",
   "execution_count": 50,
   "id": "95484998",
   "metadata": {},
   "outputs": [
    {
     "name": "stdout",
     "output_type": "stream",
     "text": [
      "Enter your name: Shruthi\n",
      "Enter your age: 18\n",
      "User Information:\n",
      "Name: Shruthi\n",
      "Age: 18\n"
     ]
    }
   ],
   "source": [
    "user_info = {}\n",
    "name = input(\"Enter your name: \")\n",
    "age = input(\"Enter your age: \")\n",
    "user_info[\"Name\"] = name\n",
    "user_info[\"Age\"] = age\n",
    "print(\"User Information:\")\n",
    "for key, value in user_info.items():\n",
    "    print(f\"{key}: {value}\")"
   ]
  },
  {
   "cell_type": "markdown",
   "id": "934e99ea",
   "metadata": {},
   "source": [
    "## 33.int(): Returns integer from a number or string"
   ]
  },
  {
   "cell_type": "code",
   "execution_count": 49,
   "id": "14dca08b",
   "metadata": {},
   "outputs": [
    {
     "name": "stdout",
     "output_type": "stream",
     "text": [
      "{'age': 25, 'score': 95, 'quantity': 10}\n"
     ]
    }
   ],
   "source": [
    "data_dict = {\n",
    "    \"age\": \"25\",\n",
    "    \"score\": \"95\",\n",
    "    \"quantity\": \"10\"\n",
    "}\n",
    "data_dict[\"age\"] = int(data_dict[\"age\"])\n",
    "data_dict[\"score\"] = int(data_dict[\"score\"])\n",
    "data_dict[\"quantity\"] = int(data_dict[\"quantity\"])\n",
    "print(data_dict)"
   ]
  },
  {
   "cell_type": "markdown",
   "id": "c9a554a4",
   "metadata": {},
   "source": [
    "## 34. isinstance(): Checks if the object is an instance of another class"
   ]
  },
  {
   "cell_type": "code",
   "execution_count": 4,
   "id": "b56a8c0a",
   "metadata": {},
   "outputs": [
    {
     "name": "stdout",
     "output_type": "stream",
     "text": [
      "True\n"
     ]
    }
   ],
   "source": [
    "x = isinstance(5, int)\n",
    "print(x)"
   ]
  },
  {
   "cell_type": "markdown",
   "id": "3d504f86",
   "metadata": {},
   "source": [
    "## 35.issubclass(): Checks is a class is subclass of another class."
   ]
  },
  {
   "cell_type": "code",
   "execution_count": 5,
   "id": "45e916e4",
   "metadata": {},
   "outputs": [
    {
     "name": "stdout",
     "output_type": "stream",
     "text": [
      "True\n"
     ]
    }
   ],
   "source": [
    "class myAge:\n",
    "  age = 36\n",
    "\n",
    "class myObj(myAge):\n",
    "  name = \"John\"\n",
    "  age = myAge\n",
    "\n",
    "x = issubclass(myObj, myAge)\n",
    "print(x)"
   ]
  },
  {
   "cell_type": "markdown",
   "id": "8dd1a5b6",
   "metadata": {},
   "source": [
    "## 36.iter(): Returns an iterator."
   ]
  },
  {
   "cell_type": "code",
   "execution_count": 48,
   "id": "1a410861",
   "metadata": {},
   "outputs": [
    {
     "name": "stdout",
     "output_type": "stream",
     "text": [
      "Fruit: apple, Quantity: 3\n",
      "Fruit: banana, Quantity: 2\n",
      "Fruit: cherry, Quantity: 5\n"
     ]
    }
   ],
   "source": [
    "my_dict = {'apple': 3, 'banana': 2, 'cherry': 5}\n",
    "dict_iterator = iter(my_dict)\n",
    "for key in dict_iterator:\n",
    "    value = my_dict[key]\n",
    "    print(f'Fruit: {key}, Quantity: {value}')"
   ]
  },
  {
   "cell_type": "markdown",
   "id": "4fe3097f",
   "metadata": {},
   "source": [
    "## 37.len(): Returns the length of an object."
   ]
  },
  {
   "cell_type": "code",
   "execution_count": 47,
   "id": "178e5813",
   "metadata": {},
   "outputs": [
    {
     "name": "stdout",
     "output_type": "stream",
     "text": [
      "Number of items in the dictionary: 3\n"
     ]
    }
   ],
   "source": [
    "my_dict = {'name': 'John', 'age': 30, 'city': 'New York'}\n",
    "dict_length = len(my_dict)\n",
    "print(\"Number of items in the dictionary:\", dict_length)"
   ]
  },
  {
   "cell_type": "markdown",
   "id": "eee74cbf",
   "metadata": {},
   "source": [
    "## 38. list(): Creates a list in python."
   ]
  },
  {
   "cell_type": "code",
   "execution_count": 46,
   "id": "2dc957cd",
   "metadata": {},
   "outputs": [
    {
     "name": "stdout",
     "output_type": "stream",
     "text": [
      "Original Dictionary: {'a': 1, 'b': 2, 'c': 3}\n",
      "Keys as List: ['a', 'b', 'c']\n",
      "Values as List: [1, 2, 3]\n"
     ]
    }
   ],
   "source": [
    "my_dict = {'a': 1, 'b': 2, 'c': 3}\n",
    "keys_as_list = list(my_dict.keys())\n",
    "values_as_list = list(my_dict.values())\n",
    "print(\"Original Dictionary:\", my_dict)\n",
    "print(\"Keys as List:\", keys_as_list)\n",
    "print(\"Values as List:\", values_as_list)"
   ]
  },
  {
   "cell_type": "markdown",
   "id": "5588a64f",
   "metadata": {},
   "source": [
    "## 39.locals(): Returns dictionary of a current local symbol table"
   ]
  },
  {
   "cell_type": "code",
   "execution_count": 1,
   "id": "a0d18981",
   "metadata": {},
   "outputs": [
    {
     "name": "stdout",
     "output_type": "stream",
     "text": [
      "{'__name__': '__main__', '__doc__': 'Automatically created module for IPython interactive environment', '__package__': None, '__loader__': None, '__spec__': None, '__builtin__': <module 'builtins' (built-in)>, '__builtins__': <module 'builtins' (built-in)>, '_ih': ['', 'x = 10\\ny = 20\\n\\nlocal_symbols = locals()\\nprint(local_symbols)\\n\\nprint(\"Value of x:\", local_symbols.get(\\'x\\'))  # or local_symbols[\\'x\\']\\nprint(\"Value of y:\", local_symbols.get(\\'y\\'))  # or local_symbols[\\'y\\'])'], '_oh': {}, '_dh': [WindowsPath('C:/Users/shrut')], 'In': ['', 'x = 10\\ny = 20\\n\\nlocal_symbols = locals()\\nprint(local_symbols)\\n\\nprint(\"Value of x:\", local_symbols.get(\\'x\\'))  # or local_symbols[\\'x\\']\\nprint(\"Value of y:\", local_symbols.get(\\'y\\'))  # or local_symbols[\\'y\\'])'], 'Out': {}, 'get_ipython': <bound method InteractiveShell.get_ipython of <ipykernel.zmqshell.ZMQInteractiveShell object at 0x0000023EFFF7B790>>, 'exit': <IPython.core.autocall.ZMQExitAutocall object at 0x0000023EFFF90110>, 'quit': <IPython.core.autocall.ZMQExitAutocall object at 0x0000023EFFF90110>, 'open': <function open at 0x0000023EFDF00220>, '_': '', '__': '', '___': '', '_i': '', '_ii': '', '_iii': '', '_i1': 'x = 10\\ny = 20\\n\\nlocal_symbols = locals()\\nprint(local_symbols)\\n\\nprint(\"Value of x:\", local_symbols.get(\\'x\\'))  # or local_symbols[\\'x\\']\\nprint(\"Value of y:\", local_symbols.get(\\'y\\'))  # or local_symbols[\\'y\\'])', 'x': 10, 'y': 20, 'local_symbols': {...}}\n",
      "Value of x: 10\n",
      "Value of y: 20\n"
     ]
    }
   ],
   "source": [
    "x = 10\n",
    "y = 20\n",
    "\n",
    "local_symbols = locals()\n",
    "print(local_symbols)\n",
    "\n",
    "print(\"Value of x:\", local_symbols.get('x'))  \n",
    "print(\"Value of y:\", local_symbols.get('y'))  "
   ]
  },
  {
   "cell_type": "markdown",
   "id": "7dd2d626",
   "metadata": {},
   "source": [
    "## 40.map(): Applies function and returns a list."
   ]
  },
  {
   "cell_type": "code",
   "execution_count": 45,
   "id": "bc357643",
   "metadata": {},
   "outputs": [
    {
     "name": "stdout",
     "output_type": "stream",
     "text": [
      "[1, 4, 9, 16, 25]\n"
     ]
    }
   ],
   "source": [
    "numbers = [1, 2, 3, 4, 5]\n",
    "square = lambda x: x ** 2\n",
    "squared_numbers = map(square, numbers)\n",
    "squared_numbers_list = list(squared_numbers)\n",
    "print(squared_numbers_list)"
   ]
  },
  {
   "cell_type": "markdown",
   "id": "c8dbbb26",
   "metadata": {},
   "source": [
    "## 41.max(): Returns the largest item."
   ]
  },
  {
   "cell_type": "code",
   "execution_count": 43,
   "id": "5d052071",
   "metadata": {},
   "outputs": [
    {
     "name": "stdout",
     "output_type": "stream",
     "text": [
      "The smallest number in the list is: 9\n"
     ]
    }
   ],
   "source": [
    "numbers = [5, 2, 8, 1, 9, 3]\n",
    "largest_number = max(numbers)\n",
    "print(\"The largest number in the list is:\", largest_number)"
   ]
  },
  {
   "cell_type": "markdown",
   "id": "45752abc",
   "metadata": {},
   "source": [
    "## 42.memoryview(): Returns the memory view of an argument."
   ]
  },
  {
   "cell_type": "code",
   "execution_count": 44,
   "id": "a3a7c4ce",
   "metadata": {},
   "outputs": [
    {
     "name": "stdout",
     "output_type": "stream",
     "text": [
      "66\n"
     ]
    }
   ],
   "source": [
    "data = bytes([65, 66, 67, 68, 69])\n",
    "memory_view = memoryview(data)\n",
    "print(memory_view[1])"
   ]
  },
  {
   "cell_type": "markdown",
   "id": "1b7c1574",
   "metadata": {},
   "source": [
    "## 43. min(): Returns the smallest value."
   ]
  },
  {
   "cell_type": "code",
   "execution_count": 41,
   "id": "7ace5d31",
   "metadata": {},
   "outputs": [
    {
     "name": "stdout",
     "output_type": "stream",
     "text": [
      "The smallest number in the list is: 1\n"
     ]
    }
   ],
   "source": [
    "numbers = [5, 2, 8, 1, 9, 3]\n",
    "smallest_number = min(numbers)\n",
    "print(\"The smallest number in the list is:\", smallest_number)"
   ]
  },
  {
   "cell_type": "markdown",
   "id": "cc917cdc",
   "metadata": {},
   "source": [
    "## 44. next(): Retrieves next element from the iterator."
   ]
  },
  {
   "cell_type": "code",
   "execution_count": 42,
   "id": "7dcc95fc",
   "metadata": {},
   "outputs": [
    {
     "name": "stdout",
     "output_type": "stream",
     "text": [
      "Next item: 1\n"
     ]
    }
   ],
   "source": [
    "my_list = [1, 2, 3, 4, 5]\n",
    "my_iterator = iter(my_list)\n",
    "next_item = next(my_iterator)\n",
    "print(\"Next item:\", next_item)"
   ]
  },
  {
   "cell_type": "markdown",
   "id": "504e46e0",
   "metadata": {},
   "source": [
    "## 45. object(): Creates a featureless object."
   ]
  },
  {
   "cell_type": "code",
   "execution_count": 3,
   "id": "1a9adbbc",
   "metadata": {},
   "outputs": [
    {
     "name": "stdout",
     "output_type": "stream",
     "text": [
      "['__class__', '__delattr__', '__dir__', '__doc__', '__eq__', '__format__', '__ge__', '__getattribute__', '__getstate__', '__gt__', '__hash__', '__init__', '__init_subclass__', '__le__', '__lt__', '__ne__', '__new__', '__reduce__', '__reduce_ex__', '__repr__', '__setattr__', '__sizeof__', '__str__', '__subclasshook__']\n"
     ]
    }
   ],
   "source": [
    "x = object()\n",
    "print(dir(x))"
   ]
  },
  {
   "cell_type": "markdown",
   "id": "d93bcc6b",
   "metadata": {},
   "source": [
    "## 46. oct(): Returns the octal representation of an integer."
   ]
  },
  {
   "cell_type": "code",
   "execution_count": 40,
   "id": "60b14f84",
   "metadata": {},
   "outputs": [
    {
     "name": "stdout",
     "output_type": "stream",
     "text": [
      "The octal representation of 45 is: 0o55\n"
     ]
    }
   ],
   "source": [
    "decimal_number = 45\n",
    "octal_representation = oct(decimal_number)\n",
    "print(f\"The octal representation of {decimal_number} is: {octal_representation}\")"
   ]
  },
  {
   "cell_type": "markdown",
   "id": "09ee5001",
   "metadata": {},
   "source": [
    "## 47. open(): Returns a file object"
   ]
  },
  {
   "cell_type": "code",
   "execution_count": 38,
   "id": "da0e8935",
   "metadata": {},
   "outputs": [
    {
     "ename": "FileNotFoundError",
     "evalue": "[Errno 2] No such file or directory: 'example.txt'",
     "output_type": "error",
     "traceback": [
      "\u001b[1;31m---------------------------------------------------------------------------\u001b[0m",
      "\u001b[1;31mFileNotFoundError\u001b[0m                         Traceback (most recent call last)",
      "Cell \u001b[1;32mIn[38], line 2\u001b[0m\n\u001b[0;32m      1\u001b[0m file_name \u001b[38;5;241m=\u001b[39m \u001b[38;5;124m\"\u001b[39m\u001b[38;5;124mexample.txt\u001b[39m\u001b[38;5;124m\"\u001b[39m\n\u001b[1;32m----> 2\u001b[0m file \u001b[38;5;241m=\u001b[39m \u001b[38;5;28mopen\u001b[39m(file_name, \u001b[38;5;124m\"\u001b[39m\u001b[38;5;124mr\u001b[39m\u001b[38;5;124m\"\u001b[39m)\n",
      "File \u001b[1;32mD:\\Anaconda\\Lib\\site-packages\\IPython\\core\\interactiveshell.py:284\u001b[0m, in \u001b[0;36m_modified_open\u001b[1;34m(file, *args, **kwargs)\u001b[0m\n\u001b[0;32m    277\u001b[0m \u001b[38;5;28;01mif\u001b[39;00m file \u001b[38;5;129;01min\u001b[39;00m {\u001b[38;5;241m0\u001b[39m, \u001b[38;5;241m1\u001b[39m, \u001b[38;5;241m2\u001b[39m}:\n\u001b[0;32m    278\u001b[0m     \u001b[38;5;28;01mraise\u001b[39;00m \u001b[38;5;167;01mValueError\u001b[39;00m(\n\u001b[0;32m    279\u001b[0m         \u001b[38;5;124mf\u001b[39m\u001b[38;5;124m\"\u001b[39m\u001b[38;5;124mIPython won\u001b[39m\u001b[38;5;124m'\u001b[39m\u001b[38;5;124mt let you open fd=\u001b[39m\u001b[38;5;132;01m{\u001b[39;00mfile\u001b[38;5;132;01m}\u001b[39;00m\u001b[38;5;124m by default \u001b[39m\u001b[38;5;124m\"\u001b[39m\n\u001b[0;32m    280\u001b[0m         \u001b[38;5;124m\"\u001b[39m\u001b[38;5;124mas it is likely to crash IPython. If you know what you are doing, \u001b[39m\u001b[38;5;124m\"\u001b[39m\n\u001b[0;32m    281\u001b[0m         \u001b[38;5;124m\"\u001b[39m\u001b[38;5;124myou can use builtins\u001b[39m\u001b[38;5;124m'\u001b[39m\u001b[38;5;124m open.\u001b[39m\u001b[38;5;124m\"\u001b[39m\n\u001b[0;32m    282\u001b[0m     )\n\u001b[1;32m--> 284\u001b[0m \u001b[38;5;28;01mreturn\u001b[39;00m io_open(file, \u001b[38;5;241m*\u001b[39margs, \u001b[38;5;241m*\u001b[39m\u001b[38;5;241m*\u001b[39mkwargs)\n",
      "\u001b[1;31mFileNotFoundError\u001b[0m: [Errno 2] No such file or directory: 'example.txt'"
     ]
    }
   ],
   "source": [
    "file_name = \"example.txt\"\n",
    "file = open(file_name, \"r\")"
   ]
  },
  {
   "cell_type": "markdown",
   "id": "5e9994d6",
   "metadata": {},
   "source": [
    "## 48.ord(): returns an integer of the unicode character"
   ]
  },
  {
   "cell_type": "code",
   "execution_count": 37,
   "id": "f7ac8688",
   "metadata": {},
   "outputs": [
    {
     "name": "stdout",
     "output_type": "stream",
     "text": [
      "The Unicode code point of 'A' is 65\n"
     ]
    }
   ],
   "source": [
    "char = 'A'\n",
    "unicode_code_point = ord(char)\n",
    "print(f\"The Unicode code point of '{char}' is {unicode_code_point}\")"
   ]
  },
  {
   "cell_type": "markdown",
   "id": "998ca034",
   "metadata": {},
   "source": [
    "## 49. pow(): Returns the power of a number."
   ]
  },
  {
   "cell_type": "code",
   "execution_count": 35,
   "id": "ce5278aa",
   "metadata": {},
   "outputs": [
    {
     "name": "stdout",
     "output_type": "stream",
     "text": [
      "2 raised to the power of 3 is 8\n"
     ]
    }
   ],
   "source": [
    "base = 2\n",
    "exponent = 3\n",
    "result = pow(base, exponent)\n",
    "print(f\"{base} raised to the power of {exponent} is {result}\")"
   ]
  },
  {
   "cell_type": "markdown",
   "id": "543193bc",
   "metadata": {},
   "source": [
    "## 50. print(): Prints the given object"
   ]
  },
  {
   "cell_type": "code",
   "execution_count": 34,
   "id": "8b383b52",
   "metadata": {},
   "outputs": [
    {
     "name": "stdout",
     "output_type": "stream",
     "text": [
      "Hello, World!\n"
     ]
    }
   ],
   "source": [
    "print(\"Hello, World!\")"
   ]
  },
  {
   "cell_type": "markdown",
   "id": "73f96743",
   "metadata": {},
   "source": [
    "## 51. property(): Returns the property attribute."
   ]
  },
  {
   "cell_type": "code",
   "execution_count": 33,
   "id": "ddccbf5d",
   "metadata": {},
   "outputs": [
    {
     "name": "stdout",
     "output_type": "stream",
     "text": [
      "<property object at 0x0000013DAC5D90D0>\n"
     ]
    }
   ],
   "source": [
    "_age = 25\n",
    "age = property(lambda: _age)\n",
    "print(age)"
   ]
  },
  {
   "cell_type": "markdown",
   "id": "53a2fa1c",
   "metadata": {},
   "source": [
    "## 52.range(): Returns a sequence of integers"
   ]
  },
  {
   "cell_type": "code",
   "execution_count": 31,
   "id": "e43b926a",
   "metadata": {},
   "outputs": [
    {
     "name": "stdout",
     "output_type": "stream",
     "text": [
      "1\n",
      "2\n",
      "3\n",
      "4\n",
      "5\n"
     ]
    }
   ],
   "source": [
    "start = 1  \n",
    "end = 6    \n",
    "for num in range(start, end):\n",
    "    print(num)"
   ]
  },
  {
   "cell_type": "markdown",
   "id": "c32b561d",
   "metadata": {},
   "source": [
    "## 53. repr(): Returns a printable representation of the object."
   ]
  },
  {
   "cell_type": "code",
   "execution_count": 30,
   "id": "c173e088",
   "metadata": {},
   "outputs": [
    {
     "name": "stdout",
     "output_type": "stream",
     "text": [
      "[1, 2, 3, 4, 5]\n"
     ]
    }
   ],
   "source": [
    "my_list = [1, 2, 3, 4, 5]\n",
    "list_repr = repr(my_list)\n",
    "print(list_repr)"
   ]
  },
  {
   "cell_type": "markdown",
   "id": "298bafef",
   "metadata": {},
   "source": [
    "## 54. reversed(): Returns the reversed iterator of a sequence."
   ]
  },
  {
   "cell_type": "code",
   "execution_count": 29,
   "id": "057d277e",
   "metadata": {},
   "outputs": [
    {
     "name": "stdout",
     "output_type": "stream",
     "text": [
      "Original List: [1, 2, 3, 4, 5]\n",
      "Reversed List: [5, 4, 3, 2, 1]\n"
     ]
    }
   ],
   "source": [
    "original_list = [1, 2, 3, 4, 5]\n",
    "reversed_list = list(reversed(original_list))\n",
    "\n",
    "print(\"Original List:\", original_list)\n",
    "print(\"Reversed List:\", reversed_list)"
   ]
  },
  {
   "cell_type": "markdown",
   "id": "a6947d31",
   "metadata": {},
   "source": [
    "## 55. round(): Rounds a number to specified decimals."
   ]
  },
  {
   "cell_type": "code",
   "execution_count": 28,
   "id": "470ac935",
   "metadata": {},
   "outputs": [
    {
     "name": "stdout",
     "output_type": "stream",
     "text": [
      "Original number: 3.14159\n",
      "Rounded number: 3\n"
     ]
    }
   ],
   "source": [
    "number = 3.14159\n",
    "rounded_number = round(number)\n",
    "print(f\"Original number: {number}\")\n",
    "print(f\"Rounded number: {rounded_number}\")"
   ]
  },
  {
   "cell_type": "markdown",
   "id": "a787fc94",
   "metadata": {},
   "source": [
    "## 56.set(): Constructs and returns a set."
   ]
  },
  {
   "cell_type": "code",
   "execution_count": 25,
   "id": "9e237ff2",
   "metadata": {},
   "outputs": [
    {
     "name": "stdout",
     "output_type": "stream",
     "text": [
      "String to Set: {'h', 'e', 'l', 'o'}\n"
     ]
    }
   ],
   "source": [
    "my_string = \"hello\"\n",
    "char_set = set(my_string)\n",
    "print(\"String to Set:\", char_set)"
   ]
  },
  {
   "cell_type": "markdown",
   "id": "609c92b1",
   "metadata": {},
   "source": [
    "## 57. setattr(): Sets the value of an attribute of an object.\n",
    "       "
   ]
  },
  {
   "cell_type": "code",
   "execution_count": 2,
   "id": "5ad262d4",
   "metadata": {},
   "outputs": [
    {
     "name": "stdout",
     "output_type": "stream",
     "text": [
      "40\n"
     ]
    }
   ],
   "source": [
    "class Person:\n",
    "  name = \"John\"\n",
    "  age = 36\n",
    "  country = \"Norway\"\n",
    "\n",
    "setattr(Person, 'age', 40)\n",
    "x = getattr(Person, 'age')\n",
    "print(x)"
   ]
  },
  {
   "cell_type": "markdown",
   "id": "e7497beb",
   "metadata": {},
   "source": [
    "## 58. slice(): Returns a slice object. "
   ]
  },
  {
   "cell_type": "code",
   "execution_count": 24,
   "id": "e4c4c255",
   "metadata": {},
   "outputs": [
    {
     "name": "stdout",
     "output_type": "stream",
     "text": [
      "[3, 4, 5, 6, 7]\n"
     ]
    }
   ],
   "source": [
    "numbers = [1, 2, 3, 4, 5, 6, 7, 8, 9]\n",
    "my_slice = slice(2, 7) \n",
    "result = numbers[my_slice]\n",
    "print(result) "
   ]
  },
  {
   "cell_type": "markdown",
   "id": "5ff1f035",
   "metadata": {},
   "source": [
    "## 59. sorted(): Returns a sorted list from the given iterable"
   ]
  },
  {
   "cell_type": "code",
   "execution_count": 22,
   "id": "261c32cc",
   "metadata": {},
   "outputs": [
    {
     "name": "stdout",
     "output_type": "stream",
     "text": [
      "Sorted numbers: [1, 2, 5, 5, 9]\n"
     ]
    }
   ],
   "source": [
    "numbers = [5, 2, 9, 1, 5]\n",
    "sorted_numbers = sorted(numbers)\n",
    "print(\"Sorted numbers:\", sorted_numbers)"
   ]
  },
  {
   "cell_type": "markdown",
   "id": "7c501b38",
   "metadata": {},
   "source": [
    "## 60. staticmethod(): Transforms a method into a static method."
   ]
  },
  {
   "cell_type": "code",
   "execution_count": 15,
   "id": "288de2e3",
   "metadata": {},
   "outputs": [
    {
     "name": "stdout",
     "output_type": "stream",
     "text": [
      "Sum: 12\n"
     ]
    }
   ],
   "source": [
    "class Calculator:\n",
    "\n",
    "  def add_numbers(num1, num2):\n",
    "    return num1 + num2\n",
    "\n",
    "Calculator.add_numbers = staticmethod(Calculator.add_numbers)\n",
    "\n",
    "sum = Calculator.add_numbers(5, 7)\n",
    "print('Sum:', sum)"
   ]
  },
  {
   "cell_type": "markdown",
   "id": "19c21578",
   "metadata": {},
   "source": [
    "##  61. str(): Returns the string version of te object."
   ]
  },
  {
   "cell_type": "code",
   "execution_count": 21,
   "id": "6a1f0f33",
   "metadata": {},
   "outputs": [
    {
     "name": "stdout",
     "output_type": "stream",
     "text": [
      "Number as a string: 45\n"
     ]
    }
   ],
   "source": [
    "num = 45\n",
    "num_str = str(num)\n",
    "print(\"Number as a string:\", num_str)"
   ]
  },
  {
   "cell_type": "markdown",
   "id": "ca1e911e",
   "metadata": {},
   "source": [
    "## 62. sum(): Adds items in an iterable."
   ]
  },
  {
   "cell_type": "code",
   "execution_count": 18,
   "id": "2544f80e",
   "metadata": {},
   "outputs": [
    {
     "name": "stdout",
     "output_type": "stream",
     "text": [
      "The sum of the numbers is: 15\n"
     ]
    }
   ],
   "source": [
    "numbers = [1, 2, 3, 4, 5]\n",
    "result = sum(numbers)\n",
    "print(\"The sum of the numbers is:\", result)"
   ]
  },
  {
   "cell_type": "markdown",
   "id": "2f153687",
   "metadata": {},
   "source": [
    "## 63. super(): Returns a proxy object of the base class."
   ]
  },
  {
   "cell_type": "code",
   "execution_count": 17,
   "id": "2ccb57d3",
   "metadata": {},
   "outputs": [
    {
     "name": "stdout",
     "output_type": "stream",
     "text": [
      "SuperPuppy says Woof!\n",
      "I can also fly!\n"
     ]
    }
   ],
   "source": [
    "class Dog:\n",
    "    def __init__(self, name):\n",
    "        self.name = name\n",
    "\n",
    "    def speak(self):\n",
    "        print(f\"{self.name} says Woof!\")\n",
    "\n",
    "class SuperDog(Dog):\n",
    "    def speak(self):\n",
    "        super().speak()  \n",
    "        print(\"I can also fly!\")\n",
    "superdog = SuperDog(\"SuperPuppy\")\n",
    "superdog.speak()"
   ]
  },
  {
   "cell_type": "markdown",
   "id": "3f5b3b9a",
   "metadata": {},
   "source": [
    "## 64. tuple(): Returns a tuple."
   ]
  },
  {
   "cell_type": "code",
   "execution_count": 16,
   "id": "3f74b4bc",
   "metadata": {},
   "outputs": [
    {
     "name": "stdout",
     "output_type": "stream",
     "text": [
      "Original list: [1, 2, 3, 4, 5]\n",
      "Resulting tuple: (1, 2, 3, 4, 5)\n"
     ]
    }
   ],
   "source": [
    "numbers_list = [1, 2, 3, 4, 5]\n",
    "numbers_tuple = tuple(numbers_list)\n",
    "print(\"Original list:\", numbers_list)\n",
    "print(\"Resulting tuple:\", numbers_tuple)"
   ]
  },
  {
   "cell_type": "markdown",
   "id": "89dce2f5",
   "metadata": {},
   "source": [
    "## 65. type(): Returns the type of an object."
   ]
  },
  {
   "cell_type": "code",
   "execution_count": 15,
   "id": "73084477",
   "metadata": {},
   "outputs": [
    {
     "name": "stdout",
     "output_type": "stream",
     "text": [
      "Type of float_var: <class 'float'>\n",
      "Type of string_var: <class 'str'>\n"
     ]
    }
   ],
   "source": [
    "float_var = 3.14\n",
    "string_var = \"Hello, World!\"\n",
    "\n",
    "print(\"Type of float_var:\", type(float_var))\n",
    "print(\"Type of string_var:\", type(string_var))"
   ]
  },
  {
   "cell_type": "markdown",
   "id": "5bd17911",
   "metadata": {},
   "source": [
    "## 66. vars():  Returns the __dict__ attribute"
   ]
  },
  {
   "cell_type": "code",
   "execution_count": 14,
   "id": "cd0a6c1b",
   "metadata": {},
   "outputs": [
    {
     "name": "stdout",
     "output_type": "stream",
     "text": [
      "{'name': 'John', 'age': 30, 'city': 'New York', '__module__': '__main__', '__dict__': <attribute '__dict__' of 'Person' objects>, '__weakref__': <attribute '__weakref__' of 'Person' objects>, '__doc__': None}\n"
     ]
    }
   ],
   "source": [
    "person_info = {'name': 'John', 'age': 30, 'city': 'New York'}\n",
    "person_object = type('Person', (object,), person_info)\n",
    "attributes = vars(person_object)print(attributes)"
   ]
  },
  {
   "cell_type": "markdown",
   "id": "1a367b04",
   "metadata": {},
   "source": [
    "## 67. zip(): Returns an iterator of tuples."
   ]
  },
  {
   "cell_type": "code",
   "execution_count": 7,
   "id": "a1bb533a",
   "metadata": {},
   "outputs": [
    {
     "name": "stdout",
     "output_type": "stream",
     "text": [
      "[('apple', 1.0), ('banana', 0.5), ('cherry', 2.0)]\n"
     ]
    }
   ],
   "source": [
    "fruits = ['apple', 'banana', 'cherry']\n",
    "prices = [1.0, 0.5, 2.0]\n",
    "combined = zip(fruits, prices)\n",
    "combined_list = list(combined)\n",
    "print(combined_list)"
   ]
  }
 ],
 "metadata": {
  "kernelspec": {
   "display_name": "Python 3 (ipykernel)",
   "language": "python",
   "name": "python3"
  },
  "language_info": {
   "codemirror_mode": {
    "name": "ipython",
    "version": 3
   },
   "file_extension": ".py",
   "mimetype": "text/x-python",
   "name": "python",
   "nbconvert_exporter": "python",
   "pygments_lexer": "ipython3",
   "version": "3.11.4"
  }
 },
 "nbformat": 4,
 "nbformat_minor": 5
}
