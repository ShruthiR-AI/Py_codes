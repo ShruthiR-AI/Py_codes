{
 "cells": [
  {
   "cell_type": "markdown",
   "id": "bee9212a",
   "metadata": {},
   "source": [
    "## move all negative elements to one side of the array"
   ]
  },
  {
   "cell_type": "code",
   "execution_count": 1,
   "id": "ba8abf6d",
   "metadata": {},
   "outputs": [
    {
     "name": "stdout",
     "output_type": "stream",
     "text": [
      "[-3, -7, -9, 2, 5, 8, 10]\n"
     ]
    }
   ],
   "source": [
    "import array as arr\n",
    "arr = [2, -3, 5, -7, 8, -9, 10]\n",
    "arr = [x for x in arr if x < 0] + [x for x in arr if x >= 0]\n",
    "print(arr)"
   ]
  },
  {
   "cell_type": "markdown",
   "id": "3715bd7a",
   "metadata": {},
   "source": [
    "## Find the duplicate elements in an array"
   ]
  },
  {
   "cell_type": "code",
   "execution_count": 2,
   "id": "919a32e5",
   "metadata": {},
   "outputs": [
    {
     "name": "stdout",
     "output_type": "stream",
     "text": [
      "Duplicate elements: [4, 5]\n"
     ]
    }
   ],
   "source": [
    "import array as arr\n",
    "arr = [4, 5, 5, 6, 2, 7, 8, 4, 9]\n",
    "element_count = {}\n",
    "for num in arr:\n",
    "    if num in element_count:\n",
    "        element_count[num] += 1\n",
    "    else:\n",
    "        element_count[num] = 1\n",
    "duplicate = [num for num, count in element_count.items() if count > 1]\n",
    "print(\"Duplicate elements:\", duplicate)"
   ]
  },
  {
   "cell_type": "code",
   "execution_count": 6,
   "id": "f5ac0050",
   "metadata": {},
   "outputs": [
    {
     "name": "stdout",
     "output_type": "stream",
     "text": [
      "Unique elements: [2, 3, 4, 5, 6, 7, 9, 10]\n"
     ]
    }
   ],
   "source": [
    "arr = [2, 3, 4, 5, 4, 5, 7, 6, 9, 10]\n",
    "removed = list(set(arr))\n",
    "print(\"Unique elements:\", removed)\n",
    "for element in arr:\n",
    "    if element not in removed:\n",
    "        print(element)\n"
   ]
  },
  {
   "cell_type": "markdown",
   "id": "5fc1e5d6",
   "metadata": {},
   "source": [
    " ## write a program to cyclically rotate an array by one"
   ]
  },
  {
   "cell_type": "code",
   "execution_count": 3,
   "id": "50c21112",
   "metadata": {},
   "outputs": [
    {
     "name": "stdout",
     "output_type": "stream",
     "text": [
      "Cyclically rotated array: [5, 1, 2, 3, 4]\n"
     ]
    }
   ],
   "source": [
    "import array as arr\n",
    "arr = [1, 2, 3, 4, 5]\n",
    "last_element = arr[-1]\n",
    "for i in range(len(arr) - 1, 0, -1):\n",
    "    arr[i] = arr[i - 1]\n",
    "arr[0] = last_element\n",
    "print(\"Cyclically rotated array:\", arr)"
   ]
  },
  {
   "cell_type": "code",
   "execution_count": 38,
   "id": "690a15e5",
   "metadata": {},
   "outputs": [
    {
     "name": "stdout",
     "output_type": "stream",
     "text": [
      "[5, 1, 2, 3, 4]\n"
     ]
    }
   ],
   "source": [
    "import array as arr\n",
    "arr = [1,2,3,4,5]\n",
    "last = arr[-1]\n",
    "for i in range(len(arr)-1 , 0, -1):\n",
    "    arr[i] = arr[i-1]\n",
    "arr[0] = last\n",
    "print(arr)"
   ]
  },
  {
   "cell_type": "code",
   "execution_count": 14,
   "id": "6a854590",
   "metadata": {},
   "outputs": [
    {
     "name": "stdout",
     "output_type": "stream",
     "text": [
      "[5, 4, 3, 2, 1]\n"
     ]
    }
   ],
   "source": [
    "arr = [1,2,3,4,5]\n",
    "res = arr[::-1]\n",
    "print(res)"
   ]
  },
  {
   "cell_type": "code",
   "execution_count": 9,
   "id": "b101635b",
   "metadata": {},
   "outputs": [
    {
     "data": {
      "text/plain": [
       "Counter({0: 1, 5: 2, 4: 1, 6: 1, 7: 1, 1: 1})"
      ]
     },
     "execution_count": 9,
     "metadata": {},
     "output_type": "execute_result"
    }
   ],
   "source": [
    "import array as arr\n",
    "import collections\n",
    "from collections import Counter\n",
    "z = arr.array('i',[0,5,4,5,6,7,1])\n",
    "y = collections.Counter(z)\n",
    "y"
   ]
  },
  {
   "cell_type": "code",
   "execution_count": 5,
   "id": "15213a59",
   "metadata": {},
   "outputs": [
    {
     "name": "stdout",
     "output_type": "stream",
     "text": [
      "[[1, 5, 3, 4], [5, 6, 7, 8], [9, 10, 11, 12]]\n"
     ]
    }
   ],
   "source": [
    "matrix = [[1,2,3,4],[5,6,7,8],[9,10,11,12]]\n",
    "matrix[0][1] = 5\n",
    "print(matrix)"
   ]
  },
  {
   "cell_type": "code",
   "execution_count": 11,
   "id": "d82b3622",
   "metadata": {},
   "outputs": [
    {
     "name": "stdout",
     "output_type": "stream",
     "text": [
      "Enter the number of rows: 2\n",
      "Enter the number of columns: 2\n",
      "Enter the entries row wise: \n",
      "1\n",
      "2\n",
      "3\n",
      "4\n",
      "1 2 \n",
      "3 4 \n"
     ]
    }
   ],
   "source": [
    "Row = int(input(\"Enter the number of rows: \"))\n",
    "Column = int(input(\"Enter the number of columns: \"))\n",
    "\n",
    "#initialise matrix\n",
    "matrix = []\n",
    "print(\"Enter the entries row wise: \")\n",
    "\n",
    "#For user input\n",
    "# A for loop for row entries\n",
    "for row in range(Row):\n",
    "    a = []\n",
    "    # A for loop for column entries\n",
    "    for column in range(Column):\n",
    "        a.append(int(input()))\n",
    "    matrix.append(a)\n",
    "\n",
    "# For printing the matrix \n",
    "for row in range(Row):\n",
    "    for column in range(Column):\n",
    "        print(matrix[row][column], end=' ')\n",
    "    print()"
   ]
  },
  {
   "cell_type": "markdown",
   "id": "3d283223",
   "metadata": {},
   "source": [
    "## Add 2 matrices"
   ]
  },
  {
   "cell_type": "code",
   "execution_count": 12,
   "id": "7c10e9ef",
   "metadata": {},
   "outputs": [
    {
     "name": "stdout",
     "output_type": "stream",
     "text": [
      "[10, 10, 10]\n",
      "[10, 10, 10]\n",
      "[10, 10, 10]\n"
     ]
    }
   ],
   "source": [
    "matrix1 = [[1, 2, 3],\n",
    "           [4, 5, 6],\n",
    "           [7, 8, 9]]\n",
    "\n",
    "matrix2 = [[9, 8, 7],\n",
    "           [6, 5, 4],\n",
    "           [3, 2, 1]]\n",
    "\n",
    "\n",
    "result_matrix = [[matrix1[i][j] + matrix2[i][j] for j in range(len(matrix1[0]))] for i in range(len(matrix1))]\n",
    "for row in result_matrix:\n",
    "    print(row)"
   ]
  },
  {
   "cell_type": "markdown",
   "id": "95773e19",
   "metadata": {},
   "source": [
    "## Transpose a matrices"
   ]
  },
  {
   "cell_type": "code",
   "execution_count": 7,
   "id": "4c4d728a",
   "metadata": {},
   "outputs": [
    {
     "name": "stdout",
     "output_type": "stream",
     "text": [
      "[1, 4, 7]\n",
      "[2, 5, 8]\n",
      "[3, 6, 9]\n"
     ]
    }
   ],
   "source": [
    "matrix = [\n",
    "    [1, 2, 3],\n",
    "    [4, 5, 6],\n",
    "    [7, 8, 9]\n",
    "]\n",
    "\n",
    "transposed_matrix = list(map(list, zip(*matrix)))\n",
    "\n",
    "for row in transposed_matrix:\n",
    "    print(row)\n"
   ]
  },
  {
   "cell_type": "markdown",
   "id": "37d0df57",
   "metadata": {},
   "source": [
    "## check if matrix is symmetric"
   ]
  },
  {
   "cell_type": "code",
   "execution_count": 14,
   "id": "e4aec68c",
   "metadata": {},
   "outputs": [
    {
     "name": "stdout",
     "output_type": "stream",
     "text": [
      "Matrix is symmetric\n"
     ]
    }
   ],
   "source": [
    "# Example symmetric matrix\n",
    "matrix = [\n",
    "    [1, 2, 3],\n",
    "    [2, 4, 5],\n",
    "    [3, 5, 6]\n",
    "]\n",
    "is_symmetric = matrix == [list(row) for row in zip(*matrix)]\n",
    "if is_symmetric:\n",
    "    print(\"Matrix is symmetric\")\n",
    "else:\n",
    "    print(\"Matrix is not symmetric\")\n"
   ]
  },
  {
   "cell_type": "markdown",
   "id": "ed96d833",
   "metadata": {},
   "source": [
    "## Element wise matrix multiplication"
   ]
  },
  {
   "cell_type": "code",
   "execution_count": 15,
   "id": "f5769126",
   "metadata": {},
   "outputs": [
    {
     "name": "stdout",
     "output_type": "stream",
     "text": [
      "[19, 22]\n",
      "[43, 50]\n"
     ]
    }
   ],
   "source": [
    "# Define two matrices\n",
    "matrix_a = [[1, 2], [3, 4]]\n",
    "matrix_b = [[5, 6], [7, 8]]\n",
    "\n",
    "# Ensure that the matrices have compatible dimensions\n",
    "rows_a = len(matrix_a)\n",
    "cols_a = len(matrix_a[0])\n",
    "rows_b = len(matrix_b)\n",
    "cols_b = len(matrix_b[0])\n",
    "\n",
    "if cols_a != rows_b:\n",
    "    print(\"Matrix dimensions are not compatible for multiplication.\")\n",
    "else:\n",
    "    # Initialize the result matrix with zeros\n",
    "    result_matrix = [[0 for _ in range(cols_b)] for _ in range(rows_a)]\n",
    "\n",
    "    # Perform element-wise multiplication\n",
    "    for i in range(rows_a):\n",
    "        for j in range(cols_b):\n",
    "            for k in range(cols_a):\n",
    "                result_matrix[i][j] += matrix_a[i][k] * matrix_b[k][j]\n",
    "\n",
    "    # Print the result matrix\n",
    "    for row in result_matrix:\n",
    "        print(row)\n"
   ]
  },
  {
   "cell_type": "code",
   "execution_count": 19,
   "id": "e7f57451",
   "metadata": {},
   "outputs": [
    {
     "name": "stdout",
     "output_type": "stream",
     "text": [
      "Y\n"
     ]
    }
   ],
   "source": [
    "def isPalindrome(s):\n",
    "    return s == s[::-1]\n",
    "\n",
    "s = \"malayalam\"\n",
    "ans = isPalindrome(s)\n",
    "if ans:\n",
    "    print(\"Y\")\n",
    "else:\n",
    "    print(\"N\")"
   ]
  },
  {
   "cell_type": "code",
   "execution_count": 26,
   "id": "5ceebe52",
   "metadata": {},
   "outputs": [
    {
     "name": "stdout",
     "output_type": "stream",
     "text": [
      "Enter the number of rows:2\n",
      "Enter the number of columns:2\n",
      "Enter elements rowwise\n",
      "1\n",
      "2\n",
      "3\n",
      "4\n",
      "Original Matrix:\n",
      "[1, 2]\n",
      "[3, 4]\n",
      "\n",
      "Transposed Matrix:\n",
      "[1, 3]\n",
      "[2, 4]\n"
     ]
    }
   ],
   "source": [
    "rows = int(input(\"Enter the number of rows:\"))\n",
    "columns = int(input(\"Enter the number of columns:\"))\n",
    "matrix = []\n",
    "print(\"Enter elements rowwise\")\n",
    "for row in range(rows):\n",
    "    a = []\n",
    "    for column in range(columns):\n",
    "        a.append(int(input()))\n",
    "    matrix.append(a)\n",
    "\n",
    "def Transpose(A):\n",
    "    rows, columns = len(A), len(A[0])\n",
    "    result = [[0] * rows for _ in range(columns)]\n",
    "\n",
    "    for i in range(rows):\n",
    "        for j in range(columns):\n",
    "            result[j][i] = A[i][j]\n",
    "\n",
    "    return result\n",
    "\n",
    "# Transpose the matrix\n",
    "transposed_matrix = Transpose(matrix)\n",
    "\n",
    "# Print the original and transposed matrices\n",
    "print(\"Original Matrix:\")\n",
    "for row in matrix:\n",
    "    print(row)\n",
    "\n",
    "print(\"\\nTransposed Matrix:\")\n",
    "for row in transposed_matrix:\n",
    "    print(row)"
   ]
  },
  {
   "cell_type": "code",
   "execution_count": 35,
   "id": "33b6e8fd",
   "metadata": {},
   "outputs": [
    {
     "name": "stdout",
     "output_type": "stream",
     "text": [
      "Enter no of rows in m12\n",
      "Enter no of columns in m12\n",
      "Enter no of rows in m22\n",
      "Enter no of columns in m22\n",
      "elements of matrix 1 rowwise:\n",
      "1\n",
      "2\n",
      "3\n",
      "4\n",
      "elements of matrix 2 rowwise:\n",
      "9\n",
      "8\n",
      "7\n",
      "6\n",
      "Resulting Matrix:\n",
      "[7, 10]\n",
      "[15, 22]\n"
     ]
    }
   ],
   "source": [
    "row1 = int(input(\"Enter no of rows in m1\"))\n",
    "column1 = int(input(\"Enter no of columns in m1\"))\n",
    "row2 =int(input(\"Enter no of rows in m2\"))\n",
    "column2 =int(input(\"Enter no of columns in m2\"))\n",
    "\n",
    "if column1 != row2:\n",
    "    print(\"Not suitable size\")\n",
    "else:    \n",
    "    resultmatrix = [[0 for _ in range(column2)] for _ in range(row1)]\n",
    "    matrix1 =[]\n",
    "    print(\"elements of matrix 1 rowwise:\")\n",
    "    for row in range(row1):\n",
    "        a = []\n",
    "        for column in range(column1):\n",
    "            a.append(int(input()))\n",
    "        matrix1.append(a)\n",
    "\n",
    "    matrix2=[]\n",
    "    print(\"elements of matrix 2 rowwise:\")\n",
    "    for row in range(row2):\n",
    "        b = []\n",
    "        for column in range(column2):\n",
    "            b.append(int(input()))\n",
    "        matrix2.append(b)\n",
    "    \n",
    "    for i in range(row1):\n",
    "        for j in range(column2):\n",
    "            for k in range(column1):\n",
    "                resultmatrix[i][j] += matrix1[i][k] *matrix [k][j]\n",
    "\n",
    "    print(\"Resulting Matrix:\")\n",
    "    for row in resultmatrix:\n",
    "        print(row)"
   ]
  },
  {
   "cell_type": "code",
   "execution_count": null,
   "id": "b2a76279",
   "metadata": {},
   "outputs": [],
   "source": [
    "def isSymmetric(mat,N):\n",
    "    "
   ]
  }
 ],
 "metadata": {
  "kernelspec": {
   "display_name": "Python 3 (ipykernel)",
   "language": "python",
   "name": "python3"
  },
  "language_info": {
   "codemirror_mode": {
    "name": "ipython",
    "version": 3
   },
   "file_extension": ".py",
   "mimetype": "text/x-python",
   "name": "python",
   "nbconvert_exporter": "python",
   "pygments_lexer": "ipython3",
   "version": "3.11.4"
  }
 },
 "nbformat": 4,
 "nbformat_minor": 5
}
