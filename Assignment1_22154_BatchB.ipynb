{
 "cells": [
  {
   "cell_type": "markdown",
   "id": "e6848bfe",
   "metadata": {},
   "source": [
    "# ASSIGNMENT - 1  _  Batch: B  _  Shruthi.R  _  22154"
   ]
  },
  {
   "cell_type": "markdown",
   "id": "4c1f57c8",
   "metadata": {},
   "source": [
    "### 1.Implement a program that generates a calendar for a given month and year."
   ]
  },
  {
   "cell_type": "code",
   "execution_count": 1,
   "id": "5b4b7b42",
   "metadata": {},
   "outputs": [
    {
     "name": "stdout",
     "output_type": "stream",
     "text": [
      "Enter year: 2004\n",
      "Enter month (1-12): 12\n",
      "Calendar for December 2004\n",
      "Sun  Mon  Tue  Wed  Thu  Fri  Sat\n",
      "                     1    2    3   \n",
      " 4    5    6    7    8    9   10   \n",
      "11   12   13   14   15   16   17   \n",
      "18   19   20   21   22   23   24   \n",
      "25   26   27   28   29   30   31   \n"
     ]
    }
   ],
   "source": [
    "def is_leap_year(year):\n",
    "    if (year % 4 == 0 and year % 100 != 0) or (year % 400 == 0):\n",
    "        return True\n",
    "    return False\n",
    "\n",
    "def get_day_of_week(year, month, day):\n",
    "    if month < 3:\n",
    "        month += 12\n",
    "        year -= 1\n",
    "    k = year % 100\n",
    "    j = year // 100\n",
    "    day_of_week = (day + 13 * (month + 1) // 5 + k + k // 4 + j // 4 - 2 * j) % 7\n",
    "    return day_of_week\n",
    "\n",
    "def generate_calendar(year, month):\n",
    "    days_in_month = [0, 31, 28 if not is_leap_year(year) else 29, 31, 30, 31, 30, 31, 31, 30, 31, 30, 31]\n",
    "    month_names = [\"\", \"January\", \"February\", \"March\", \"April\", \"May\", \"June\", \"July\", \"August\", \"September\", \"October\", \"November\", \"December\"]\n",
    "    days_of_week = [\"Sun\", \"Mon\", \"Tue\", \"Wed\", \"Thu\", \"Fri\", \"Sat\"]\n",
    "\n",
    "    first_day = get_day_of_week(year, month, 1)\n",
    "\n",
    "    print(f\"Calendar for {month_names[month]} {year}\")\n",
    "    print(\"Sun  Mon  Tue  Wed  Thu  Fri  Sat\")\n",
    " \n",
    "    for _ in range(first_day):\n",
    "        print(\"    \", end=\" \")\n",
    "\n",
    "    for day in range(1, days_in_month[month] + 1):\n",
    "        print(f\"{day:2d}  \", end=\" \")\n",
    "        if (day + first_day) % 7 == 0:\n",
    "            print()\n",
    "\n",
    "\n",
    "year = int(input(\"Enter year: \"))\n",
    "month = int(input(\"Enter month (1-12): \"))\n",
    "generate_calendar(year, month)"
   ]
  },
  {
   "cell_type": "markdown",
   "id": "2cd202be",
   "metadata": {},
   "source": [
    "#### LOGIC: Determining if a year is a leap year:  A leap year is a year that is evenly divisible by 4. However, years divisible by 100 are not leap years unless they are also divisible by 400. (Gregorian Calender).\n",
    "#### Calculating the day of the week for a given date: Zeller's Congruence is used to calculate the day of the week for a given date by  taking the year, month, and day and returns a value representing the day of the week (0 for Saturday, 1 for Sunday, 2 for Monday, etc.).\n",
    "#### Leading spaces are printed based on the day of the week for the first day of the month to align the dates correctly in the calendar. The days of the month are printed, and a newline is added after each week"
   ]
  },
  {
   "cell_type": "markdown",
   "id": "39e02e76",
   "metadata": {},
   "source": [
    "## *************************************************************************************************************"
   ]
  },
  {
   "cell_type": "markdown",
   "id": "0f104f79",
   "metadata": {},
   "source": [
    "### 2.Create a function in Python that accepts two parameters (both are numbers). The first will be the month as a number, and the second will be the four-digit year. The function should parse the parameters and return True if the month contains a Friday the 13th and False if it doesn’t."
   ]
  },
  {
   "cell_type": "code",
   "execution_count": 9,
   "id": "83ab49fb",
   "metadata": {},
   "outputs": [
    {
     "name": "stdout",
     "output_type": "stream",
     "text": [
      "Enter the month (1-12): 10\n",
      "Enter the year: 2023\n",
      "Friday the 13th in 10/2023!\n"
     ]
    }
   ],
   "source": [
    "def is_friday_13(month, year):\n",
    "    if month < 1 or month > 12:\n",
    "        return False\n",
    "\n",
    "    days_in_month = [0, 31, 28, 31, 30, 31, 30, 31, 31, 30, 31, 30, 31]\n",
    "\n",
    "    if (year % 4 == 0 and year % 100 != 0) or (year % 400 == 0):\n",
    "        days_in_month[2] = 29\n",
    "\n",
    "    day = 13  \n",
    "    k = day\n",
    "    m = month\n",
    "    if m <= 2:\n",
    "        m += 12\n",
    "        year -= 1\n",
    "    D = year % 100\n",
    "    C = year // 100\n",
    "    f = k + ((13 * (m + 1)) // 5) + D + (D // 4) + (C // 4) - (2 * C)\n",
    "    day_of_week_13th = f % 7\n",
    "\n",
    "    return day_of_week_13th == 6\n",
    "month = int(input(\"Enter the month (1-12): \"))\n",
    "year = int(input(\"Enter the year: \"))\n",
    "\n",
    "if is_friday_13(month, year):\n",
    "    print(f\"Friday the 13th in {month}/{year}!\")\n",
    "else:\n",
    "    print(f\"No Friday the 13th in {month}/{year}.\")"
   ]
  },
  {
   "cell_type": "markdown",
   "id": "6b3ad550",
   "metadata": {},
   "source": [
    "#### We solve this by using the zellers formula\n",
    "####  D represents the day of the week:\n",
    "#### D = (d + floor(13*(m+1)/5) + y + floor(y/4) - floor(y/100) + floor(y/400)) % 7\n",
    "#### d is the day of the month.\n",
    "#### m is the adjusted month.\n",
    "#### y is the adjusted year.\n",
    "#### The % 7 part ensures that the result wraps around to the range of 0 to 6, where 0 represents Saturday, 1 represents Sunday, 2 represents Monday, and so on.\n",
    "####  if this number is equal to 6, which corresponds to Friday. If it is, the function returns True because the 13th day of the given month and year is a Friday; otherwise, it returns False."
   ]
  },
  {
   "cell_type": "markdown",
   "id": "a8d7617e",
   "metadata": {},
   "source": [
    "## *************************************************************************************************************"
   ]
  },
  {
   "cell_type": "markdown",
   "id": "05403e40",
   "metadata": {},
   "source": [
    "### 3.Create a function in Python that accepts one parameter: a string that’s a sentence. This function should return True if any word in that sentence contains duplicate letters and False if not."
   ]
  },
  {
   "cell_type": "code",
   "execution_count": 2,
   "id": "341fc983",
   "metadata": {},
   "outputs": [
    {
     "name": "stdout",
     "output_type": "stream",
     "text": [
      "Enter a sentence: Iridescent\n",
      "At least one word in the sentence contains duplicate letters.\n"
     ]
    }
   ],
   "source": [
    "def has_duplicate_letters(sentence):\n",
    "    words = sentence.split()\n",
    "    for word in words:\n",
    "        unique_letters = set()\n",
    "\n",
    "        for char in word:\n",
    "            if char in unique_letters:\n",
    "                return True\n",
    "            else:\n",
    "                unique_letters.add(char)\n",
    "    return False\n",
    "\n",
    "sentence = input(\"Enter a sentence: \")\n",
    "result = has_duplicate_letters(sentence)\n",
    "\n",
    "if result:\n",
    "    print(\"At least one word in the sentence contains duplicate letters.\")\n",
    "else:\n",
    "    print(\"None of the words in the sentence contain duplicate letters.\")"
   ]
  },
  {
   "cell_type": "markdown",
   "id": "9f1c620e",
   "metadata": {},
   "source": [
    "#### The input sentence is split into individual words. For each word in the list, a set called unique_letters is created to keep track of unique letters in that word.\n",
    "#### We then iterates through each character using a for loop.We then check if the character is already in the unique_letters set. If it is, that means a duplicate letter is found in the word, so the function returns True immediately.\n",
    "#### If not in the unique_letters set, it is added to the set to keep track of unique letters in the word.\n",
    "#### If the loop completes without finding any duplicate letters in the word, the function proceeds to the next word in the sentence.\n",
    "#### After checking all words in the sentence, if the function has not found any word with duplicate letters, it returns False.\n"
   ]
  },
  {
   "cell_type": "markdown",
   "id": "b6a071f2",
   "metadata": {},
   "source": [
    "## *************************************************************************************************************"
   ]
  },
  {
   "cell_type": "markdown",
   "id": "76da9e9b",
   "metadata": {},
   "source": [
    "### 4.Create a new dictionary database called myClass as an empty dictionary. Add the following key-value pairs: Keys Values Types \n",
    "### \"Instructor\"\"Anna\"String\n",
    "### \"Assistants\" [\"Ted\", \"Nat\", \"Wei Meng\"]\n",
    "### List \"Students\"20Int\n",
    "### i.Add a fourth assistant to your database, named Mark \n",
    "### ii.Someone from another class has joined this class. add the students count by 1\n",
    "### iii.Print out everything you know about your database. Expected Output: {\"Instructor\": \"Anna\", \"Assistants\": [\"Ted\", \"Nat\", \"Wei Meng\", \"Mark\"], \"Students\": 21 }¶"
   ]
  },
  {
   "cell_type": "code",
   "execution_count": 3,
   "id": "de52d7f3",
   "metadata": {},
   "outputs": [
    {
     "name": "stdout",
     "output_type": "stream",
     "text": [
      "{'Instructor': 'Anna', 'Assistants': ['Ted', 'Nat', 'Wei Meng', 'Mark'], 'Students': 21}\n"
     ]
    }
   ],
   "source": [
    "myClass = {}\n",
    "myClass[\"Instructor\"] = \"Anna\"\n",
    "myClass[\"Assistants\"] = [\"Ted\", \"Nat\", \"Wei Meng\"]\n",
    "myClass[\"Students\"] = 20\n",
    "\n",
    "myClass[\"Assistants\"].append(\"Mark\")\n",
    "\n",
    "myClass[\"Students\"] += 1\n",
    "print(myClass)"
   ]
  },
  {
   "cell_type": "markdown",
   "id": "1d31d7ca",
   "metadata": {},
   "source": [
    "#### Initialize an empty dictionary called myClass and add a key-value pair to the dictionary. The key \"Instructor\" maps to the value \"Anna\". Similarly, add the assistants\n",
    "#### A key-value pair is added, with the key \"Students\" mapping to the value 20.\n",
    "#### Appenda new assistant by the name \"Mark\" to the list of assistants.\n",
    "#### Increment the value associated with the \"Students\" key by 1, indicating that one more student has joined the class."
   ]
  },
  {
   "cell_type": "markdown",
   "id": "8cf85baf",
   "metadata": {},
   "source": [
    "## *************************************************************************************************************"
   ]
  },
  {
   "cell_type": "markdown",
   "id": "991a0e59",
   "metadata": {},
   "source": [
    "### 5. Create a function that takes a string S. The task is to print all unique permutations of the given string in lexicographically sorted order. \n",
    "### Input: ABC\n",
    "### Output: ABC ACB BAC BCA CAB CBA\n",
    "### Explanation: Given string ABC has permutations in 6  forms as ABC, ACB, BAC, BCA, CAB and CBA."
   ]
  },
  {
   "cell_type": "code",
   "execution_count": 16,
   "id": "70efff27",
   "metadata": {},
   "outputs": [
    {
     "name": "stdout",
     "output_type": "stream",
     "text": [
      "Enter a string: Ant\n",
      "Unique permutations in lexicographically sorted order:\n",
      "Ant Atn nAt ntA tAn tnA\n"
     ]
    }
   ],
   "source": [
    "def get_permutations(s):\n",
    "    def generate_permutations(current, remaining):\n",
    "        if not remaining:\n",
    "            permutations.append(current)\n",
    "            return\n",
    "        for i in range(len(remaining)):\n",
    "            new_current = current + remaining[i]\n",
    "            new_remaining = remaining[:i] + remaining[i+1:]\n",
    "            generate_permutations(new_current, new_remaining)\n",
    "\n",
    "    permutations = []\n",
    "    generate_permutations('', s)\n",
    "\n",
    "    sorted_permutations = sorted(permutations)\n",
    "    return ' '.join(sorted_permutations)\n",
    "\n",
    "s = input(\"Enter a string: \")\n",
    "result = get_permutations(s)\n",
    "print(\"Unique permutations in lexicographically sorted order:\")\n",
    "print(result)"
   ]
  },
  {
   "cell_type": "markdown",
   "id": "6570c2af",
   "metadata": {},
   "source": [
    "#### - current represents the current partial permutation being constructed.\n",
    "#### - remaining represents the characters that have not been used in the current permutation yet.\n",
    "#### 2. Inside the `generate_permutations` function if there are no characters remaining to permute, it means a complete permutation has been generated. In this case, the current permutation is added to the `permutations` list, and the function returns.\n",
    "#### 3. If there are remaining characters, the code enters a loop to iterate over each character in the remaining string.\n",
    "####   - It takes the current character and appends it to the `current` string to build a new partial permutation (`new_current`).\n",
    "####   - It creates a new string `new_remaining` by removing the current character from the `remaining` string.\n",
    "####   - The `generate_permutations` function is then called recursively with the new `current` and `new_remaining` strings, exploring all possible permutations."
   ]
  },
  {
   "cell_type": "markdown",
   "id": "d9d07a13",
   "metadata": {},
   "source": [
    "## *************************************************************************************************************"
   ]
  },
  {
   "cell_type": "markdown",
   "id": "bd793864",
   "metadata": {},
   "source": [
    "### 6.Create a function that takes two strings and find the length of the longest common substring."
   ]
  },
  {
   "cell_type": "code",
   "execution_count": 6,
   "id": "523d3a37",
   "metadata": {},
   "outputs": [
    {
     "name": "stdout",
     "output_type": "stream",
     "text": [
      "4\n"
     ]
    }
   ],
   "source": [
    "def lcs(str1, str2):\n",
    "    result = 0\n",
    "    for i in range(len(str1)):\n",
    "        for j in range(len(str2)):\n",
    "            k = 0\n",
    "            while (i+k)< len(str1) and (j+k) < len(str2) and str1[i+k] == str2[j+k]:\n",
    "                k = k+1\n",
    "            result = max(result, k)\n",
    "    return result\n",
    "                       \n",
    "X = \"amritha\"\n",
    "Y = \"samhitha\"\n",
    "print(lcs(X, Y))"
   ]
  },
  {
   "cell_type": "markdown",
   "id": "3f978579",
   "metadata": {},
   "source": [
    "#### Initialize a 2D matrix `dp` with dimensions `(len(str1) + 1) x (len(str2) + 1)`. This table will be used to store the lengths of the common substrings. The extra \"+1\" is to accommodate the empty string at the beginning.\n",
    "#### Initialize a variable `max_length` and set it to 0. This variable will keep track of the maximum length of the common substring found so far.\n",
    "#### Initialize variables for the ending index which keep track of the ending index of the longest common substring in `str1`.\n",
    "#### Use nested loops to iterate through each character of both input strings, `str1` and `str2`. The outer loop iterates over the characters of str1, and the inner loop iterates over str2.\n",
    "#### For each pair of characters `str1[i]` and `str2[j]`, check if they are equal.\n",
    "#### Update the value in the 2D matrix at position `dp[i][j]` to be one more than the value at `dp[i-1][j-1]`. This represents that the common substring has been extended by one character.\n",
    "#### Update `max_length` whenever you find a longer common substring. If `dp[i][j]` is greater than `max_length`, set `max_length` to `dp[i][j]`.\n",
    "#### Update `end_index` to the current index whenever you update max_length."
   ]
  },
  {
   "cell_type": "markdown",
   "id": "eca7c828",
   "metadata": {},
   "source": [
    "## *************************************************************************************************************"
   ]
  },
  {
   "cell_type": "markdown",
   "id": "251b51cd",
   "metadata": {},
   "source": [
    "### 7.Implement a function to calculate the greatest common divisor (GCD) of two numbers using the Euclidean algorithm."
   ]
  },
  {
   "cell_type": "code",
   "execution_count": 5,
   "id": "165486f6",
   "metadata": {},
   "outputs": [
    {
     "name": "stdout",
     "output_type": "stream",
     "text": [
      "Enter the first number: 4\n",
      "Enter the second number: 5\n",
      "The GCD of 4 and 5 is 1\n"
     ]
    }
   ],
   "source": [
    "def gcd_euclidean(a, b):\n",
    "    while b:\n",
    "        a, b = b, a % b\n",
    "    return a\n",
    "\n",
    "num1 = int(input(\"Enter the first number: \"))\n",
    "num2 = int(input(\"Enter the second number: \"))\n",
    "\n",
    "result = gcd_euclidean(num1, num2)\n",
    "print(f\"The GCD of {num1} and {num2} is {result}\")"
   ]
  },
  {
   "cell_type": "markdown",
   "id": "d6b5c082",
   "metadata": {},
   "source": [
    "#### The while loop will continue executing as long as b is not equal to zero. \n",
    "#### a % b calculates the remainder when a is divided by b. This remainder is assigned to b.\n",
    "#### b is assigned to a, which means that a now holds the original value of b.\n",
    "#### We replace the larger of the two numbers (a or b) with the remainder of their division, and it repeats this process until b becomes zero.\n",
    "#### After the loop, the GCD is stored in the variable a, and the function returns this value as the result."
   ]
  },
  {
   "cell_type": "markdown",
   "id": "1a1346b1",
   "metadata": {},
   "source": [
    "## *************************************************************************************************************"
   ]
  },
  {
   "cell_type": "markdown",
   "id": "eedbdf00",
   "metadata": {},
   "source": [
    "### 8. Create a program that reads a paragraph (150 words long) and counts the occurrences of each word, ignoring punctuation and case."
   ]
  },
  {
   "cell_type": "code",
   "execution_count": 1,
   "id": "34eda8f3",
   "metadata": {},
   "outputs": [
    {
     "name": "stdout",
     "output_type": "stream",
     "text": [
      "Enter a paragraph (150 words long): Penguins, charismatic and endearing creatures, are a group of flightless birds uniquely adapted to life in the Southern Hemisphere, primarily Antarctica. These flightless birds have captivated the world with their comical waddling gait, tuxedo-like plumage, and their remarkable abilities both on land and in water.  Penguins are superbly adapted for their aquatic existence. Their streamlined bodies, flipper-like wings, and webbed feet enable them to navigate the ocean depths with astonishing agility. These birds are exceptional swimmers, often diving to great depths in pursuit of their prey, primarily fish and krill.  Penguins are also known for their strong social bonds. They form colonies, huddling together for warmth during harsh Antarctic winters. Some of the most famous penguin species include the Emperor, King, and Adélie penguins. Each species possesses unique characteristics and behaviors that have fascinated scientists and wildlife enthusiasts alike.  Despite their resilience, penguins face threats from climate change, habitat destruction, and overfishing. Conservation efforts are crucial to protect these beloved birds and the delicate ecosystems they inhabit. Penguins remain a symbol of the beauty and fragility of our planet's wildlife, reminding us of the need for responsible stewardship of our natural world.\n",
      "Word Count:\n",
      "penguins: 6\n",
      "charismatic: 1\n",
      "and: 11\n",
      "endearing: 1\n",
      "creatures: 1\n",
      "are: 5\n",
      "a: 2\n",
      "group: 1\n",
      "of: 7\n",
      "flightless: 2\n",
      "birds: 4\n",
      "uniquely: 1\n",
      "adapted: 2\n",
      "to: 4\n",
      "life: 1\n",
      "in: 3\n",
      "the: 8\n",
      "southern: 1\n",
      "hemisphere: 1\n",
      "primarily: 2\n",
      "antarctica: 1\n",
      "these: 3\n",
      "have: 2\n",
      "captivated: 1\n",
      "world: 2\n",
      "with: 2\n",
      "their: 7\n",
      "comical: 1\n",
      "waddling: 1\n",
      "gait: 1\n",
      "tuxedolike: 1\n",
      "plumage: 1\n",
      "remarkable: 1\n",
      "abilities: 1\n",
      "both: 1\n",
      "on: 1\n",
      "land: 1\n",
      "water: 1\n",
      "superbly: 1\n",
      "for: 4\n",
      "aquatic: 1\n",
      "existence: 1\n",
      "streamlined: 1\n",
      "bodies: 1\n",
      "flipperlike: 1\n",
      "wings: 1\n",
      "webbed: 1\n",
      "feet: 1\n",
      "enable: 1\n",
      "them: 1\n",
      "navigate: 1\n",
      "ocean: 1\n",
      "depths: 2\n",
      "astonishing: 1\n",
      "agility: 1\n",
      "exceptional: 1\n",
      "swimmers: 1\n",
      "often: 1\n",
      "diving: 1\n",
      "great: 1\n",
      "pursuit: 1\n",
      "prey: 1\n",
      "fish: 1\n",
      "krill: 1\n",
      "also: 1\n",
      "known: 1\n",
      "strong: 1\n",
      "social: 1\n",
      "bonds: 1\n",
      "they: 2\n",
      "form: 1\n",
      "colonies: 1\n",
      "huddling: 1\n",
      "together: 1\n",
      "warmth: 1\n",
      "during: 1\n",
      "harsh: 1\n",
      "antarctic: 1\n",
      "winters: 1\n",
      "some: 1\n",
      "most: 1\n",
      "famous: 1\n",
      "penguin: 1\n",
      "species: 2\n",
      "include: 1\n",
      "emperor: 1\n",
      "king: 1\n",
      "adélie: 1\n",
      "each: 1\n",
      "possesses: 1\n",
      "unique: 1\n",
      "characteristics: 1\n",
      "behaviors: 1\n",
      "that: 1\n",
      "fascinated: 1\n",
      "scientists: 1\n",
      "wildlife: 2\n",
      "enthusiasts: 1\n",
      "alike: 1\n",
      "despite: 1\n",
      "resilience: 1\n",
      "face: 1\n",
      "threats: 1\n",
      "from: 1\n",
      "climate: 1\n",
      "change: 1\n",
      "habitat: 1\n",
      "destruction: 1\n",
      "overfishing: 1\n",
      "conservation: 1\n",
      "efforts: 1\n",
      "crucial: 1\n",
      "protect: 1\n",
      "beloved: 1\n",
      "delicate: 1\n",
      "ecosystems: 1\n",
      "inhabit: 1\n",
      "remain: 1\n",
      "symbol: 1\n",
      "beauty: 1\n",
      "fragility: 1\n",
      "our: 2\n",
      "planets: 1\n",
      "reminding: 1\n",
      "us: 1\n",
      "need: 1\n",
      "responsible: 1\n",
      "stewardship: 1\n",
      "natural: 1\n"
     ]
    }
   ],
   "source": [
    "import string\n",
    "def remove_punctuation(word):\n",
    "    return ''.join(char for char in word if char not in string.punctuation)\n",
    "\n",
    "def process_text(text):\n",
    "    text = text.lower()\n",
    "    words = text.split()\n",
    "    words = [remove_punctuation(word) for word in words]\n",
    "    return words\n",
    "\n",
    "def count_words(word_list):\n",
    "    word_count = {}\n",
    "    for word in word_list:\n",
    "        if word not in word_count:\n",
    "            word_count[word] = 1\n",
    "        else:\n",
    "            word_count[word] += 1\n",
    "    return word_count\n",
    "\n",
    "paragraph = input(\"Enter a paragraph (150 words long): \")\n",
    "words = process_text(paragraph)\n",
    "word_count = count_words(words)\n",
    "print(\"Word Count:\")\n",
    "for word, count in word_count.items():\n",
    "    print(f\"{word}: {count}\")"
   ]
  },
  {
   "cell_type": "markdown",
   "id": "545e097b",
   "metadata": {},
   "source": [
    "#### First removes any punctuation characters from it using Python's `string.punctuation` constant.\n",
    "#### First we convert the entire paragraph to lowercase using the `lower()` method to ensure that words are treated as case-insensitive. Then, it splits the paragraph into individual words using the `split()` method. Finally, it applies the `remove_punctuation()` function to each word to remove any punctuation.\n",
    "#### We use a dictionary to store word frequencies. For each word in the input list, it checks if the word is already a key in the dictionary. If it is, it increments the count by 1; if not, it adds the word to the dictionary with a count of 1."
   ]
  },
  {
   "cell_type": "markdown",
   "id": "0c531e40",
   "metadata": {},
   "source": [
    "## *************************************************************************************************************"
   ]
  },
  {
   "cell_type": "markdown",
   "id": "379418d6",
   "metadata": {},
   "source": [
    "### 9. Write a function that converts a decimal number to its binary representation."
   ]
  },
  {
   "cell_type": "code",
   "execution_count": 4,
   "id": "5486da30",
   "metadata": {},
   "outputs": [
    {
     "name": "stdout",
     "output_type": "stream",
     "text": [
      "Enter a decimal number: 45\n",
      "Binary representation: 101101\n"
     ]
    }
   ],
   "source": [
    "def decimal_to_binary(decimal_str):\n",
    "    if decimal_str.isdigit():\n",
    "        decimal_num = int(decimal_str)\n",
    "        if decimal_num == 0:\n",
    "            return '0'  \n",
    "        binary_str = \"\"\n",
    "        while decimal_num > 0:\n",
    "            remainder = decimal_num % 2\n",
    "            binary_str = str(remainder) + binary_str\n",
    "            decimal_num = decimal_num // 2\n",
    "        return binary_str\n",
    "    else:\n",
    "        return \"Invalid input. Please enter a valid decimal number.\"\n",
    "\n",
    "decimal_input = input(\"Enter a decimal number: \")\n",
    "binary_result = decimal_to_binary(decimal_input)\n",
    "print(\"Binary representation:\", binary_result)"
   ]
  },
  {
   "cell_type": "markdown",
   "id": "c5cb48eb",
   "metadata": {},
   "source": [
    "#### First we check if the input string contains only digits. If the input is a valid decimal number, it converts it to an integer and then manually calculates the binary representation.\n",
    "#### Calculate the remainder when dividing decimal_num by 2 (0 or 1).\n",
    "#### Convert the remainder to a string and append it to the beginning of binary_str.\n",
    "#### Update decimal_num by performing integer division (//) by 2.\n",
    "#### If the input is not a valid decimal number, it returns an error message."
   ]
  },
  {
   "cell_type": "markdown",
   "id": "0d1dee68",
   "metadata": {},
   "source": [
    "## *************************************************************************************************************"
   ]
  },
  {
   "cell_type": "markdown",
   "id": "7ab5be4f",
   "metadata": {},
   "source": [
    "### 10. Create a program that generates a random password with a specified length using a combination of letters, digits, and symbols."
   ]
  },
  {
   "cell_type": "code",
   "execution_count": 5,
   "id": "af9b8053",
   "metadata": {},
   "outputs": [
    {
     "name": "stdout",
     "output_type": "stream",
     "text": [
      "Enter the desired password length: 15\n",
      "Random Password: J[5.pG}<S,?9ddx\n"
     ]
    }
   ],
   "source": [
    "import random\n",
    "def generate_random_password(length):\n",
    "    letters = \"abcdefghijklmnopqrstuvwxyzABCDEFGHIJKLMNOPQRSTUVWXYZ\"\n",
    "    digits = \"0123456789\"\n",
    "    symbols = \"!@#$%^&*()_+-=[]{}|;:,.<>?/~\"\n",
    "    all_characters = letters + digits + symbols\n",
    "\n",
    "    password = \"\"\n",
    "    for _ in range(length):\n",
    "        password += random.choice(all_characters)\n",
    "\n",
    "    return password\n",
    "\n",
    "while True:\n",
    "    try:\n",
    "        password_length = int(input(\"Enter the desired password length: \"))\n",
    "        if password_length > 0:\n",
    "            break\n",
    "        else:\n",
    "            print(\"Please enter a positive integer.\")\n",
    "    except ValueError:\n",
    "        print(\"Invalid input. Please enter a positive integer.\")\n",
    "\n",
    "random_password = generate_random_password(password_length)\n",
    "print(\"Random Password:\", random_password)"
   ]
  },
  {
   "cell_type": "markdown",
   "id": "a3022b09",
   "metadata": {},
   "source": [
    "#### We import the random module to generate random characters.\n",
    "#### We define character sets for letters, digits, and symbols and combine all the character sets into a single all_characters string, which will be used to randomly select characters for the password.\n",
    "#### We take a length parameter specifying the desired password length and generate the password by randomly selecting characters from all_characters and concatenating them together.\n",
    "#### We use a while loop to repeatedly ask the user for the desired password length, ensuring that it's a positive integer. "
   ]
  },
  {
   "cell_type": "markdown",
   "id": "0ff48bef",
   "metadata": {},
   "source": [
    "## *************************************************************************************************************"
   ]
  },
  {
   "cell_type": "markdown",
   "id": "7df482ec",
   "metadata": {},
   "source": [
    "### 11. Write a function that calculates the Hamming distance between two strings of equal length."
   ]
  },
  {
   "cell_type": "code",
   "execution_count": 7,
   "id": "6fdf517f",
   "metadata": {},
   "outputs": [
    {
     "name": "stdout",
     "output_type": "stream",
     "text": [
      "Enter the first string: sing\n",
      "Enter the second string: bing\n",
      "Hamming Distance: 1\n"
     ]
    }
   ],
   "source": [
    "def hamming_distance(str1, str2):\n",
    "    if len(str1) != len(str2):\n",
    "        return \"Strings must be of equal length.\"\n",
    "    \n",
    "    distance = 0\n",
    "    for i in range(len(str1)):\n",
    "        if str1[i] != str2[i]:\n",
    "            distance += 1\n",
    "    \n",
    "    return distance\n",
    "\n",
    "string1 = input(\"Enter the first string: \")\n",
    "string2 = input(\"Enter the second string: \")\n",
    "result = hamming_distance(string1, string2)\n",
    "print(\"Hamming Distance:\", result)"
   ]
  },
  {
   "cell_type": "markdown",
   "id": "56c4e4e2",
   "metadata": {},
   "source": [
    "#### We first check if the lengths of the two input strings are equal.\n",
    "#### If the strings have the same length, it initializes a distance variable to keep track of the Hamming distance.\n",
    "#### It iterates through the characters of both strings using a loop and compares corresponding characters. If the characters are not equal, it increments the distance."
   ]
  },
  {
   "cell_type": "markdown",
   "id": "69dfd74c",
   "metadata": {},
   "source": [
    "## *************************************************************************************************************"
   ]
  },
  {
   "cell_type": "markdown",
   "id": "cc6651be",
   "metadata": {},
   "source": [
    "### 12. Write a function to check if a given number, is a perfect square."
   ]
  },
  {
   "cell_type": "code",
   "execution_count": 8,
   "id": "fff66269",
   "metadata": {},
   "outputs": [
    {
     "name": "stdout",
     "output_type": "stream",
     "text": [
      "Enter a number: 49\n",
      "49 is a perfect square.\n"
     ]
    }
   ],
   "source": [
    "def is_perfect_square(number):\n",
    "    if number < 0:\n",
    "        return False  \n",
    "    root = int(number**0.5)  \n",
    "    return root*root == number\n",
    "\n",
    "number_to_check = input(\"Enter a number: \")\n",
    "\n",
    "if number_to_check.isdigit():\n",
    "    number_to_check = int(number_to_check)\n",
    "    result = is_perfect_square(number_to_check)\n",
    "    if result:\n",
    "        print(f\"{number_to_check} is a perfect square.\")\n",
    "    else:\n",
    "        print(f\"{number_to_check} is not a perfect square.\")\n",
    "else:\n",
    "    print(\"Invalid input. Please enter a valid integer.\")"
   ]
  },
  {
   "cell_type": "markdown",
   "id": "6491501c",
   "metadata": {},
   "source": [
    "####  If the number is an integer, then it will be converted into a perfect square.\n",
    "####  If so, then it converts them into an integer and uses int() to check if their number is equal to 0 or not with root = int(number**0.5)."
   ]
  },
  {
   "cell_type": "markdown",
   "id": "a84a7962",
   "metadata": {},
   "source": [
    "## *************************************************************************************************************"
   ]
  },
  {
   "cell_type": "markdown",
   "id": "2776b7ec",
   "metadata": {},
   "source": [
    "### 13. Create a program that takes a list of names and sorts them alphabetically by last name"
   ]
  },
  {
   "cell_type": "code",
   "execution_count": 10,
   "id": "9ba43ac1",
   "metadata": {},
   "outputs": [
    {
     "name": "stdout",
     "output_type": "stream",
     "text": [
      "Enter a name: Shruthi\n",
      "Enter a name: Ananya\n",
      "Enter a name: Poojitha\n",
      "Enter a name: Rosh\n",
      "Enter a name: \n",
      "\n",
      "Sorted Names:\n",
      "Ananya\n",
      "Poojitha\n",
      "Rosh\n",
      "Shruthi\n"
     ]
    }
   ],
   "source": [
    "def custom_sort(name1, name2):\n",
    "    first_name1, last_name1 = name1.split()\n",
    "    first_name2, last_name2 = name2.split()\n",
    "    \n",
    "    if last_name1 < last_name2:\n",
    "        return -1\n",
    "    elif last_name1 > last_name2:\n",
    "        return 1\n",
    "    else:\n",
    "        if first_name1 < first_name2:\n",
    "            return -1\n",
    "        elif first_name1 > first_name2:\n",
    "            return 1\n",
    "        else:\n",
    "            return 0\n",
    "\n",
    "names = []\n",
    "\n",
    "while True:\n",
    "    input_name = input(\"Enter a name: \")\n",
    "    if not input_name:\n",
    "        break\n",
    "    names.append(input_name)\n",
    "\n",
    "names.sort(key=lambda x: x.lower())  \n",
    "print(\"\\nSorted Names:\")\n",
    "for name in names:\n",
    "    print(name)"
   ]
  },
  {
   "cell_type": "markdown",
   "id": "9cecce07",
   "metadata": {},
   "source": [
    "#### First we compare two names based on their last names. It takes two names (name1 and name2) as input, splits them into first and last names, and then compares the last names. If the last names are different, it returns -1 if the last name of name1 comes before the last name of name2 alphabetically, 1 if it comes after, and 0 if they are the same. If the last names are the same, it further compares the first names to ensure a complete alphabetical order.\n",
    "#### After collecting all the names, the program sorts the list using the `sort` method. It uses a lambda function to specify the key for sorting. The key is a lowercase version of each name, which helps in ignoring case while sorting."
   ]
  },
  {
   "cell_type": "markdown",
   "id": "25ed28f3",
   "metadata": {},
   "source": [
    "### 14. Write a function that calculates the median of a list of numbers."
   ]
  },
  {
   "cell_type": "code",
   "execution_count": 12,
   "id": "85e6f5ea",
   "metadata": {},
   "outputs": [
    {
     "name": "stdout",
     "output_type": "stream",
     "text": [
      "Enter a list of numbers separated by spaces: 1 2 3 4 5\n",
      "Median: 3.0\n"
     ]
    }
   ],
   "source": [
    "def calculate_median(numbers):\n",
    "    if not numbers:\n",
    "        return \"The list is empty. Median cannot be calculated.\"\n",
    "\n",
    "    numbers.sort()\n",
    "\n",
    "    n = len(numbers)\n",
    "    if n % 2 == 1:\n",
    "        median = numbers[n // 2]\n",
    "    else:\n",
    "        middle1 = numbers[(n // 2) - 1]\n",
    "        middle2 = numbers[n // 2]\n",
    "        median = (middle1 + middle2) / 2\n",
    "\n",
    "    return median\n",
    "\n",
    "input_numbers = input(\"Enter a list of numbers separated by spaces: \").split()\n",
    "numbers = [float(x) for x in input_numbers]\n",
    "median = calculate_median(numbers)\n",
    "print(\"Median:\", median)"
   ]
  },
  {
   "cell_type": "markdown",
   "id": "5fb8de67",
   "metadata": {},
   "source": [
    "##### If the list has an odd number of elements, the median is calculated as the middle element of the sorted list. This is done by accessing the element at index n // 2.\n",
    "##### If the list has an even number of elements, the median is calculated as the average of the two middle elements of the sorted list. These two middle elements are accessed using indices (n // 2) - 1 and n // 2."
   ]
  },
  {
   "cell_type": "markdown",
   "id": "cfac7b24",
   "metadata": {},
   "source": [
    "## *************************************************************************************************************"
   ]
  },
  {
   "cell_type": "markdown",
   "id": "65b0e3ca",
   "metadata": {},
   "source": [
    "### 15. Write a function that finds the longest palindrome substring within a given string."
   ]
  },
  {
   "cell_type": "code",
   "execution_count": null,
   "id": "84100dc4",
   "metadata": {},
   "outputs": [],
   "source": [
    "def longest_palindrome_substring(s):\n",
    "    if not s:\n",
    "        return \"\"\n",
    "\n",
    "    n = len(s)\n",
    "    is_palindrome = [[False] * n for _ in range(n)]\n",
    "\n",
    "    max_length = 1\n",
    "    start_index = 0\n",
    "    for i in range(n):\n",
    "        is_palindrome[i][i] = True\n",
    "\n",
    "    for i in range(n - 1):\n",
    "        if s[i] == s[i + 1]:\n",
    "            is_palindrome[i][i + 1] = True\n",
    "            max_length = 2\n",
    "            start_index = i\n",
    "\n",
    "    for length in range(3, n + 1):\n",
    "        for i in range(n - length + 1):\n",
    "            j = i + length - 1\n",
    "            if s[i] == s[j] and is_palindrome[i + 1][j - 1]:\n",
    "                is_palindrome[i][j] = True\n",
    "                if length > max_length:\n",
    "                    max_length = length\n",
    "                    start_index = i\n",
    "\n",
    "    longest_palindrome = s[start_index:start_index + max_length]\n",
    "    return longest_palindrome\n",
    "\n",
    "input_string = input(\"Enter a string: \")\n",
    "result = longest_palindrome_substring(input_string)\n",
    "print(\"Longest palindrome substring:\", result)"
   ]
  },
  {
   "cell_type": "markdown",
   "id": "6e34e430",
   "metadata": {},
   "source": [
    "####  a two-dimensional boolean array dp of size n x n, where n is the length of the input string. dp[i][j] will be true if the substring from index i to index j is a palindrome, and false otherwise.\n",
    "####  variables start and maxLength to keep track of the starting index and length of the longest palindromic substring found so far. Set start to 0 and maxLength to 1 initially.\n",
    "#### Iterate over the string characters and fill in the dp array as follows:\n",
    "#### Set dp[i][i] to true for all single characters (base case for a palindrome).\n",
    "#### For substrings of length 2, set dp[i][i+1] to true if s[i] == s[i+1] \n",
    "#### For longer substrings, use the following recurrence relation: dp[i][j] = dp[i+1][j-1] && s[i] == s[j] (i.e., a substring is a palindrome if the characters at the ends match and the substring inside is also a palindrome).\n",
    "#### During the iteration in step 3, whenever you encounter a true value in dp[i][j], calculate the length of the palindrome as j - i + 1. If this length is greater than maxLength, update maxLength to the new length and update start to i (the starting index of the new longest palindrome).\n",
    "#### Once you've filled in the entire dp array, the value of maxLength will be the length of the longest palindromic substring, and start will be the starting index of that substring."
   ]
  },
  {
   "cell_type": "markdown",
   "id": "87ecd198",
   "metadata": {},
   "source": [
    "## *************************************************************************************************************"
   ]
  },
  {
   "cell_type": "markdown",
   "id": "b66dac11",
   "metadata": {},
   "source": [
    "### 16. Implement a program that converts a Roman numeral to an integer"
   ]
  },
  {
   "cell_type": "code",
   "execution_count": 13,
   "id": "cc834a95",
   "metadata": {},
   "outputs": [
    {
     "name": "stdout",
     "output_type": "stream",
     "text": [
      "Enter a Roman numeral: IV\n",
      "The integer value of IV is 4\n"
     ]
    }
   ],
   "source": [
    "def roman_to_int(roman):\n",
    "    roman_numerals = {\n",
    "        'I': 1,\n",
    "        'V': 5,\n",
    "        'X': 10,\n",
    "        'L': 50,\n",
    "        'C': 100,\n",
    "        'D': 500,\n",
    "        'M': 1000\n",
    "    }\n",
    "\n",
    "    result = 0\n",
    "    prev_value = 0\n",
    "\n",
    "    for symbol in roman[::-1]: \n",
    "        value = roman_numerals.get(symbol, 0)\n",
    "\n",
    "        if value == 0:\n",
    "            print(\"Invalid Roman numeral.\")\n",
    "            return\n",
    "\n",
    "        if value < prev_value:\n",
    "            result -= value\n",
    "        else:\n",
    "            result += value\n",
    "\n",
    "        prev_value = value\n",
    "\n",
    "    return result\n",
    "\n",
    "roman_input = input(\"Enter a Roman numeral: \").upper()\n",
    "integer_value = roman_to_int(roman_input)\n",
    "if integer_value is not None:\n",
    "    print(f\"The integer value of {roman_input} is {integer_value}\")"
   ]
  },
  {
   "cell_type": "markdown",
   "id": "d61323b3",
   "metadata": {},
   "source": [
    "#### Initialize two variables, result and prev_value. result will store the cumulative integer value of the Roman numeral, and prev_value will store the value of the previously processed Roman numeral character.\n",
    "#### Reverse the Roman numeral string using slicing (roman[::-1]) to start processing from the rightmost (last) character, which is a common approach when converting Roman numerals.\n",
    "#### Use the get method of the roman_numerals dictionary to obtain the integer value of the current symbol. If the symbol is not found in the dictionary (i.e., it's not a valid Roman numeral character), set value to 0.\n",
    "#### Check if value is less than prev_value. If it is, subtract value from result because Roman numerals are written in subtractive notation (e.g., IV for 4, IX for 9).\n",
    "#### If value is greater than or equal to prev_value, add value to result."
   ]
  },
  {
   "cell_type": "markdown",
   "id": "025c2960",
   "metadata": {},
   "source": [
    "## *************************************************************************************************************"
   ]
  },
  {
   "cell_type": "markdown",
   "id": "0a40e4a7",
   "metadata": {},
   "source": [
    "### 17.Print the following pattern using nested loops: 54321 5432 543 54 5 "
   ]
  },
  {
   "cell_type": "code",
   "execution_count": 14,
   "id": "e4b56537",
   "metadata": {},
   "outputs": [
    {
     "name": "stdout",
     "output_type": "stream",
     "text": [
      "54321\n",
      "5432\n",
      "543\n",
      "54\n",
      "5\n"
     ]
    }
   ],
   "source": [
    "n = 5  \n",
    "for i in range(n, 0, -1):  \n",
    "    for j in range(n, n - i, -1):  \n",
    "        print(j, end='')\n",
    "    print()  "
   ]
  },
  {
   "cell_type": "markdown",
   "id": "1977fe56",
   "metadata": {},
   "source": [
    "#### The outer loop (for i in range(n, 0, -1)) iterates from n down to 1, controlling the number of rows.\n",
    "#### The inner loop (for j in range(n, n - i, -1)) iterates from n down to n - i + 1, where i represents the current row number. This loop prints the numbers from n down to n - i + 1."
   ]
  },
  {
   "cell_type": "markdown",
   "id": "699597bf",
   "metadata": {},
   "source": [
    "## *************************************************************************************************************"
   ]
  },
  {
   "cell_type": "markdown",
   "id": "55b0bf78",
   "metadata": {},
   "source": [
    "### 18. Print a diamond pattern with a given number of rows: Example: For input 5, the pattern should be         *       ***     *****   ******* *********   *******     *****       *** "
   ]
  },
  {
   "cell_type": "code",
   "execution_count": 16,
   "id": "0f61965e",
   "metadata": {},
   "outputs": [
    {
     "name": "stdout",
     "output_type": "stream",
     "text": [
      "Enter the number of rows: 5\n",
      "    *\n",
      "   ***\n",
      "  *****\n",
      " *******\n",
      "*********\n",
      " *******\n",
      "  *****\n",
      "   ***\n",
      "    *\n"
     ]
    }
   ],
   "source": [
    "n = int(input(\"Enter the number of rows: \"))\n",
    "\n",
    "for i in range(1, n + 1):\n",
    "    for j in range(n - i):\n",
    "        print(\" \", end='')\n",
    "\n",
    "    for k in range(2 * i - 1):\n",
    "        print(\"*\", end='')\n",
    "    print()\n",
    "\n",
    "for i in range(n - 1, 0, -1):\n",
    "    for j in range(n - i):\n",
    "        print(\" \", end='')\n",
    "\n",
    "    for k in range(2 * i - 1):\n",
    "        print(\"*\", end='')\n",
    "    print()"
   ]
  },
  {
   "cell_type": "markdown",
   "id": "2dbf6b50",
   "metadata": {},
   "source": [
    "#### The first for loop (from 1 to n) is used to print the upper part of the diamond. It consists of two nested loops:\n",
    "#### -The first inner loop (for j in range(n - i)) prints the spaces before the stars on each line.\n",
    "#### -The second inner loop (for k in range(2 * i - 1)) prints the stars on each line.\n",
    "#### After printing each row in the upper part, a newline is added to move to the next row.\n",
    "#### -The second for loop (from n - 1 down to 1) is used to print the lower part of the diamond (excluding the center row). It follows the same logic as the upper part."
   ]
  },
  {
   "cell_type": "markdown",
   "id": "2471a88d",
   "metadata": {},
   "source": [
    "## *************************************************************************************************************"
   ]
  },
  {
   "cell_type": "markdown",
   "id": "93b9e835",
   "metadata": {},
   "source": [
    "### 19. Print the Pascal's triangle for a number of rows given by the user."
   ]
  },
  {
   "cell_type": "code",
   "execution_count": 3,
   "id": "4814837f",
   "metadata": {},
   "outputs": [
    {
     "name": "stdout",
     "output_type": "stream",
     "text": [
      "    1 \n",
      "   1 1 \n",
      "  1 2 1 \n",
      " 1 3 3 1 \n",
      "1 4 6 4 1 \n"
     ]
    }
   ],
   "source": [
    "def factorial(n):\n",
    "    if n == 0:\n",
    "        return 1\n",
    "    else:\n",
    "        return n * factorial(n - 1)\n",
    "\n",
    "def pascal_tri(n):\n",
    "    for i in range(n):\n",
    "        for j in range(n - i - 1):\n",
    "            print(end=\" \")\n",
    "\n",
    "        for j in range(i + 1):\n",
    "            coef = factorial(i) // (factorial(j) * factorial(i - j))\n",
    "            print(coef, end=\" \")\n",
    "\n",
    "        print()\n",
    "\n",
    "n = 5\n",
    "pascal_tri(n)"
   ]
  },
  {
   "cell_type": "markdown",
   "id": "dd86511e",
   "metadata": {},
   "source": [
    "#### use for loop to iterate from 0 to `rows - 1`, representing each row of the triangle.\n",
    "#### Use another `for` loop to iterate from 0 to `i` which is the current row number.\n",
    "#### In the inner loop, check if `j` (the current column within the row) is either 0 or `i`. If it is, append the value 1 to `current_row` (because the edge values of Pascal's Triangle are always 1).\n",
    "#### If `j` is not 0 or `i`, calculate the value for the current position by summing the values from the previous row at positions `j-1` and `j`. Append this value to `current_row`.\n",
    "#### After processing all columns in the current row, append `current_row` to the `triangle` list."
   ]
  },
  {
   "cell_type": "markdown",
   "id": "853cbf55",
   "metadata": {},
   "source": [
    "## *************************************************************************************************************"
   ]
  },
  {
   "cell_type": "markdown",
   "id": "d51d5b27",
   "metadata": {},
   "source": [
    "### 20. Get the key of a minimum value from a dictionary"
   ]
  },
  {
   "cell_type": "code",
   "execution_count": 18,
   "id": "40b88b59",
   "metadata": {},
   "outputs": [
    {
     "name": "stdout",
     "output_type": "stream",
     "text": [
      "Key with the minimum value: banana\n"
     ]
    }
   ],
   "source": [
    "my_dict = {'apple': 3, 'banana': 1, 'cherry': 5, 'date': 2}\n",
    "min_key = min(my_dict, key=lambda k: my_dict[k])\n",
    "print(\"Key with the minimum value:\", min_key)"
   ]
  },
  {
   "cell_type": "markdown",
   "id": "cc9ab1c2",
   "metadata": {},
   "source": [
    "#### lambda function takes an argument k, which represents a key from the dictionary. the mininmum of all the key values is then printed"
   ]
  },
  {
   "cell_type": "code",
   "execution_count": 9,
   "id": "7a16115c",
   "metadata": {},
   "outputs": [
    {
     "ename": "TypeError",
     "evalue": "'set' object is not subscriptable",
     "output_type": "error",
     "traceback": [
      "\u001b[1;31m---------------------------------------------------------------------------\u001b[0m",
      "\u001b[1;31mTypeError\u001b[0m                                 Traceback (most recent call last)",
      "Cell \u001b[1;32mIn[9], line 2\u001b[0m\n\u001b[0;32m      1\u001b[0m A \u001b[38;5;241m=\u001b[39m {\u001b[38;5;241m1\u001b[39m,\u001b[38;5;241m2\u001b[39m,\u001b[38;5;241m3\u001b[39m,\u001b[38;5;241m4\u001b[39m,\u001b[38;5;241m5\u001b[39m}\n\u001b[1;32m----> 2\u001b[0m A[\u001b[38;5;241m1\u001b[39m] \u001b[38;5;241m==\u001b[39m \u001b[38;5;241m9\u001b[39m\n\u001b[0;32m      3\u001b[0m A\n",
      "\u001b[1;31mTypeError\u001b[0m: 'set' object is not subscriptable"
     ]
    }
   ],
   "source": [
    "A = {1,2,3,4,5}\n",
    "A[1] == 9\n",
    "A"
   ]
  },
  {
   "cell_type": "code",
   "execution_count": 15,
   "id": "8a5f2366",
   "metadata": {},
   "outputs": [
    {
     "ename": "TypeError",
     "evalue": "'int' object is not iterable",
     "output_type": "error",
     "traceback": [
      "\u001b[1;31m---------------------------------------------------------------------------\u001b[0m",
      "\u001b[1;31mTypeError\u001b[0m                                 Traceback (most recent call last)",
      "Cell \u001b[1;32mIn[15], line 2\u001b[0m\n\u001b[0;32m      1\u001b[0m A \u001b[38;5;241m=\u001b[39m {\u001b[38;5;241m1\u001b[39m,\u001b[38;5;241m2\u001b[39m,\u001b[38;5;241m3\u001b[39m,\u001b[38;5;241m4\u001b[39m,\u001b[38;5;241m5\u001b[39m}\n\u001b[1;32m----> 2\u001b[0m A\u001b[38;5;241m.\u001b[39mupdate(\u001b[38;5;241m1\u001b[39m)\n",
      "\u001b[1;31mTypeError\u001b[0m: 'int' object is not iterable"
     ]
    }
   ],
   "source": [
    "A = {1,2,3,4,5}\n",
    "A.update(1)"
   ]
  },
  {
   "cell_type": "markdown",
   "id": "83e31d6a",
   "metadata": {},
   "source": [
    "## *************************************************************************************************************"
   ]
  },
  {
   "cell_type": "markdown",
   "id": "edb067d2",
   "metadata": {},
   "source": [
    "## *************************************************************************************************************"
   ]
  }
 ],
 "metadata": {
  "kernelspec": {
   "display_name": "Python 3 (ipykernel)",
   "language": "python",
   "name": "python3"
  },
  "language_info": {
   "codemirror_mode": {
    "name": "ipython",
    "version": 3
   },
   "file_extension": ".py",
   "mimetype": "text/x-python",
   "name": "python",
   "nbconvert_exporter": "python",
   "pygments_lexer": "ipython3",
   "version": "3.11.4"
  }
 },
 "nbformat": 4,
 "nbformat_minor": 5
}
